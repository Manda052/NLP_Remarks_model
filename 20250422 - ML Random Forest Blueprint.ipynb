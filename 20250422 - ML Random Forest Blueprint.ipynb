{
  "nbformat": 4,
  "nbformat_minor": 0,
  "metadata": {
    "colab": {
      "provenance": []
    },
    "kernelspec": {
      "name": "python3",
      "display_name": "Python 3"
    },
    "language_info": {
      "name": "python"
    }
  },
  "cells": [
    {
      "cell_type": "code",
      "source": [
        "!pip install tweet-preprocessor\n",
        "!pip install sastrawi\n",
        "!pip install emoji\n",
        "!pip install PySastrawi\n",
        "!pip install scikit-learn==1.6.0"
      ],
      "metadata": {
        "colab": {
          "base_uri": "https://localhost:8080/"
        },
        "id": "NP1Jae9UzWrf",
        "outputId": "1e289fdd-d4d1-4b9f-fa95-80137c12ef34"
      },
      "execution_count": null,
      "outputs": [
        {
          "output_type": "stream",
          "name": "stdout",
          "text": [
            "Collecting tweet-preprocessor\n",
            "  Downloading tweet_preprocessor-0.6.0-py3-none-any.whl.metadata (5.9 kB)\n",
            "Downloading tweet_preprocessor-0.6.0-py3-none-any.whl (27 kB)\n",
            "Installing collected packages: tweet-preprocessor\n",
            "Successfully installed tweet-preprocessor-0.6.0\n",
            "Collecting sastrawi\n",
            "  Downloading Sastrawi-1.0.1-py2.py3-none-any.whl.metadata (909 bytes)\n",
            "Downloading Sastrawi-1.0.1-py2.py3-none-any.whl (209 kB)\n",
            "\u001b[2K   \u001b[90m━━━━━━━━━━━━━━━━━━━━━━━━━━━━━━━━━━━━━━━━\u001b[0m \u001b[32m209.7/209.7 kB\u001b[0m \u001b[31m3.6 MB/s\u001b[0m eta \u001b[36m0:00:00\u001b[0m\n",
            "\u001b[?25hInstalling collected packages: sastrawi\n",
            "Successfully installed sastrawi-1.0.1\n",
            "Collecting emoji\n",
            "  Downloading emoji-2.14.0-py3-none-any.whl.metadata (5.7 kB)\n",
            "Downloading emoji-2.14.0-py3-none-any.whl (586 kB)\n",
            "\u001b[2K   \u001b[90m━━━━━━━━━━━━━━━━━━━━━━━━━━━━━━━━━━━━━━━━\u001b[0m \u001b[32m586.9/586.9 kB\u001b[0m \u001b[31m7.2 MB/s\u001b[0m eta \u001b[36m0:00:00\u001b[0m\n",
            "\u001b[?25hInstalling collected packages: emoji\n",
            "Successfully installed emoji-2.14.0\n",
            "Collecting PySastrawi\n",
            "  Downloading PySastrawi-1.2.0-py2.py3-none-any.whl.metadata (892 bytes)\n",
            "Downloading PySastrawi-1.2.0-py2.py3-none-any.whl (210 kB)\n",
            "\u001b[2K   \u001b[90m━━━━━━━━━━━━━━━━━━━━━━━━━━━━━━━━━━━━━━━━\u001b[0m \u001b[32m210.6/210.6 kB\u001b[0m \u001b[31m4.5 MB/s\u001b[0m eta \u001b[36m0:00:00\u001b[0m\n",
            "\u001b[?25hInstalling collected packages: PySastrawi\n",
            "Successfully installed PySastrawi-1.2.0\n",
            "Collecting scikit-learn==1.6.0\n",
            "  Downloading scikit_learn-1.6.0-cp310-cp310-manylinux_2_17_x86_64.manylinux2014_x86_64.whl.metadata (18 kB)\n",
            "Requirement already satisfied: numpy>=1.19.5 in /usr/local/lib/python3.10/dist-packages (from scikit-learn==1.6.0) (1.26.4)\n",
            "Requirement already satisfied: scipy>=1.6.0 in /usr/local/lib/python3.10/dist-packages (from scikit-learn==1.6.0) (1.13.1)\n",
            "Requirement already satisfied: joblib>=1.2.0 in /usr/local/lib/python3.10/dist-packages (from scikit-learn==1.6.0) (1.4.2)\n",
            "Requirement already satisfied: threadpoolctl>=3.1.0 in /usr/local/lib/python3.10/dist-packages (from scikit-learn==1.6.0) (3.5.0)\n",
            "Downloading scikit_learn-1.6.0-cp310-cp310-manylinux_2_17_x86_64.manylinux2014_x86_64.whl (13.5 MB)\n",
            "\u001b[2K   \u001b[90m━━━━━━━━━━━━━━━━━━━━━━━━━━━━━━━━━━━━━━━━\u001b[0m \u001b[32m13.5/13.5 MB\u001b[0m \u001b[31m93.0 MB/s\u001b[0m eta \u001b[36m0:00:00\u001b[0m\n",
            "\u001b[?25hInstalling collected packages: scikit-learn\n",
            "  Attempting uninstall: scikit-learn\n",
            "    Found existing installation: scikit-learn 1.5.2\n",
            "    Uninstalling scikit-learn-1.5.2:\n",
            "      Successfully uninstalled scikit-learn-1.5.2\n",
            "Successfully installed scikit-learn-1.6.0\n"
          ]
        }
      ]
    },
    {
      "cell_type": "markdown",
      "source": [
        "### ***Import Libraries***"
      ],
      "metadata": {
        "id": "OSsw5bypkazV"
      }
    },
    {
      "cell_type": "code",
      "source": [
        "import pandas as pd\n",
        "from Sastrawi.Stemmer.StemmerFactory import StemmerFactory\n",
        "from Sastrawi.Stemmer.Stemmer import Stemmer\n",
        "from nltk.corpus.reader.twitter import TweetTokenizer\n",
        "from sklearn.feature_extraction.text import CountVectorizer\n",
        "from sklearn.feature_extraction.text import TfidfVectorizer\n",
        "from sklearn.model_selection import train_test_split\n",
        "import re\n",
        "import string\n",
        "import nltk\n",
        "from nltk.corpus import stopwords\n",
        "import numpy as np\n",
        "from sklearn.model_selection import train_test_split\n",
        "\n",
        "# Naive-Bayes' Package\n",
        "from sklearn.ensemble import RandomForestClassifier\n",
        "from sklearn.metrics import accuracy_score, classification_report, confusion_matrix\n",
        "from sklearn.model_selection import cross_val_score\n",
        "from sklearn.model_selection import GridSearchCV\n",
        "from sklearn.pipeline import make_pipeline"
      ],
      "metadata": {
        "id": "8HCNLhXFfmKP"
      },
      "execution_count": null,
      "outputs": []
    },
    {
      "cell_type": "markdown",
      "source": [
        "### ***Data Preprocessing***"
      ],
      "metadata": {
        "id": "vGLyMpyikeMt"
      }
    },
    {
      "cell_type": "code",
      "source": [
        "class TextCleaning:\n",
        "    def __init__(self, glossary, stopwords):\n",
        "        self.glossary = dict(zip(glossary['slang'], glossary['formal']))\n",
        "        self.stopwords = list(stopwords)\n",
        "        self.factory = StemmerFactory()\n",
        "        self.stemmer = self.factory.create_stemmer()\n",
        "        self.tokenizer = TweetTokenizer(preserve_case=False, strip_handles=True, reduce_len=True)\n",
        "\n",
        "    def clean_text(self, text):\n",
        "        #tokenize tweet\n",
        "\n",
        "        text_tokens = self.tokenizer.tokenize(text)\n",
        "\n",
        "        text_clean = []\n",
        "        for word in text_tokens:\n",
        "          if (word not in self.stopwords and\n",
        "              word not in string.punctuation):\n",
        "            stem_word = self.stemmer.stem(word)\n",
        "            text_clean.append(stem_word)\n",
        "        return text_clean\n",
        "\n",
        "    #remove punct\n",
        "    def remove_punct(self, text_list):\n",
        "      text = \" \".join([char for char in text_list if char not in string.punctuation])\n",
        "      return text\n",
        "\n",
        "        #Fungsi Prepocessing\n",
        "\n",
        "    def preprocess(self, text):\n",
        "      text = text.lower() # lowercasing\n",
        "      text = re.sub(r'[^0-9a-zA-Z]+', ' ', text) # non-alpha numeric\n",
        "      text = re.sub(r'[\\d+]+', '', text) # numeric\n",
        "      text = re.sub(r'\\\\x[0-9a-fA-F]{2}', '', text) # emoji\n",
        "      text = ' '.join([self.glossary[word] if word in self.glossary else word for word in text.split()]) # normalize\n",
        "      text = ' '.join(['' if word in self.stopwords else word for word in text.split()]) # stopwords\n",
        "      text = self.remove_punct(self.clean_text(text)) # punctuation\n",
        "      return text"
      ],
      "metadata": {
        "id": "dC5HFJjZpTAl"
      },
      "execution_count": null,
      "outputs": []
    },
    {
      "cell_type": "code",
      "source": [
        "class CreateVocabulary:\n",
        "    def __init__(self, dataset, preprocessor):\n",
        "        self.dataset = dataset\n",
        "        self.preprocessor = preprocessor\n",
        "\n",
        "    def create_corpus(self):\n",
        "        if type(self.dataset) == pd.core.frame.DataFrame:\n",
        "          return list(self.dataset['remarks'])\n",
        "        elif type(self.dataset) == list:\n",
        "          return list(pd.concat(self.dataset)['remarks'])\n",
        "        else:\n",
        "          return None\n",
        "\n",
        "    def create_vocabulary(self):\n",
        "        corpus = self.create_corpus()\n",
        "        vocabulary_list = [self.preprocessor.preprocess(text).split() for text in corpus]\n",
        "        vocabulary = sum(vocabulary_list, [])\n",
        "        vocabulary = list(set(vocabulary))\n",
        "        vocabulary.sort()\n",
        "        vocabulary = dict(zip(vocabulary, range(len(vocabulary))))\n",
        "        return vocabulary"
      ],
      "metadata": {
        "id": "mAmdlvZRAfZ_"
      },
      "execution_count": null,
      "outputs": []
    },
    {
      "cell_type": "code",
      "source": [
        "train = pd.read_csv(\"train_data.csv\", index_col=0).reset_index(drop=True)\n",
        "test = pd.read_csv(\"test_data.csv\", index_col=0).reset_index(drop=True)\n",
        "stopwords = pd.read_csv(\"stopwords.csv\")[\"stopwords\"]\n",
        "glossary = pd.read_csv(\"glossary.csv\", index_col=0).reset_index(drop=True)\n"
      ],
      "metadata": {
        "id": "Mz8xuAhNuMJt"
      },
      "execution_count": null,
      "outputs": []
    },
    {
      "cell_type": "code",
      "source": [
        "preprocessor = TextCleaning(glossary=glossary, stopwords=stopwords)\n",
        "vocabulary = CreateVocabulary([train, test], preprocessor).create_vocabulary()"
      ],
      "metadata": {
        "id": "eQ13sg40F9BB"
      },
      "execution_count": null,
      "outputs": []
    },
    {
      "cell_type": "code",
      "source": [
        "text = \"Saya berkunjung ke rmh kons. fu jb besok pg ada ,a .!?\"\n",
        "c = TextCleaning(glossary=glossary, stopwords=stopwords).preprocess(text)\n",
        "print(c)"
      ],
      "metadata": {
        "colab": {
          "base_uri": "https://localhost:8080/"
        },
        "id": "hs2wHYjNoscB",
        "outputId": "93e37a67-e3d7-4bbd-d6cc-f47cab70179c"
      },
      "execution_count": null,
      "outputs": [
        {
          "output_type": "stream",
          "name": "stdout",
          "text": [
            "kunjung rumah konsumen follow up janji bayar besok pagi\n"
          ]
        }
      ]
    },
    {
      "cell_type": "code",
      "source": [
        "print(vocabulary)"
      ],
      "metadata": {
        "id": "jMUEsO-mDuzq",
        "outputId": "f9b69a1d-cbf4-42a4-ef31-86e08ca81717",
        "colab": {
          "base_uri": "https://localhost:8080/"
        }
      },
      "execution_count": null,
      "outputs": [
        {
          "output_type": "stream",
          "name": "stdout",
          "text": [
            "{'abai': 0, 'abang': 1, 'abar': 2, 'abd': 3, 'abdi': 4, 'abgkat': 5, 'abk': 6, 'absen': 7, 'acara': 8, 'access': 9, 'account': 10, 'aceh': 11, 'ada': 12, 'adabertemu': 13, 'adaby': 14, 'adainfo': 15, 'adajanji': 16, 'adajb': 17, 'adak': 18, 'adakons': 19, 'adaplan': 20, 'adarumah': 21, 'adasedang': 22, 'adaybs': 23, 'adc': 24, 'address': 25, 'adek': 26, 'adha': 27, 'adi': 28, 'adik': 29, 'adike': 30, 'adiknyaunit': 31, 'adisucipto': 32, 'adiyasa': 33, 'admin': 34, 'ads': 35, 'adu': 36, 'afniaty': 37, 'agency': 38, 'agenda': 39, 'agmon': 40, 'agun': 41, 'agung': 42, 'agustus': 43, 'agya': 44, 'ahanf': 45, 'ahir': 46, 'ahli': 47, 'ahmad': 48, 'air': 49, 'airmadidi': 50, 'ajak': 51, 'ajar': 52, 'aji': 53, 'ajik': 54, 'ajikpenekanan': 55, 'aju': 56, 'aka': 57, 'akam': 58, 'akansegera': 59, 'akgor': 60, 'akher': 61, 'akhie': 62, 'akhir': 63, 'akhirbulan': 64, 'akibat': 65, 'akqn': 66, 'akses': 67, 'aktif': 68, 'aktiffam': 69, 'aktivitas': 70, 'aktivitinya': 71, 'aktivy': 72, 'aku': 73, 'al': 74, 'alam': 75, 'alamaain': 76, 'alamat': 77, 'alamatdan': 78, 'alamatsekarang': 79, 'alamatvisit': 80, 'alamay': 81, 'alami': 82, 'alan': 83, 'alas': 84, 'alat': 85, 'albar': 86, 'alesan': 87, 'alfa': 88, 'alfamart': 89, 'alfamidi': 90, 'alfamidii': 91, 'ali': 92, 'alih': 93, 'allekuang': 94, 'almaay': 95, 'alokasi': 96, 'alsan': 97, 'altaudan': 98, 'alternatif': 99, 'alun': 100, 'ama': 101, 'aman': 102, 'ambal': 103, 'ambar': 104, 'ambawang': 105, 'ambil': 106, 'ambon': 107, 'aminuddin': 108, 'amor': 109, 'amortisasi': 110, 'ampana': 111, 'amprak': 112, 'amurang': 113, 'an': 114, 'ana': 115, 'anak': 116, 'andai': 117, 'andal': 118, 'andi': 119, 'andri': 120, 'andriyanto': 121, 'angakt': 122, 'anggota': 123, 'anggraini': 124, 'angjtan': 125, 'angka': 126, 'angkat': 127, 'angkul': 128, 'angkut': 129, 'angkutanfam': 130, 'angota': 131, 'angs': 132, 'angso': 133, 'angsur': 134, 'angsuranelalui': 135, 'angsurannyatidak': 136, 'angsurannyaunit': 137, 'angsuranya': 138, 'ankat': 139, 'anknyainfo': 140, 'annisa': 141, 'ano': 142, 'antar': 143, 'antat': 144, 'antri': 145, 'api': 146, 'apip': 147, 'aplikasi': 148, 'apotek': 149, 'april': 150, 'aprilunit': 151, 'arah': 152, 'arahin': 153, 'arahman': 154, 'arap': 155, 'ardy': 156, 'area': 157, 'argumen': 158, 'ari': 159, 'arianto': 160, 'arifin': 161, 'ariska': 162, 'arjawinangun': 163, 'arling': 164, 'arman': 165, 'arsan': 166, 'art': 167, 'asa': 168, 'asai': 169, 'asep': 170, 'aset': 171, 'ashar': 172, 'asia': 173, 'asiap': 174, 'asli': 175, 'asnawai': 176, 'asrama': 177, 'asramaby': 178, 'asramanha': 179, 'asri': 180, 'assign': 181, 'assing': 182, 'asti': 183, 'asuran': 184, 'asuransi': 185, 'at': 186, 'atan': 187, 'atas': 188, 'atasnama': 189, 'awal': 190, 'awas': 191, 'awin': 192, 'ayah': 193, 'ayam': 194, 'ayamaru': 195, 'ayamunit': 196, 'ayar': 197, 'aybs': 198, 'ayg': 199, 'azhar': 200, 'aziz': 201, 'azzam': 202, 'ba': 203, 'baayar': 204, 'babelan': 205, 'babi': 206, 'baca': 207, 'back': 208, 'bad': 209, 'badak': 210, 'badan': 211, 'badd': 212, 'baddebt': 213, 'bagi': 214, 'bagus': 215, 'bahan': 216, 'baharu': 217, 'bahas': 218, 'bahasa': 219, 'baik': 220, 'baikpk': 221, 'bailusi': 222, 'baju': 223, 'bakso': 224, 'bakti': 225, 'bal': 226, 'balai': 227, 'balaidesa': 228, 'balandai': 229, 'balas': 230, 'baldes': 231, 'bambe': 232, 'bamh': 233, 'bamhs': 234, 'bams': 235, 'ban': 236, 'bandar': 237, 'bandara': 238, 'bandoa': 239, 'bandung': 240, 'bang': 241, 'bangka': 242, 'bangkinang': 243, 'bangkirai': 244, 'bangkit': 245, 'bangko': 246, 'bangkrut': 247, 'bangkrutrencan': 248, 'bangsa': 249, 'bangsal': 250, 'bangun': 251, 'banjarbaru': 252, 'banjarmasin': 253, 'banjir': 254, 'bank': 255, 'banking': 256, 'bantu': 257, 'banyun': 258, 'bapak': 259, 'bar': 260, 'barang': 261, 'barat': 262, 'baru': 263, 'barusan': 264, 'basil': 265, 'batang': 266, 'batas': 267, 'bate': 268, 'baterai': 269, 'batray': 270, 'batre': 271, 'batu': 272, 'bawa': 273, 'bawak': 274, 'bawang': 275, 'bay': 276, 'bayan': 277, 'bayar': 278, 'bayarb': 279, 'bayarin': 280, 'bayarkemdlaa': 281, 'bayarkons': 282, 'bbrapa': 283, 'beach': 284, 'beam': 285, 'beat': 286, 'beda': 287, 'bego': 288, 'bekas': 289, 'bekatul': 290, 'bekerjabertemu': 291, 'bekerjadihubungi': 292, 'bekerjasudah': 293, 'belah': 294, 'belakang': 295, 'belanja': 296, 'beli': 297, 'beliau': 298, 'belit': 299, 'belitung': 300, 'belumnada': 301, 'belumnrespont': 302, 'bendahara': 303, 'bendosewu': 304, 'bengkel': 305, 'bengsoan': 306, 'benkel': 307, 'benny': 308, 'bensin': 309, 'bentur': 310, 'benua': 311, 'berangkat': 312, 'berat': 313, 'beri': 314, 'berkas': 315, 'bertemifam': 316, 'bertemuby': 317, 'bertemy': 318, 'bertenggung': 319, 'bertmu': 320, 'bertrmu': 321, 'besok': 322, 'besokunit': 323, 'besokvisit': 324, 'besuk': 325, 'betemue': 326, 'bethesda': 327, 'bfi': 328, 'bfisudah': 329, 'bgian': 330, 'bgti': 331, 'biar': 332, 'biaya': 333, 'biayasebelum': 334, 'bicara': 335, 'bidang': 336, 'bikin': 337, 'bilang': 338, 'bingung': 339, 'bintang': 340, 'birman': 341, 'biro': 342, 'bituh': 343, 'bitung': 344, 'bkerja': 345, 'blank': 346, 'bleset': 347, 'blimbing': 348, 'block': 349, 'blok': 350, 'blokir': 351, 'bnjar': 352, 'bnjarnegara': 353, 'boalemo': 354, 'bogor': 355, 'bohong': 356, 'bojonegroro': 357, 'boleh': 358, 'bombana': 359, 'bontang': 360, 'bonus': 361, 'bor': 362, 'boromeus': 363, 'borong': 364, 'bos': 365, 'box': 366, 'bp': 367, 'bpd': 368, 'bpjs': 369, 'bpkb': 370, 'bpm': 371, 'bpn': 372, 'bpr': 373, 'bpsk': 374, 'brambang': 375, 'brd': 376, 'breafing': 377, 'breset': 378, 'bri': 379, 'brigif': 380, 'brimob': 381, 'briva': 382, 'brobat': 383, 'broken': 384, 'brondolan': 385, 'brteju': 386, 'brtm': 387, 'brtmu': 388, 'brtnyanke': 389, 'brusan': 390, 'bsd': 391, 'btc': 392, 'btn': 393, 'bu': 394, 'buah': 395, 'buat': 396, 'buc': 397, 'bucket': 398, 'budi': 399, 'budinext': 400, 'buka': 401, 'bukafam': 402, 'bukti': 403, 'bulan': 404, 'bulandan': 405, 'bulanfam': 406, 'bulanjbbayar': 407, 'bulanpress': 408, 'bulansisanya': 409, 'bulu': 410, 'bulung': 411, 'bumi': 412, 'bupati': 413, 'burik': 414, 'burjonanselesei': 415, 'buru': 416, 'buruk': 417, 'burukk': 418, 'burung': 419, 'bus': 420, 'by': 421, 'bybohone': 422, 'bye': 423, 'byfhone': 424, 'byfon': 425, 'byohone': 426, 'byp': 427, 'byphoen': 428, 'byphone': 429, 'ca': 430, 'cab': 431, 'cabang': 432, 'cabay': 433, 'cafe': 434, 'cahyoni': 435, 'cahyono': 436, 'cair': 437, 'calk': 438, 'call': 439, 'calo': 440, 'calon': 441, 'camat': 442, 'camming': 443, 'campur': 444, 'camry': 445, 'candirenggo': 446, 'candu': 447, 'cangkring': 448, 'capil': 449, 'car': 450, 'caracas': 451, 'cari': 452, 'carrent': 453, 'case': 454, 'cash': 455, 'catering': 456, 'cc': 457, 'cecep': 458, 'cek': 459, 'cekling': 460, 'ceklis': 461, 'celaka': 462, 'cempaka': 463, 'center': 464, 'cepat': 465, 'cerai': 466, 'cetak': 467, 'cewek': 468, 'chandra': 469, 'character': 470, 'chat': 471, 'checkup': 472, 'cheng': 473, 'chuk': 474, 'ciantra': 475, 'cibanteng': 476, 'cibenda': 477, 'cibeunying': 478, 'cicil': 479, 'cidera': 480, 'cikarang': 481, 'cikeunyi': 482, 'cikutra': 483, 'cilok': 484, 'cinde': 485, 'cinunuk': 486, 'cipetir': 487, 'ciptodan': 488, 'ciputat': 489, 'cirebon': 490, 'citra': 491, 'city': 492, 'cityland': 493, 'ciwidey': 494, 'claim': 495, 'class': 496, 'cms': 497, 'cnpl': 498, 'coba': 499, 'cocok': 500, 'cod': 501, 'codan': 502, 'codenan': 503, 'collapse': 504, 'collection': 505, 'collector': 506, 'complet': 507, 'confin': 508, 'confins': 509, 'consumen': 510, 'contact': 511, 'contak': 512, 'corfri': 513, 'corporate': 514, 'crikan': 515, 'cs': 516, 'csi': 517, 'ctr': 518, 'cucu': 519, 'cukup': 520, 'cukupjika': 521, 'cuman': 522, 'curah': 523, 'curent': 524, 'curi': 525, 'current': 526, 'currentcod': 527, 'currentdan': 528, 'curretkons': 529, 'currnet': 530, 'custbkerja': 531, 'customer': 532, 'custrumah': 533, 'cuti': 534, 'dab': 535, 'dadaha': 536, 'daei': 537, 'daera': 538, 'daerah': 539, 'dagang': 540, 'dagangdeb': 541, 'daging': 542, 'dah': 543, 'dahlan': 544, 'daily': 545, 'dakam': 546, 'dal': 547, 'dalam': 548, 'dalih': 549, 'dalu': 550, 'damping': 551, 'dana': 552, 'danaakand': 553, 'danaatas': 554, 'danah': 555, 'danang': 556, 'danankons': 557, 'danaraja': 558, 'dapat': 559, 'dar': 560, 'darat': 561, 'darmawan': 562, 'darsih': 563, 'darurat': 564, 'data': 565, 'datang': 566, 'date': 567, 'dateline': 568, 'dawe': 569, 'dawet': 570, 'dayodara': 571, 'db': 572, 'dbtr': 573, 'dbyrkn': 574, 'ddg': 575, 'deadline': 576, 'dealan': 577, 'dealer': 578, 'deb': 579, 'debbayar': 580, 'debitu': 581, 'debitur': 582, 'debiturtapi': 583, 'debjumpa': 584, 'debt': 585, 'debtdebt': 586, 'debtibu': 587, 'debtpunya': 588, 'deden': 589, 'dedi': 590, 'dedy': 591, 'deg': 592, 'dekat': 593, 'demgan': 594, 'denah': 595, 'denda': 596, 'dengab': 597, 'dengar': 598, 'dengkol': 599, 'dengn': 600, 'denpom': 601, 'denzipur': 602, 'deotapi': 603, 'depan': 604, 'depitur': 605, 'deras': 606, 'dersalan': 607, 'desa': 608, 'desak': 609, 'desi': 610, 'detail': 611, 'deteksi': 612, 'developer': 613, 'dewan': 614, 'dewi': 615, 'dewiza': 616, 'dgan': 617, 'dhbngi': 618, 'dia': 619, 'dialfamartunit': 620, 'diam': 621, 'diangkatfam': 622, 'diangkt': 623, 'diasset': 624, 'dibalamt': 625, 'dibanjarmasin': 626, 'dibkantir': 627, 'dibsd': 628, 'dibyarkan': 629, 'dibypass': 630, 'dibyphone': 631, 'dicollector': 632, 'didawe': 633, 'dideket': 634, 'didlm': 635, 'difu': 636, 'digadaibeam': 637, 'digade': 638, 'digadekan': 639, 'dihandil': 640, 'dihub': 641, 'dihubungin': 642, 'diindomaret': 643, 'diinput': 644, 'dijakarta': 645, 'dijawa': 646, 'dijualfam': 647, 'dikantorno': 648, 'dikantorrencana': 649, 'dikarnakan': 650, 'dikarnkan': 651, 'dikawwl': 652, 'dikebumen': 653, 'dikit': 654, 'dikos': 655, 'dikost': 656, 'dikostx': 657, 'dikpora': 658, 'dikrnakan': 659, 'diluardiindomaret': 660, 'dimalaysiadihubungi': 661, 'dimangkal': 662, 'dinalamat': 663, 'dinas': 664, 'dinkantornego': 665, 'dinper': 666, 'dinsistem': 667, 'dioverbkons': 668, 'diperjalana': 669, 'dipucakwanginganter': 670, 'direktur': 671, 'direspon': 672, 'diresponkons': 673, 'direvisit': 674, 'diri': 675, 'dirs': 676, 'diruma': 677, 'dirumahinfo': 678, 'dirumahunit': 679, 'dirumh': 680, 'dis': 681, 'disamperin': 682, 'disbya': 683, 'discount': 684, 'disinitapi': 685, 'disintangdihubungi': 686, 'diskon': 687, 'dislsaikan': 688, 'disuhkn': 689, 'ditandatangani': 690, 'ditelfon': 691, 'ditelkom': 692, 'ditemennya': 693, 'ditempatby': 694, 'ditgl': 695, 'ditkp': 696, 'ditlfon': 697, 'ditlpon': 698, 'ditpt': 699, 'diusahakam': 700, 'diusahakn': 701, 'diushakan': 702, 'divisit': 703, 'diwarkop': 704, 'djorebe': 705, 'dkat': 706, 'dkawal': 707, 'dkh': 708, 'dkmjbggu': 709, 'dkost': 710, 'dkt': 711, 'dkuasai': 712, 'dlsebagai': 713, 'dluunit': 714, 'dna': 715, 'dnanya': 716, 'dngn': 717, 'dokumentasi': 718, 'domisili': 719, 'donat': 720, 'done': 721, 'donohudan': 722, 'donri': 723, 'dp': 724, 'dpa': 725, 'dpake': 726, 'dpat': 727, 'dpc': 728, 'dpi': 729, 'dprd': 730, 'dragon': 731, 'dramaga': 732, 'driver': 733, 'drmhbrtmu': 734, 'drmhkons': 735, 'drop': 736, 'drs': 737, 'drumah': 738, 'dselipkan': 739, 'dsingkut': 740, 'dsri': 741, 'dtempat': 742, 'dtko': 743, 'dtmpat': 744, 'dtrima': 745, 'dttipkan': 746, 'dua': 747, 'due': 748, 'duka': 749, 'dunia': 750, 'duo': 751, 'durian': 752, 'dusun': 753, 'dwi': 754, 'ecer': 755, 'edc': 756, 'edcdivisit': 757, 'edckons': 758, 'edukasi': 759, 'eespon': 760, 'eke': 761, 'ekscoll': 762, 'eksekusi': 763, 'ekskalasi': 764, 'ekspektasi': 765, 'eksternal': 766, 'elpiji': 767, 'emas': 768, 'emergency': 769, 'emergnecy': 770, 'emi': 771, 'empang': 772, 'empat': 773, 'end': 774, 'endin': 775, 'eraguna': 776, 'erlin': 777, 'erna': 778, 'eror': 779, 'error': 780, 'erwin': 781, 'es': 782, 'eskalasi': 783, 'etikat': 784, 'euis': 785, 'ex': 786, 'exa': 787, 'exit': 788, 'express': 789, 'exs': 790, 'famakan': 791, 'fams': 792, 'fan': 793, 'fanny': 794, 'farisa': 795, 'farma': 796, 'farmasi': 797, 'fasdu': 798, 'fauzan': 799, 'fc': 800, 'feam': 801, 'febri': 802, 'februari': 803, 'february': 804, 'fernando': 805, 'fia': 806, 'field': 807, 'fif': 808, 'fiktif': 809, 'finance': 810, 'fine': 811, 'finebar': 812, 'firdaus': 813, 'fisit': 814, 'fitri': 815, 'floper': 816, 'flores': 817, 'flow': 818, 'fo': 819, 'fobiainput': 820, 'fol': 821, 'follow': 822, 'followup': 823, 'follup': 824, 'fon': 825, 'fone': 826, 'food': 827, 'form': 828, 'foto': 829, 'fotografi': 830, 'franki': 831, 'frelane': 832, 'front': 833, 'ftdk': 834, 'fub': 835, 'fubhy': 836, 'full': 837, 'fun': 838, 'funkmbli': 839, 'funphone': 840, 'funybs': 841, 'fus': 842, 'gadai': 843, 'gadaidan': 844, 'gading': 845, 'gagal': 846, 'gajah': 847, 'gajam': 848, 'gaji': 849, 'gajianbeam': 850, 'gajianjb': 851, 'gajianya': 852, 'gajih': 853, 'gajihsuami': 854, 'gajinote': 855, 'galaxy': 856, 'gali': 857, 'gamis': 858, 'ganda': 859, 'gandi': 860, 'gang': 861, 'ganggu': 862, 'ganguan': 863, 'ganti': 864, 'gantung': 865, 'garapn': 866, 'garut': 867, 'gass': 868, 'gebang': 869, 'gedek': 870, 'gedor': 871, 'gedung': 872, 'gelap': 873, 'gelut': 874, 'gembok': 875, 'gembong': 876, 'genang': 877, 'genap': 878, 'gendang': 879, 'gera': 880, 'gerson': 881, 'gerung': 882, 'gessy': 883, 'ggu': 884, 'ghani': 885, 'giat': 886, 'girang': 887, 'giri': 888, 'glagah': 889, 'go': 890, 'gocar': 891, 'gojek': 892, 'gondang': 893, 'gondangrejo': 894, 'google': 895, 'gor': 896, 'goreng': 897, 'gorong': 898, 'gorontalo': 899, 'gorut': 900, 'grab': 901, 'grib': 902, 'grijingi': 903, 'gts': 904, 'gu': 905, 'gubug': 906, 'gudang': 907, 'gudhas': 908, 'gudo': 909, 'gue': 910, 'guna': 911, 'guntur': 912, 'gunung': 913, 'guru': 914, 'habbit': 915, 'habis': 916, 'hadir': 917, 'haidar': 918, 'haji': 919, 'hak': 920, 'halaman': 921, 'ham': 922, 'hancur': 923, 'hand': 924, 'handil': 925, 'handle': 926, 'handling': 927, 'hannya': 928, 'harap': 929, 'harga': 930, 'hari': 931, 'harisabtu': 932, 'has': 933, 'hasil': 934, 'hati': 935, 'hbgi': 936, 'hbngi': 937, 'hc': 938, 'hendriadi': 939, 'herbal': 940, 'heriyanto': 941, 'hermina': 942, 'hibur': 943, 'hidayat': 944, 'hidup': 945, 'hilang': 946, 'hilirsaar': 947, 'hindar': 948, 'hirarki': 949, 'hitang': 950, 'hitung': 951, 'hj': 952, 'hnaya': 953, 'hngi': 954, 'ho': 955, 'honda': 956, 'honorer': 957, 'hoo': 958, 'hp': 959, 'hrd': 960, 'hsil': 961, 'hsl': 962, 'hubgi': 963, 'hubung': 964, 'hubungin': 965, 'hujan': 966, 'hukum': 967, 'huluakan': 968, 'huni': 969, 'hutaimbaru': 970, 'hutan': 971, 'hutang': 972, 'hutangplan': 973, 'ib': 974, 'ibu': 975, 'ibunyapress': 976, 'idam': 977, 'idul': 978, 'ii': 979, 'iii': 980, 'ijen': 981, 'ijin': 982, 'ikan': 983, 'ikang': 984, 'ikke': 985, 'ikut': 986, 'imam': 987, 'impor': 988, 'imput': 989, 'indah': 990, 'indak': 991, 'india': 992, 'indihiangdan': 993, 'indikasi': 994, 'indokiat': 995, 'indomaret': 996, 'indomaretbayar': 997, 'indomart': 998, 'indra': 999, 'indramayu': 1000, 'infi': 1001, 'infinya': 1002, 'info': 1003, 'infonkons': 1004, 'infony': 1005, 'infonyns': 1006, 'informan': 1007, 'informasi': 1008, 'infox': 1009, 'infutan': 1010, 'ingat': 1011, 'ingfo': 1012, 'ingkar': 1013, 'inikenapa': 1014, 'inj': 1015, 'inova': 1016, 'inpers': 1017, 'input': 1018, 'inputan': 1019, 'insentif': 1020, 'instal': 1021, 'intel': 1022, 'interaksi': 1023, 'internal': 1024, 'intraksi': 1025, 'invoice': 1026, 'ion': 1027, 'ipar': 1028, 'iqbal': 1029, 'irep': 1030, 'irnawati': 1031, 'isa': 1032, 'isi': 1033, 'iskak': 1034, 'ismail': 1035, 'istirahat': 1036, 'istri': 1037, 'istrinyaada': 1038, 'istrinyabeam': 1039, 'itc': 1040, 'itik': 1041, 'itikad': 1042, 'itikat': 1043, 'iv': 1044, 'iwan': 1045, 'ix': 1046, 'iya': 1047, 'izin': 1048, 'jadwal': 1049, 'jaga': 1050, 'jago': 1051, 'jagung': 1052, 'jahit': 1053, 'jak': 1054, 'jakarta': 1055, 'jalal': 1056, 'jalan': 1057, 'jalannunggu': 1058, 'jam': 1059, 'jamin': 1060, 'jani': 1061, 'janj': 1062, 'janjeni': 1063, 'janji': 1064, 'japo': 1065, 'jarak': 1066, 'jarakosta': 1067, 'jarang': 1068, 'jaring': 1069, 'jaringankons': 1070, 'jasa': 1071, 'jaspel': 1072, 'jaten': 1073, 'jati': 1074, 'jatiluhur': 1075, 'jatinom': 1076, 'jatisari': 1077, 'jatuh': 1078, 'jawa': 1079, 'jaya': 1080, 'jbi': 1081, 'jbnya': 1082, 'jbpasti': 1083, 'je': 1084, 'jelas': 1085, 'jelek': 1086, 'jembar': 1087, 'jenitri': 1088, 'jenu': 1089, 'jepang': 1090, 'jepara': 1091, 'jernih': 1092, 'jikaa': 1093, 'jjb': 1094, 'jl': 1095, 'jls': 1096, 'jlskan': 1097, 'jm': 1098, 'jmp': 1099, 'jn': 1100, 'jnj': 1101, 'joan': 1102, 'job': 1103, 'jogja': 1104, 'jogonalan': 1105, 'john': 1106, 'jojo': 1107, 'jojoran': 1108, 'joyo': 1109, 'jrg': 1110, 'jth': 1111, 'jtp': 1112, 'jtuh': 1113, 'jual': 1114, 'judi': 1115, 'juli': 1116, 'jum': 1117, 'jumat': 1118, 'jump': 1119, 'jumpa': 1120, 'jung': 1121, 'jungkatinteraksi': 1122, 'juni': 1123, 'junrejo': 1124, 'jurang': 1125, 'juru': 1126, 'juta': 1127, 'kab': 1128, 'kabar': 1129, 'kabel': 1130, 'kabupaten': 1131, 'kabur': 1132, 'kaca': 1133, 'kacung': 1134, 'kadang': 1135, 'kadek': 1136, 'kademangan': 1137, 'kades': 1138, 'kadipiro': 1139, 'kait': 1140, 'kajen': 1141, 'kak': 1142, 'kakak': 1143, 'kakek': 1144, 'kaki': 1145, 'kali': 1146, 'kalibalok': 1147, 'kalidawir': 1148, 'kaligoro': 1149, 'kalijaga': 1150, 'kalimantan': 1151, 'kalioso': 1152, 'kalo': 1153, 'kaluarga': 1154, 'kamana': 1155, 'kamar': 1156, 'kambinginfo': 1157, 'kamis': 1158, 'kampung': 1159, 'kampungkonsumen': 1160, 'kampus': 1161, 'kamtor': 1162, 'kandang': 1163, 'kandung': 1164, 'kanit': 1165, 'kantin': 1166, 'kantor': 1167, 'kantorbayar': 1168, 'kantorby': 1169, 'kantorkaraktwr': 1170, 'kantorkons': 1171, 'kantorsudah': 1172, 'kantortitip': 1173, 'kantorybs': 1174, 'kapaditas': 1175, 'kapal': 1176, 'kapas': 1177, 'kapasitas': 1178, 'kapasitasdebt': 1179, 'kapasitasnunggu': 1180, 'kapasitaspress': 1181, 'kapling': 1182, 'kapsitas': 1183, 'kapur': 1184, 'karaker': 1185, 'karakter': 1186, 'karang': 1187, 'karanganyar': 1188, 'karena': 1189, 'kari': 1190, 'kariyawan': 1191, 'karma': 1192, 'karnakan': 1193, 'karne': 1194, 'karoke': 1195, 'karya': 1196, 'karyawan': 1197, 'karyawannya': 1198, 'kasbonan': 1199, 'kase': 1200, 'kasih': 1201, 'kasir': 1202, 'katering': 1203, 'katnya': 1204, 'kau': 1205, 'kawa': 1206, 'kawak': 1207, 'kawal': 1208, 'kawan': 1209, 'kawlan': 1210, 'kayen': 1211, 'kayu': 1212, 'kayun': 1213, 'kbradaan': 1214, 'keadaab': 1215, 'kealamqt': 1216, 'kealamt': 1217, 'kebajiran': 1218, 'kebaradaan': 1219, 'kebon': 1220, 'kebradaan': 1221, 'kebtempat': 1222, 'kebumen': 1223, 'kebun': 1224, 'kec': 1225, 'kece': 1226, 'kedawungdana': 1227, 'kedawunv': 1228, 'kee': 1229, 'keelasan': 1230, 'kejar': 1231, 'kejelassan': 1232, 'kejja': 1233, 'kekantorjanji': 1234, 'kekaryawan': 1235, 'kekeh': 1236, 'kekost': 1237, 'kekurangn': 1238, 'kelamat': 1239, 'kelapa': 1240, 'kelapaybs': 1241, 'kelas': 1242, 'kelililng': 1243, 'keliling': 1244, 'kelola': 1245, 'keluar': 1246, 'keluaraga': 1247, 'keluarakan': 1248, 'keluarditunggu': 1249, 'keluarg': 1250, 'keluarga': 1251, 'keluargainfo': 1252, 'keluarr': 1253, 'keluarusaha': 1254, 'kelyarga': 1255, 'kemanadan': 1256, 'kemanapada': 1257, 'kemanatitip': 1258, 'kemantren': 1259, 'kemarin': 1260, 'kembali': 1261, 'kembalifam': 1262, 'kembang': 1263, 'kembi': 1264, 'kembli': 1265, 'kena': 1266, 'kenal': 1267, 'kenalby': 1268, 'kencelakaandan': 1269, 'kendala': 1270, 'kendari': 1271, 'keoranhg': 1272, 'keortu': 1273, 'kepala': 1274, 'kepam': 1275, 'kepolres': 1276, 'keponakan': 1277, 'kepul': 1278, 'ker': 1279, 'kerabat': 1280, 'keras': 1281, 'kerbau': 1282, 'kere': 1283, 'kereng': 1284, 'kerhmh': 1285, 'kerj': 1286, 'kerja': 1287, 'kerjaakan': 1288, 'kerjabaru': 1289, 'kerjadeb': 1290, 'kerjadihubungi': 1291, 'kerjainfo': 1292, 'kerjandi': 1293, 'kerjanyasudah': 1294, 'kermh': 1295, 'kerna': 1296, 'kertas': 1297, 'kerupuk': 1298, 'kes': 1299, 'kesana': 1300, 'kesekadau': 1301, 'kesini': 1302, 'ket': 1303, 'keteku': 1304, 'ketel': 1305, 'ketemu': 1306, 'ketemuana': 1307, 'ketemubdi': 1308, 'ketemuvanak': 1309, 'ketemy': 1310, 'ketenu': 1311, 'ketja': 1312, 'ketmeu': 1313, 'ketmu': 1314, 'ketua': 1315, 'ketuk': 1316, 'kevtempat': 1317, 'kimia': 1318, 'kimput': 1319, 'kinjungan': 1320, 'kios': 1321, 'kiri': 1322, 'kirim': 1323, 'kistri': 1324, 'kkns': 1325, 'klaim': 1326, 'klari': 1327, 'klaten': 1328, 'klenteng': 1329, 'klien': 1330, 'kliwon': 1331, 'klr': 1332, 'kluarby': 1333, 'kluarganya': 1334, 'kluargax': 1335, 'klx': 1336, 'kmbli': 1337, 'kmna': 1338, 'kmngkinan': 1339, 'kmpung': 1340, 'knjngn': 1341, 'kns': 1342, 'knsmn': 1343, 'kntor': 1344, 'kolektor': 1345, 'koma': 1346, 'komadannya': 1347, 'komitmen': 1348, 'komp': 1349, 'kompensasi': 1350, 'komplain': 1351, 'komplek': 1352, 'komplin': 1353, 'koms': 1354, 'komsume': 1355, 'komsumen': 1356, 'komunikasi': 1357, 'kon': 1358, 'kona': 1359, 'konaumen': 1360, 'kond': 1361, 'kondisi': 1362, 'konfeksi': 1363, 'konfirm': 1364, 'konfirmasi': 1365, 'konsada': 1366, 'konsagar': 1367, 'konsakan': 1368, 'konsbertemu': 1369, 'konsby': 1370, 'konsdi': 1371, 'konskons': 1372, 'konslgi': 1373, 'konsmnnya': 1374, 'konsmuen': 1375, 'konsnamun': 1376, 'konsnmsh': 1377, 'konsnsdh': 1378, 'konsntdk': 1379, 'konspunya': 1380, 'konst': 1381, 'konstan': 1382, 'konstrad': 1383, 'konsuem': 1384, 'konsuemn': 1385, 'konsultasi': 1386, 'konsum': 1387, 'konsuman': 1388, 'konsume': 1389, 'konsumeb': 1390, 'konsumej': 1391, 'konsumem': 1392, 'konsumen': 1393, 'konsumenakan': 1394, 'konsumend': 1395, 'konsumeninteraksi': 1396, 'konsumenketemu': 1397, 'konsumenketemuan': 1398, 'konsumenkonsumen': 1399, 'konsumenmasih': 1400, 'konsumennamun': 1401, 'konsumenpemakai': 1402, 'konsumenpintu': 1403, 'konsumenposisi': 1404, 'konsumenrumah': 1405, 'konsumensebelumnya': 1406, 'konsumensp': 1407, 'konsumenter': 1408, 'konsumentidak': 1409, 'konsumenunit': 1410, 'konsumrn': 1411, 'konsybs': 1412, 'konsymen': 1413, 'kontak': 1414, 'kontra': 1415, 'kontrak': 1416, 'konut': 1417, 'konveksi': 1418, 'kooperatif': 1419, 'kooperatifdi': 1420, 'koordinasi': 1421, 'koorperatif': 1422, 'kopasus': 1423, 'koperasi': 1424, 'koperasijanji': 1425, 'koperatif': 1426, 'koperstif': 1427, 'kopertif': 1428, 'kopi': 1429, 'kopra': 1430, 'kopratif': 1431, 'koramil': 1432, 'kordinasikan': 1433, 'korem': 1434, 'korwil': 1435, 'kos': 1436, 'kosan': 1437, 'kosannya': 1438, 'kosmuem': 1439, 'kosn': 1440, 'kosnumen': 1441, 'kosnya': 1442, 'kosong': 1443, 'kosongdihubungi': 1444, 'kosonginfo': 1445, 'kosonginformasi': 1446, 'kosongsedang': 1447, 'kossan': 1448, 'kost': 1449, 'kostakan': 1450, 'kostan': 1451, 'kostannya': 1452, 'kostel': 1453, 'kostetangga': 1454, 'kostitip': 1455, 'kostny': 1456, 'kostnya': 1457, 'kostrad': 1458, 'kostsannya': 1459, 'kosumen': 1460, 'kota': 1461, 'kotabaru': 1462, 'kotabatu': 1463, 'kotafam': 1464, 'kotahanya': 1465, 'kotaini': 1466, 'kotajb': 1467, 'koteh': 1468, 'kp': 1469, 'kpns': 1470, 'kpufam': 1471, 'krajan': 1472, 'krakter': 1473, 'krawang': 1474, 'kredit': 1475, 'kresek': 1476, 'krim': 1477, 'krisna': 1478, 'krj': 1479, 'krja': 1480, 'krluarga': 1481, 'kronologi': 1482, 'kronologis': 1483, 'kruamh': 1484, 'krumah': 1485, 'krupuk': 1486, 'ks': 1487, 'kse': 1488, 'ksg': 1489, 'ksong': 1490, 'ktersngan': 1491, 'ktm': 1492, 'ktmpat': 1493, 'ktmpt': 1494, 'ktmtp': 1495, 'ktmuan': 1496, 'ktoko': 1497, 'ktp': 1498, 'ktpnya': 1499, 'ktrangan': 1500, 'kua': 1501, 'kuala': 1502, 'kuasa': 1503, 'kuasi': 1504, 'kudus': 1505, 'kuliah': 1506, 'kulon': 1507, 'kumplkn': 1508, 'kumpul': 1509, 'kumpulin': 1510, 'kunci': 1511, 'kuningan': 1512, 'kunir': 1513, 'kunj': 1514, 'kunjjngan': 1515, 'kunjugan': 1516, 'kunjung': 1517, 'kunjunginke': 1518, 'kuota': 1519, 'kurang': 1520, 'kurir': 1521, 'kursi': 1522, 'kurun': 1523, 'kusen': 1524, 'kuta': 1525, 'kuto': 1526, 'kutoanyar': 1527, 'kwandang': 1528, 'lacak': 1529, 'lacakek': 1530, 'ladang': 1531, 'lag': 1532, 'lagiada': 1533, 'laginkeluar': 1534, 'laginusahain': 1535, 'lagipenekanan': 1536, 'lahir': 1537, 'lain': 1538, 'lainkonsumen': 1539, 'lakson': 1540, 'laku': 1541, 'lakuakan': 1542, 'lamaa': 1543, 'lamabtkonsjanji': 1544, 'lamat': 1545, 'lambat': 1546, 'lambt': 1547, 'lamongan': 1548, 'lampia': 1549, 'lamping': 1550, 'lampir': 1551, 'lampu': 1552, 'lamsu': 1553, 'lamunca': 1554, 'langgan': 1555, 'lanjut': 1556, 'lantai': 1557, 'lanud': 1558, 'laohh': 1559, 'lapak': 1560, 'lapang': 1561, 'lapor': 1562, 'larang': 1563, 'lari': 1564, 'larompong': 1565, 'las': 1566, 'lasem': 1567, 'laut': 1568, 'lawan': 1569, 'lawang': 1570, 'lawerang': 1571, 'layan': 1572, 'layar': 1573, 'layat': 1574, 'leasing': 1575, 'lebaran': 1576, 'legacy': 1577, 'legal': 1578, 'legi': 1579, 'legol': 1580, 'leku': 1581, 'lelilef': 1582, 'lemari': 1583, 'lembaga': 1584, 'lemito': 1585, 'lengan': 1586, 'lengkanya': 1587, 'lengkap': 1588, 'lepas': 1589, 'les': 1590, 'letjen': 1591, 'lewang': 1592, 'lgnote': 1593, 'libat': 1594, 'libur': 1595, 'lidya': 1596, 'lil': 1597, 'lilipanga': 1598, 'lin': 1599, 'linda': 1600, 'lindawati': 1601, 'line': 1602, 'linggau': 1603, 'lingkung': 1604, 'lingkungam': 1605, 'link': 1606, 'lippo': 1607, 'lisingkan': 1608, 'list': 1609, 'live': 1610, 'livin': 1611, 'lkunjungan': 1612, 'lmbt': 1613, 'lmp': 1614, 'lngsng': 1615, 'loading': 1616, 'loasi': 1617, 'loc': 1618, 'location': 1619, 'login': 1620, 'lokasi': 1621, 'lomba': 1622, 'lons': 1623, 'lost': 1624, 'lowokjati': 1625, 'lp': 1626, 'lpkarena': 1627, 'lpsk': 1628, 'lu': 1629, 'luar': 1630, 'luardi': 1631, 'luarkons': 1632, 'lugas': 1633, 'lunas': 1634, 'lunasin': 1635, 'lune': 1636, 'lupa': 1637, 'lurah': 1638, 'lusa': 1639, 'maaf': 1640, 'macet': 1641, 'mada': 1642, 'madu': 1643, 'madukara': 1644, 'magrib': 1645, 'main': 1646, 'maintanace': 1647, 'maitanace': 1648, 'majene': 1649, 'makan': 1650, 'makanlagi': 1651, 'makassar': 1652, 'makau': 1653, 'makeret': 1654, 'maks': 1655, 'maksim': 1656, 'maksimal': 1657, 'malam': 1658, 'malamsaya': 1659, 'malang': 1660, 'malaysia': 1661, 'malendeng': 1662, 'maling': 1663, 'maloko': 1664, 'mam': 1665, 'mampu': 1666, 'mamuju': 1667, 'mana': 1668, 'manado': 1669, 'mandiri': 1670, 'mandor': 1671, 'manen': 1672, 'mangangsur': 1673, 'manggala': 1674, 'manggarai': 1675, 'manggil': 1676, 'mangkal': 1677, 'manis': 1678, 'mantan': 1679, 'mantolalu': 1680, 'mantu': 1681, 'mantucust': 1682, 'manual': 1683, 'manuk': 1684, 'marah': 1685, 'maret': 1686, 'margahayu': 1687, 'marketing': 1688, 'markus': 1689, 'mart': 1690, 'mas': 1691, 'masalah': 1692, 'mash': 1693, 'masig': 1694, 'masjib': 1695, 'masjid': 1696, 'masjit': 1697, 'mask': 1698, 'maskar': 1699, 'masoh': 1700, 'masu': 1701, 'masuk': 1702, 'masukunit': 1703, 'matabulu': 1704, 'matahari': 1705, 'mataram': 1706, 'matel': 1707, 'mati': 1708, 'mawar': 1709, 'mawuntu': 1710, 'max': 1711, 'maxim': 1712, 'maximal': 1713, 'maximcar': 1714, 'maxinal': 1715, 'maya': 1716, 'maybrat': 1717, 'mbak': 1718, 'mbaking': 1719, 'mbangking': 1720, 'mbanking': 1721, 'mbl': 1722, 'medan': 1723, 'mediasi': 1724, 'meet': 1725, 'meeting': 1726, 'megetahui': 1727, 'megumpulkan': 1728, 'megumpulma': 1729, 'megusahakan': 1730, 'mei': 1731, 'mejelaskan': 1732, 'mejobo': 1733, 'melakaukan': 1734, 'melakukukan': 1735, 'melani': 1736, 'melayu': 1737, 'meleset': 1738, 'melesetkons': 1739, 'melinda': 1740, 'melst': 1741, 'melunasin': 1742, 'memabyar': 1743, 'memgusahakan': 1744, 'menantu': 1745, 'menara': 1746, 'menegnali': 1747, 'menfasilitasi': 1748, 'meng': 1749, 'mengahasilkan': 1750, 'menggumpulkan': 1751, 'menggusahakan': 1752, 'menginput': 1753, 'mengsuahakan': 1754, 'mengumpulka': 1755, 'mengunakan': 1756, 'mengupload': 1757, 'mengusajhkan': 1758, 'mengushaakan': 1759, 'mengushaakn': 1760, 'mengushakan': 1761, 'mengushkn': 1762, 'meni': 1763, 'meningal': 1764, 'menuggak': 1765, 'menuggu': 1766, 'menunggunpencairan': 1767, 'menutupin': 1768, 'meong': 1769, 'merah': 1770, 'merembu': 1771, 'merespon': 1772, 'merlung': 1773, 'mertakanda': 1774, 'mertua': 1775, 'mesjid': 1776, 'mggu': 1777, 'mi': 1778, 'mie': 1779, 'milik': 1780, 'militer': 1781, 'minggu': 1782, 'minggunini': 1783, 'minim': 1784, 'minimal': 1785, 'minimarket': 1786, 'mint': 1787, 'minum': 1788, 'minut': 1789, 'mislun': 1790, 'misran': 1791, 'miss': 1792, 'mita': 1793, 'miting': 1794, 'mitra': 1795, 'mitsubishi': 1796, 'mkarena': 1797, 'mksml': 1798, 'mlakukan': 1799, 'mleset': 1800, 'mlesetkarena': 1801, 'mmpu': 1802, 'mnc': 1803, 'mncukupi': 1804, 'mnemui': 1805, 'mnggu': 1806, 'mnghubungi': 1807, 'mngmplkan': 1808, 'mngntrkn': 1809, 'mngshkan': 1810, 'mngtakan': 1811, 'mngupayakan': 1812, 'mngusahkn': 1813, 'mntak': 1814, 'mntu': 1815, 'mnugukan': 1816, 'mnunggu': 1817, 'mnurut': 1818, 'mobil': 1819, 'mobile': 1820, 'mohon': 1821, 'mojo': 1822, 'mojokerto': 1823, 'mojolegi': 1824, 'mojosari': 1825, 'mojosongo': 1826, 'montong': 1827, 'morosi': 1828, 'morowali': 1829, 'morowaliinfo': 1830, 'motor': 1831, 'motorpembayaran': 1832, 'mowila': 1833, 'mozia': 1834, 'mr': 1835, 'msi': 1836, 'mslah': 1837, 'msu': 1838, 'mtr': 1839, 'muara': 1840, 'muat': 1841, 'muda': 1842, 'muhammad': 1843, 'muharam': 1844, 'muhidin': 1845, 'mukena': 1846, 'mumpuni': 1847, 'muncul': 1848, 'mundur': 1849, 'mundurkarena': 1850, 'munir': 1851, 'murid': 1852, 'musa': 1853, 'musibah': 1854, 'musim': 1855, 'mustofa': 1856, 'musyawarah': 1857, 'mutiara': 1858, 'mwu': 1859, 'naga': 1860, 'nagih': 1861, 'naik': 1862, 'nak': 1863, 'nali': 1864, 'nama': 1865, 'namaada': 1866, 'namu': 1867, 'nan': 1868, 'narkoba': 1869, 'nasabah': 1870, 'nasbah': 1871, 'nasi': 1872, 'nasih': 1873, 'nawar': 1874, 'nebang': 1875, 'negeri': 1876, 'nego': 1877, 'negosiasi': 1878, 'nenas': 1879, 'nenek': 1880, 'nentu': 1881, 'next': 1882, 'nextpush': 1883, 'ngabari': 1884, 'ngambil': 1885, 'nganggurngandelin': 1886, 'ngaruh': 1887, 'ngatru': 1888, 'ngbrol': 1889, 'nge': 1890, 'ngejak': 1891, 'ngekost': 1892, 'ngelayat': 1893, 'ngembal': 1894, 'ngemess': 1895, 'ngemplak': 1896, 'ngerental': 1897, 'ngewarung': 1898, 'nggu': 1899, 'ngiriman': 1900, 'ngisi': 1901, 'ngojolpemakai': 1902, 'ngontrak': 1903, 'ngroll': 1904, 'ngumpulin': 1905, 'nhesie': 1906, 'niat': 1907, 'nihil': 1908, 'nikah': 1909, 'nikahanan': 1910, 'nimau': 1911, 'nip': 1912, 'nisan': 1913, 'nitip': 1914, 'nma': 1915, 'nmor': 1916, 'nmun': 1917, 'nngh': 1918, 'no': 1919, 'nogosari': 1920, 'nomer': 1921, 'nominal': 1922, 'nominalkarena': 1923, 'nomor': 1924, 'nongkrong': 1925, 'norlinda': 1926, 'normal': 1927, 'not': 1928, 'notaris': 1929, 'note': 1930, 'nsb': 1931, 'nuangan': 1932, 'numpang': 1933, 'nunggubpk': 1934, 'nurhadi': 1935, 'nurhasan': 1936, 'nurma': 1937, 'nurpriyatin': 1938, 'nurseha': 1939, 'nuryanto': 1940, 'nusantara': 1941, 'nyadan': 1942, 'nyafu': 1943, 'nyakaryawan': 1944, 'nyakons': 1945, 'nyales': 1946, 'nyangkut': 1947, 'nyasuami': 1948, 'nyata': 1949, 'nydan': 1950, 'nyerviske': 1951, 'obat': 1952, 'obrol': 1953, 'ockta': 1954, 'oelunasan': 1955, 'oemakia': 1956, 'oembayaran': 1957, 'oemotongan': 1958, 'oencairan': 1959, 'oernah': 1960, 'off': 1961, 'ofta': 1962, 'oh': 1963, 'ojeg': 1964, 'ojek': 1965, 'ojol': 1966, 'oknum': 1967, 'oktober': 1968, 'om': 1969, 'oma': 1970, 'omset': 1971, 'on': 1972, 'ongkos': 1973, 'onhan': 1974, 'onhand': 1975, 'onki': 1976, 'online': 1977, 'oons': 1978, 'open': 1979, 'operasi': 1980, 'operasiaoal': 1981, 'orang': 1982, 'orangdi': 1983, 'orangtanya': 1984, 'orangtua': 1985, 'orangtuanya': 1986, 'orangx': 1987, 'oranh': 1988, 'order': 1989, 'oress': 1990, 'orgdihubungi': 1991, 'orginfo': 1992, 'orgtua': 1993, 'orkes': 1994, 'ormas': 1995, 'orqng': 1996, 'ortua': 1997, 'ortuketemu': 1998, 'ortukons': 1999, 'osp': 2000, 'oto': 2001, 'over': 2002, 'owner': 2003, 'pabrik': 2004, 'pacar': 2005, 'pacitan': 2006, 'padang': 2007, 'padasuka': 2008, 'pagar': 2009, 'pagi': 2010, 'paguat': 2011, 'pahlawan': 2012, 'paid': 2013, 'pajero': 2014, 'pakai': 2015, 'pakaiann': 2016, 'pakaiybs': 2017, 'pakansari': 2018, 'paket': 2019, 'paksa': 2020, 'pal': 2021, 'palangkaraya': 2022, 'palar': 2023, 'palu': 2024, 'palur': 2025, 'paman': 2026, 'pamer': 2027, 'pancasila': 2028, 'pancawari': 2029, 'pancing': 2030, 'pandeyan': 2031, 'panen': 2032, 'pangaraian': 2033, 'panggil': 2034, 'pangil': 2035, 'pangkal': 2036, 'panjang': 2037, 'pantau': 2038, 'pantura': 2039, 'papua': 2040, 'parah': 2041, 'pare': 2042, 'paringin': 2043, 'parkir': 2044, 'parsial': 2045, 'partaial': 2046, 'partial': 2047, 'partiall': 2048, 'partialmau': 2049, 'paru': 2050, 'pas': 2051, 'pasang': 2052, 'pasangaj': 2053, 'pasangajn': 2054, 'pasangam': 2055, 'pasangandan': 2056, 'pasanganindikasinunit': 2057, 'pasar': 2058, 'pasaribu': 2059, 'pasarnamun': 2060, 'pasca': 2061, 'pasir': 2062, 'pasngan': 2063, 'paspas': 2064, 'pasti': 2065, 'pasu': 2066, 'pasuruan': 2067, 'pat': 2068, 'patah': 2069, 'pathi': 2070, 'pati': 2071, 'patokbeusi': 2072, 'patokbeusiybs': 2073, 'patrang': 2074, 'pattedong': 2075, 'pattimura': 2076, 'pattinama': 2077, 'pay': 2078, 'paymen': 2079, 'payment': 2080, 'paymentpoint': 2081, 'paymet': 2082, 'pc': 2083, 'pdam': 2084, 'pdrce': 2085, 'pecat': 2086, 'peduli': 2087, 'pegang': 2088, 'pegawai': 2089, 'pekan': 2090, 'pekerjaaan': 2091, 'pelacakn': 2092, 'pelajau': 2093, 'pelcakan': 2094, 'pelestarik': 2095, 'pelsus': 2096, 'peluansan': 2097, 'pelunasaan': 2098, 'pelunasanbayar': 2099, 'pelunasanunit': 2100, 'pemabyaran': 2101, 'pematang': 2102, 'pembauaraan': 2103, 'pembayarankonsumen': 2104, 'pembayaranrencana': 2105, 'pembayaranunit': 2106, 'pembayaranya': 2107, 'pembayarn': 2108, 'pembayran': 2109, 'pembyaran': 2110, 'pembyran': 2111, 'pemda': 2112, 'pemegng': 2113, 'pemguana': 2114, 'pemkai': 2115, 'pemuda': 2116, 'penangggung': 2117, 'penbayran': 2118, 'pencairanfam': 2119, 'pencajran': 2120, 'pencarin': 2121, 'pending': 2122, 'penekannan': 2123, 'penekqnan': 2124, 'pengambilanx': 2125, 'pengin': 2126, 'penginputan': 2127, 'pengiputan': 2128, 'pengolala': 2129, 'penguna': 2130, 'peniti': 2131, 'peniualan': 2132, 'penjaminanak': 2133, 'penjara': 2134, 'penuh': 2135, 'perbaiakan': 2136, 'pergi': 2137, 'perihal': 2138, 'periksa': 2139, 'perljlnan': 2140, 'perlu': 2141, 'permanen': 2142, 'persis': 2143, 'pertalite': 2144, 'pertemuankembali': 2145, 'pertgl': 2146, 'pertiwi': 2147, 'perum': 2148, 'perumahanx': 2149, 'pesan': 2150, 'pesanby': 2151, 'pesanrevisit': 2152, 'pesantren': 2153, 'pesta': 2154, 'peta': 2155, 'peyment': 2156, 'ph': 2157, 'phh': 2158, 'phine': 2159, 'phk': 2160, 'phomentidak': 2161, 'phon': 2162, 'phone': 2163, 'phonefam': 2164, 'phonw': 2165, 'pic': 2166, 'pick': 2167, 'pickup': 2168, 'pickupunit': 2169, 'pihak': 2170, 'pik': 2171, 'piket': 2172, 'pil': 2173, 'pinda': 2174, 'pindah': 2175, 'pinjam': 2176, 'pinjamandan': 2177, 'pinrang': 2178, 'pintu': 2179, 'pisit': 2180, 'piutang': 2181, 'pj': 2182, 'pki': 2183, 'pkmasih': 2184, 'pknjb': 2185, 'pknkerja': 2186, 'pksudah': 2187, 'plan': 2188, 'plang': 2189, 'planning': 2190, 'plant': 2191, 'plaza': 2192, 'plening': 2193, 'pln': 2194, 'plng': 2195, 'plus': 2196, 'pmakai': 2197, 'pmbyarab': 2198, 'pmbyaran': 2199, 'pmbyrannya': 2200, 'pmbyrn': 2201, 'pn': 2202, 'pnekanan': 2203, 'pngembangan': 2204, 'pnjaman': 2205, 'pnpm': 2206, 'pns': 2207, 'po': 2208, 'poin': 2209, 'point': 2210, 'pokok': 2211, 'pokokby': 2212, 'pola': 2213, 'polda': 2214, 'polis': 2215, 'polisi': 2216, 'polres': 2217, 'polresta': 2218, 'polsek': 2219, 'pom': 2220, 'pombensin': 2221, 'ponakan': 2222, 'pondok': 2223, 'pone': 2224, 'ponorogo': 2225, 'pos': 2226, 'posisi': 2227, 'poso': 2228, 'posting': 2229, 'potensi': 2230, 'poto': 2231, 'potong': 2232, 'ppnya': 2233, 'pragolo': 2234, 'prakira': 2235, 'prambon': 2236, 'pramuka': 2237, 'prasetyo': 2238, 'pres': 2239, 'presing': 2240, 'press': 2241, 'pressing': 2242, 'pressure': 2243, 'prestasi': 2244, 'presure': 2245, 'pribadi': 2246, 'prihal': 2247, 'pring': 2248, 'privasi': 2249, 'probolinggo': 2250, 'probolinggofu': 2251, 'profcol': 2252, 'profcoll': 2253, 'profesi': 2254, 'progres': 2255, 'proses': 2256, 'provos': 2257, 'proyek': 2258, 'prsure': 2259, 'psn': 2260, 'psngan': 2261, 'psngm': 2262, 'pt': 2263, 'ptp': 2264, 'ptpybs': 2265, 'pubian': 2266, 'pucang': 2267, 'pujasera': 2268, 'pukang': 2269, 'pulang': 2270, 'pulau': 2271, 'pulaudirumah': 2272, 'pulih': 2273, 'pulng': 2274, 'pulo': 2275, 'puloh': 2276, 'pumadada': 2277, 'punggelan': 2278, 'punnama': 2279, 'punya': 2280, 'punyak': 2281, 'pupuk': 2282, 'puri': 2283, 'purnama': 2284, 'puru': 2285, 'purwasari': 2286, 'purwodadi': 2287, 'pus': 2288, 'pusat': 2289, 'push': 2290, 'puskes': 2291, 'puskesmas': 2292, 'pustaka': 2293, 'put': 2294, 'putih': 2295, 'putri': 2296, 'putus': 2297, 'qda': 2298, 'qkan': 2299, 'qlqmat': 2300, 'queen': 2301, 'rabu': 2302, 'radjak': 2303, 'radji': 2304, 'rahayu': 2305, 'rai': 2306, 'raib': 2307, 'raibkontrak': 2308, 'raibvisit': 2309, 'rajin': 2310, 'rajut': 2311, 'rampas': 2312, 'ranah': 2313, 'rang': 2314, 'ranggo': 2315, 'rantau': 2316, 'rap': 2317, 'rapat': 2318, 'ratna': 2319, 'rawa': 2320, 'rawat': 2321, 'raya': 2322, 'rayu': 2323, 'razak': 2324, 'rbu': 2325, 'ready': 2326, 'real': 2327, 'realisasi': 2328, 'reapon': 2329, 'recepsionis': 2330, 'receptionis': 2331, 'receptionisnya': 2332, 'refresh': 2333, 'refreshment': 2334, 'rejotangan': 2335, 'reka': 2336, 'rekan': 2337, 'rekomendasi': 2338, 'rektorat': 2339, 'relokasi': 2340, 'remon': 2341, 'rencana': 2342, 'rencsna': 2343, 'rengasjadi': 2344, 'renggang': 2345, 'renny': 2346, 'renov': 2347, 'rental': 2348, 'rentaldan': 2349, 'renti': 2350, 'reppon': 2351, 'req': 2352, 'request': 2353, 'rerjual': 2354, 'resain': 2355, 'reschedul': 2356, 'reschedule': 2357, 'rescheduled': 2358, 'resepsionis': 2359, 'resign': 2360, 'respin': 2361, 'respo': 2362, 'respon': 2363, 'responakan': 2364, 'respond': 2365, 'respondi': 2366, 'respondipanggil': 2367, 'respone': 2368, 'responfam': 2369, 'responfu': 2370, 'responkonsumen': 2371, 'responnya': 2372, 'respons': 2373, 'respont': 2374, 'respontitip': 2375, 'responudah': 2376, 'responunit': 2377, 'responvisit': 2378, 'responz': 2379, 'resppn': 2380, 'rest': 2381, 'restonya': 2382, 'revalinafid': 2383, 'revisi': 2384, 'revisir': 2385, 'revisit': 2386, 'revisited': 2387, 'revsiit': 2388, 'reza': 2389, 'rian': 2390, 'ribu': 2391, 'ridwan': 2392, 'rifa': 2393, 'rika': 2394, 'riki': 2395, 'rimah': 2396, 'rina': 2397, 'rindu': 2398, 'ringan': 2399, 'rio': 2400, 'riswan': 2401, 'rit': 2402, 'rk': 2403, 'rmahnya': 2404, 'rmahx': 2405, 'rmhpres': 2406, 'roll': 2407, 'rongsok': 2408, 'rontolindo': 2409, 'room': 2410, 'rosalia': 2411, 'roti': 2412, 'rs': 2413, 'rspn': 2414, 'rsud': 2415, 'rt': 2416, 'ru': 2417, 'ruang': 2418, 'rujuk': 2419, 'ruko': 2420, 'rukos': 2421, 'ruma': 2422, 'rumah': 2423, 'rumahakan': 2424, 'rumahby': 2425, 'rumahhanya': 2426, 'rumahinfo': 2427, 'rumahmakan': 2428, 'rumahn': 2429, 'rumahrumah': 2430, 'rumahtidak': 2431, 'rumahvisit': 2432, 'rumaj': 2433, 'rumput': 2434, 'rupiah': 2435, 'rusak': 2436, 'rusdi': 2437, 'rusun': 2438, 'rute': 2439, 'rutin': 2440, 'ruwet': 2441, 'rw': 2442, 'rwvisit': 2443, 'saar': 2444, 'sabar': 2445, 'sabbang': 2446, 'sablon': 2447, 'sabtu': 2448, 'safi': 2449, 'sah': 2450, 'sai': 2451, 'sair': 2452, 'sakit': 2453, 'sakitdi': 2454, 'sakitunit': 2455, 'salah': 2456, 'salak': 2457, 'salam': 2458, 'sales': 2459, 'salsa': 2460, 'salupao': 2461, 'salza': 2462, 'samarinda': 2463, 'sambong': 2464, 'sambung': 2465, 'samosirfam': 2466, 'sampai': 2467, 'samping': 2468, 'sampora': 2469, 'samsul': 2470, 'sana': 2471, 'sang': 2472, 'sangatta': 2473, 'sanggau': 2474, 'sanggup': 2475, 'sangkar': 2476, 'sangkuriang': 2477, 'sangkut': 2478, 'sanq': 2479, 'sanrio': 2480, 'santri': 2481, 'sapa': 2482, 'sapi': 2483, 'saraf': 2484, 'sarongsong': 2485, 'satpam': 2486, 'satu': 2487, 'saudar': 2488, 'saudara': 2489, 'saudaraby': 2490, 'saudaranyabaru': 2491, 'saudaranyakarena': 2492, 'saudi': 2493, 'saung': 2494, 'saut': 2495, 'sawah': 2496, 'sawit': 2497, 'sawitandan': 2498, 'sayur': 2499, 'sbentar': 2500, 'sblom': 2501, 'sblumnya': 2502, 'sbrg': 2503, 'sceoatnya': 2504, 'scoopy': 2505, 'scpt': 2506, 'sd': 2507, 'sdang': 2508, 'sdhndi': 2509, 'sdng': 2510, 'sdr': 2511, 'sea': 2512, 'searcing': 2513, 'sebab': 2514, 'sebar': 2515, 'sebelumny': 2516, 'sebelumnyaini': 2517, 'sebelumx': 2518, 'sebentar': 2519, 'seberang': 2520, 'sebgai': 2521, 'seblm': 2522, 'sebrang': 2523, 'secapatnua': 2524, 'secapatnya': 2525, 'securiti': 2526, 'security': 2527, 'securityfu': 2528, 'securty': 2529, 'sedangbkeluar': 2530, 'sedia': 2531, 'sednag': 2532, 'sedng': 2533, 'segra': 2534, 'sehat': 2535, 'sekar': 2536, 'sekarnag': 2537, 'sekartaji': 2538, 'sekertaris': 2539, 'sekitar': 2540, 'sekligus': 2541, 'sekolah': 2542, 'sekretaris': 2543, 'sektr': 2544, 'selasa': 2545, 'selatan': 2546, 'selesai': 2547, 'selesaifu': 2548, 'selfie': 2549, 'selip': 2550, 'selow': 2551, 'semalem': 2552, 'semarabg': 2553, 'sembako': 2554, 'sembakounit': 2555, 'sembari': 2556, 'sembtra': 2557, 'sembuh': 2558, 'sembunyi': 2559, 'semenjak': 2560, 'semesta': 2561, 'semi': 2562, 'semnetara': 2563, 'semoqt': 2564, 'sempit': 2565, 'semuajb': 2566, 'senang': 2567, 'send': 2568, 'senen': 2569, 'sengaja': 2570, 'senget': 2571, 'senin': 2572, 'sentani': 2573, 'sentanu': 2574, 'sepele': 2575, 'sepfu': 2576, 'sepi': 2577, 'sepiinfo': 2578, 'sepiunit': 2579, 'september': 2580, 'serah': 2581, 'seram': 2582, 'serat': 2583, 'serpong': 2584, 'sertifikasi': 2585, 'sertifikat': 2586, 'service': 2587, 'servis': 2588, 'serviske': 2589, 'sesng': 2590, 'sesuai': 2591, 'setempatminta': 2592, 'seteuk': 2593, 'setor': 2594, 'setorin': 2595, 'setrmpay': 2596, 'sewa': 2597, 'share': 2598, 'sharelok': 2599, 'shift': 2600, 'shopee': 2601, 'showroom': 2602, 'si': 2603, 'siang': 2604, 'siantaninteraksi': 2605, 'siantankarna': 2606, 'siap': 2607, 'siapkarena': 2608, 'sibuk': 2609, 'sidoarjo': 2610, 'sift': 2611, 'sih': 2612, 'silo': 2613, 'siloam': 2614, 'simpan': 2615, 'simpang': 2616, 'singgah': 2617, 'singosari': 2618, 'sinta': 2619, 'sintang': 2620, 'sinyal': 2621, 'sipemakai': 2622, 'sisa': 2623, 'sisip': 2624, 'siskainteraksi': 2625, 'sistem': 2626, 'site': 2627, 'sitevisit': 2628, 'situ': 2629, 'situasi': 2630, 'situbobfo': 2631, 'situbondo': 2632, 'skanon': 2633, 'skitr': 2634, 'skp': 2635, 'skrh': 2636, 'slesai': 2637, 'slip': 2638, 'slot': 2639, 'slow': 2640, 'smart': 2641, 'smartpress': 2642, 'smc': 2643, 'smntara': 2644, 'smntra': 2645, 'smpaikan': 2646, 'smpikan': 2647, 'smvlc': 2648, 'sodara': 2649, 'sodaranya': 2650, 'sok': 2651, 'solo': 2652, 'somasi': 2653, 'sooko': 2654, 'sopi': 2655, 'sopir': 2656, 'sore': 2657, 'soreang': 2658, 'sorek': 2659, 'sorum': 2660, 'spertix': 2661, 'spg': 2662, 'spjb': 2663, 'spkons': 2664, 'sppu': 2665, 'spv': 2666, 'spvnya': 2667, 'sragen': 2668, 'sri': 2669, 'srmua': 2670, 'sruweng': 2671, 'stadion': 2672, 'staf': 2673, 'staff': 2674, 'status': 2675, 'stay': 2676, 'stefanus': 2677, 'stegah': 2678, 'step': 2679, 'stnk': 2680, 'stroke': 2681, 'struk': 2682, 'stubondo': 2683, 'suadara': 2684, 'suami': 2685, 'suamicybs': 2686, 'suara': 2687, 'suasana': 2688, 'suciati': 2689, 'sudah': 2690, 'sudang': 2691, 'sudara': 2692, 'sudiang': 2693, 'sugiantokons': 2694, 'suhat': 2695, 'sui': 2696, 'suka': 2697, 'sukabumi': 2698, 'sukapura': 2699, 'sukarasa': 2700, 'sulifah': 2701, 'sulit': 2702, 'sulselbar': 2703, 'sumasan': 2704, 'sumatra': 2705, 'sumber': 2706, 'sumberdana': 2707, 'sumiati': 2708, 'sumur': 2709, 'sunan': 2710, 'sungai': 2711, 'super': 2712, 'supir': 2713, 'surabaya': 2714, 'surat': 2715, 'surodinawan': 2716, 'suruh': 2717, 'surut': 2718, 'survei': 2719, 'survey': 2720, 'surveynya': 2721, 'surya': 2722, 'susah': 2723, 'susu': 2724, 'sutiah': 2725, 'sutoyo': 2726, 'suwami': 2727, 'suzuki': 2728, 'system': 2729, 'tabggal': 2730, 'tabrani': 2731, 'tag': 2732, 'tagging': 2733, 'tagi': 2734, 'tagih': 2735, 'taging': 2736, 'tahap': 2737, 'tahihan': 2738, 'tahlil': 2739, 'tahu': 2740, 'tahun': 2741, 'take': 2742, 'takut': 2743, 'talang': 2744, 'taman': 2745, 'tambah': 2746, 'tambak': 2747, 'tambang': 2748, 'tamblang': 2749, 'tamiang': 2750, 'tamoyan': 2751, 'tamu': 2752, 'tanah': 2753, 'tanak': 2754, 'tanda': 2755, 'tandem': 2756, 'tang': 2757, 'tangal': 2758, 'tangam': 2759, 'tangan': 2760, 'tangerang': 2761, 'tangga': 2762, 'tanggal': 2763, 'tanggap': 2764, 'tangging': 2765, 'tangguh': 2766, 'tanggung': 2767, 'tanggungn': 2768, 'tangkap': 2769, 'tanhgal': 2770, 'tani': 2771, 'tanjung': 2772, 'tanngal': 2773, 'tanoyan': 2774, 'tantang': 2775, 'tante': 2776, 'tapibtelfon': 2777, 'taq': 2778, 'tarek': 2779, 'target': 2780, 'tari': 2781, 'tarik': 2782, 'taruh': 2783, 'tas': 2784, 'tasikmalaya': 2785, 'tatelu': 2786, 'tau': 2787, 'tauby': 2788, 'tawar': 2789, 'tayanakan': 2790, 'tda': 2791, 'tdka': 2792, 'tdkkons': 2793, 'te': 2794, 'tebus': 2795, 'tedekat': 2796, 'tegal': 2797, 'tegalombo': 2798, 'tegas': 2799, 'teging': 2800, 'tejing': 2801, 'tek': 2802, 'tekan': 2803, 'teknkn': 2804, 'tekno': 2805, 'telat': 2806, 'telegram': 2807, 'telepon': 2808, 'telfn': 2809, 'telfon': 2810, 'telkom': 2811, 'telp': 2812, 'telpn': 2813, 'telpon': 2814, 'telusur': 2815, 'tema': 2816, 'teman': 2817, 'temanx': 2818, 'temenya': 2819, 'temoat': 2820, 'tempar': 2821, 'tempat': 2822, 'tempatin': 2823, 'tempatk': 2824, 'tempo': 2825, 'tempuh': 2826, 'temu': 2827, 'temuii': 2828, 'tengah': 2829, 'tentangga': 2830, 'tentu': 2831, 'tepat': 2832, 'ter': 2833, 'tera': 2834, 'terang': 2835, 'teraskotakons': 2836, 'teratai': 2837, 'terbukadihubungi': 2838, 'terbukakons': 2839, 'tercapture': 2840, 'tergembokdihubungi': 2841, 'terima': 2842, 'terimakasih': 2843, 'terinput': 2844, 'terinputjadi': 2845, 'terkahir': 2846, 'terkhir': 2847, 'terlhat': 2848, 'terlihatakan': 2849, 'terminal': 2850, 'ternak': 2851, 'terpntau': 2852, 'tervisit': 2853, 'tes': 2854, 'tetang': 2855, 'tetanga': 2856, 'tetangga': 2857, 'tetanggadihuhungi': 2858, 'tetap': 2859, 'tetas': 2860, 'teten': 2861, 'tevus': 2862, 'tf': 2863, 'tgal': 2864, 'tggl': 2865, 'tggu': 2866, 'tgih': 2867, 'tglinfo': 2868, 'tglunit': 2869, 'tgs': 2870, 'tgu': 2871, 'thr': 2872, 'tida': 2873, 'tidaj': 2874, 'tidak': 2875, 'tidaka': 2876, 'tidam': 2877, 'tidk': 2878, 'tidur': 2879, 'tiga': 2880, 'tigad': 2881, 'tikala': 2882, 'tiktok': 2883, 'tilamuta': 2884, 'tim': 2885, 'timah': 2886, 'timaha': 2887, 'timur': 2888, 'tinanggea': 2889, 'tinggal': 2890, 'tinggi': 2891, 'tipes': 2892, 'tipsen': 2893, 'tipu': 2894, 'tirta': 2895, 'titik': 2896, 'titip': 2897, 'titipin': 2898, 'titp': 2899, 'tkk': 2900, 'tkw': 2901, 'tlf': 2902, 'tlfn': 2903, 'tlfon': 2904, 'tlng': 2905, 'tlogomulyo': 2906, 'tlogosari': 2907, 'tlpm': 2908, 'tlpon': 2909, 'tlt': 2910, 'tlv': 2911, 'tlvon': 2912, 'tmbhan': 2913, 'tnggal': 2914, 'tnggang': 2915, 'tni': 2916, 'tnyakan': 2917, 'tof': 2918, 'toko': 2919, 'tokopedia': 2920, 'tokovisit': 2921, 'tol': 2922, 'tolak': 2923, 'tolong': 2924, 'tom': 2925, 'ton': 2926, 'tongkongin': 2927, 'topa': 2928, 'topik': 2929, 'tore': 2930, 'toru': 2931, 'total': 2932, 'tower': 2933, 'tpp': 2934, 'tpt': 2935, 'tra': 2936, 'tracking': 2937, 'training': 2938, 'traininin': 2939, 'trakhir': 2940, 'tranferan': 2941, 'transaksi': 2942, 'transfer': 2943, 'transmigrasi': 2944, 'transmigrasibada': 2945, 'transpacific': 2946, 'travel': 2947, 'trbaru': 2948, 'trbru': 2949, 'trek': 2950, 'triwijayanti': 2951, 'trkait': 2952, 'trlhat': 2953, 'trmpat': 2954, 'tropodo': 2955, 'trosobobertemu': 2956, 'trpantau': 2957, 'truckingpress': 2958, 'truk': 2959, 'ttangga': 2960, 'ttd': 2961, 'ttga': 2962, 'ttngga': 2963, 'ttpesan': 2964, 'ttpi': 2965, 'ttup': 2966, 'tua': 2967, 'tuacust': 2968, 'tuadebitur': 2969, 'tuakonsumen': 2970, 'tuaorang': 2971, 'tuau': 2972, 'tudak': 2973, 'tugas': 2974, 'tukang': 2975, 'tukin': 2976, 'tulungagung': 2977, 'tumor': 2978, 'tumpang': 2979, 'tun': 2980, 'tunai': 2981, 'tunas': 2982, 'tunggak': 2983, 'tunggakanunit': 2984, 'tunggakanx': 2985, 'tunggangri': 2986, 'tunggu': 2987, 'tungu': 2988, 'tunjang': 2989, 'tunjangam': 2990, 'tunjuk': 2991, 'turen': 2992, 'turun': 2993, 'tutup': 2994, 'tv': 2995, 'twman': 2996, 'twmpat': 2997, 'twrlihat': 2998, 'uang': 2999, 'uange': 3000, 'ucok': 3001, 'uji': 3002, 'ukir': 3003, 'ulang': 3004, 'ulanh': 3005, 'ulg': 3006, 'ulp': 3007, 'umag': 3008, 'umen': 3009, 'umk': 3010, 'umum': 3011, 'unag': 3012, 'undur': 3013, 'unggu': 3014, 'ungu': 3015, 'unilever': 3016, 'unit': 3017, 'unitraib': 3018, 'unitsudah': 3019, 'unitvadafu': 3020, 'unjung': 3021, 'untan': 3022, 'unti': 3023, 'ununggu': 3024, 'uoang': 3025, 'up': 3026, 'upah': 3027, 'upaya': 3028, 'update': 3029, 'upline': 3030, 'upload': 3031, 'urban': 3032, 'urus': 3033, 'us': 3034, 'usah': 3035, 'usaha': 3036, 'usahadan': 3037, 'usahain': 3038, 'usahakn': 3039, 'usahatempat': 3040, 'usahkn': 3041, 'usajln': 3042, 'usak': 3043, 'usha': 3044, 'ushaakan': 3045, 'ushain': 3046, 'ushakan': 3047, 'ushakn': 3048, 'ushkan': 3049, 'ushkn': 3050, 'utang': 3051, 'utara': 3052, 'uwur': 3053, 'vai': 3054, 'vailid': 3055, 'valid': 3056, 'validasi': 3057, 'van': 3058, 'vape': 3059, 'vat': 3060, 'vega': 3061, 'versi': 3062, 'via': 3063, 'viait': 3064, 'vian': 3065, 'viawa': 3066, 'viisit': 3067, 'viist': 3068, 'village': 3069, 'vios': 3070, 'virtual': 3071, 'virtualketemu': 3072, 'visi': 3073, 'visist': 3074, 'visit': 3075, 'visitan': 3076, 'visitketemu': 3077, 'visitkontrakan': 3078, 'visitnya': 3079, 'visot': 3080, 'vist': 3081, 'vistul': 3082, 'vita': 3083, 'vjsit': 3084, 'vua': 3085, 'wacana': 3086, 'wahidin': 3087, 'wajib': 3088, 'wakil': 3089, 'waktu': 3090, 'wali': 3091, 'wandula': 3092, 'wanota': 3093, 'wanprestasi': 3094, 'warga': 3095, 'warkopalamat': 3096, 'warkopkons': 3097, 'warna': 3098, 'wartawansebenarnya': 3099, 'warung': 3100, 'warungdowo': 3101, 'warungx': 3102, 'wates': 3103, 'wava': 3104, 'weda': 3105, 'whatsapp': 3106, 'whatshapp': 3107, 'wifi': 3108, 'wilayah': 3109, 'wilson': 3110, 'wiludu': 3111, 'winangun': 3112, 'wings': 3113, 'wip': 3114, 'wom': 3115, 'wonoyoso': 3116, 'wrga': 3117, 'wugono': 3118, 'wusto': 3119, 'xenia': 3120, 'xl': 3121, 'xsternal': 3122, 'yana': 3123, 'yayasan': 3124, 'yba': 3125, 'ybsada': 3126, 'ybsasih': 3127, 'ybsbsudah': 3128, 'ybsdan': 3129, 'ybsdilarang': 3130, 'ybsfu': 3131, 'ybsp': 3132, 'ybssdh': 3133, 'ybssp': 3134, 'ybsybs': 3135, 'yd': 3136, 'yen': 3137, 'yerlihat': 3138, 'yhs': 3139, 'yns': 3140, 'yoga': 3141, 'yunitmenghilang': 3142, 'yunus': 3143, 'yusuf': 3144, 'zaenal': 3145, 'zul': 3146}\n"
          ]
        }
      ]
    },
    {
      "cell_type": "markdown",
      "source": [
        "### ***Vectorizer***"
      ],
      "metadata": {
        "id": "1xsfKLuHL2Fs"
      }
    },
    {
      "cell_type": "code",
      "source": [
        "count = CountVectorizer(preprocessor=preprocessor.preprocess, vocabulary=vocabulary)\n",
        "X_train = count.fit_transform(train['remarks'])\n",
        "X_test = count.fit_transform(test['remarks'])\n",
        "y_train = train['label']\n",
        "y_test = test['label']"
      ],
      "metadata": {
        "id": "tXsgSfh65s57"
      },
      "execution_count": null,
      "outputs": []
    },
    {
      "cell_type": "markdown",
      "source": [
        "### ***Random Forest Model***"
      ],
      "metadata": {
        "id": "eofMo5bW7Hai"
      }
    },
    {
      "cell_type": "code",
      "source": [
        "from sklearn.ensemble import RandomForestClassifier, VotingClassifier\n",
        "rfc = RandomForestClassifier(n_estimators=200, max_depth=15, random_state=20, class_weight='balanced')\n",
        "rfc.fit(X_train,y_train)\n",
        "pred_rfc = rfc.predict(X_test)\n",
        "print(f'confusion matrix:\\n {confusion_matrix(y_test, pred_rfc)}')\n",
        "print(\"Accuracy: \"+str(accuracy_score(y_test,pred_rfc)))\n",
        "print(classification_report(y_test, pred_rfc))"
      ],
      "metadata": {
        "id": "K5b1Oq-po4sf",
        "colab": {
          "base_uri": "https://localhost:8080/"
        },
        "outputId": "b6546d88-c9f4-4b34-82ba-2a060576b577"
      },
      "execution_count": null,
      "outputs": [
        {
          "output_type": "stream",
          "name": "stdout",
          "text": [
            "confusion matrix:\n",
            " [[94  0  1  1  0  0  0]\n",
            " [ 4 66  3  4  0  1  3]\n",
            " [ 4  1 80  0  2  0  1]\n",
            " [ 3  7  2 70  1  0  1]\n",
            " [ 2  3  2  1 79  0  3]\n",
            " [ 5  6 10  4  1 63  9]\n",
            " [ 1  5  1  2  3  0 81]]\n",
            "Accuracy: 0.846031746031746\n",
            "                    precision    recall  f1-score   support\n",
            "\n",
            " business location       0.83      0.98      0.90        96\n",
            "             house       0.75      0.81      0.78        81\n",
            "            office       0.81      0.91      0.86        88\n",
            "other family house       0.85      0.83      0.84        84\n",
            "  other rent house       0.92      0.88      0.90        90\n",
            "            others       0.98      0.64      0.78        98\n",
            "           unknown       0.83      0.87      0.85        93\n",
            "\n",
            "          accuracy                           0.85       630\n",
            "         macro avg       0.85      0.85      0.84       630\n",
            "      weighted avg       0.86      0.85      0.84       630\n",
            "\n"
          ]
        }
      ]
    },
    {
      "cell_type": "code",
      "source": [
        "# Predictions for both training and test data\n",
        "train_rfc = rfc.predict(X_train)\n",
        "\n",
        "# Accuracy for both training and test data\n",
        "train_accuracy = accuracy_score(y_train, train_rfc)\n",
        "test_accuracy = accuracy_score(y_test, pred_rfc)\n",
        "\n",
        "# Output the results\n",
        "print(\"Training Accuracy:\", train_accuracy)\n",
        "print(\"Test Accuracy:\", test_accuracy)"
      ],
      "metadata": {
        "id": "Cutxc67RQzMv",
        "colab": {
          "base_uri": "https://localhost:8080/"
        },
        "outputId": "ed9f273b-65de-4a8a-d4d1-b7cc4540d765"
      },
      "execution_count": null,
      "outputs": [
        {
          "output_type": "stream",
          "name": "stdout",
          "text": [
            "Training Accuracy: 0.9400793650793651\n",
            "Test Accuracy: 0.846031746031746\n"
          ]
        }
      ]
    },
    {
      "cell_type": "code",
      "source": [
        "from sklearn.metrics import accuracy_score, classification_report, confusion_matrix\n",
        "from sklearn.model_selection import cross_val_score\n",
        "# Cross-validation untuk mengecek kestabilan model\n",
        "cv_rfc = cross_val_score(rfc, X_train, y_train, cv=10)\n",
        "print(\"Akurasi cross-validation:\", cv_rfc)\n",
        "print(cv_rfc.mean())"
      ],
      "metadata": {
        "colab": {
          "base_uri": "https://localhost:8080/"
        },
        "id": "lJijx6Q54qeX",
        "outputId": "7607a219-3133-4fcd-f016-08dbd9542233"
      },
      "execution_count": null,
      "outputs": [
        {
          "output_type": "stream",
          "name": "stdout",
          "text": [
            "Akurasi cross-validation: [0.79365079 0.84920635 0.82936508 0.86111111 0.87301587 0.83730159\n",
            " 0.81746032 0.82539683 0.80952381 0.80952381]\n",
            "0.8305555555555555\n"
          ]
        }
      ]
    },
    {
      "cell_type": "code",
      "source": [
        "from sklearn.metrics import confusion_matrix\n",
        "import seaborn as sns\n",
        "import matplotlib.pyplot as plt\n",
        "import numpy as np\n",
        "\n",
        "# Ambil label kelas berdasarkan nilai maksimum prediksi\n",
        "y_pred_classes = np.array(pred_rfc)\n",
        "y_true_classes = np.array(y_test)\n",
        "\n",
        "# Hitung confusion matrix\n",
        "conf_matrix = confusion_matrix(y_true_classes, y_pred_classes)\n",
        "\n",
        "# Plot confusion matrix dengan ukuran tulisan yang lebih besar\n",
        "plt.figure(figsize=(10, 8))\n",
        "sns.heatmap(conf_matrix, annot=True, fmt='d', cmap='Blues',\n",
        "            xticklabels=rfc.classes_, yticklabels=rfc.classes_,\n",
        "            annot_kws={\"size\": 14})  # Mengatur ukuran tulisan\n",
        "plt.xlabel('Predicted Labels', fontsize=14)\n",
        "plt.ylabel('True Labels', fontsize=14)\n",
        "plt.xticks(fontsize=12)\n",
        "plt.yticks(fontsize=12)\n",
        "plt.show()"
      ],
      "metadata": {
        "colab": {
          "base_uri": "https://localhost:8080/",
          "height": 843
        },
        "id": "dUDMfhOu4r7C",
        "outputId": "ec7c31f9-56b1-419a-fdba-bbde00dc8caf"
      },
      "execution_count": null,
      "outputs": [
        {
          "output_type": "display_data",
          "data": {
            "text/plain": [
              "<Figure size 1000x800 with 2 Axes>"
            ],
            "image/png": "[encoded data removed]"
          },
          "metadata": {}
        }
      ]
    },
    {
      "cell_type": "code",
      "source": [
        "text=[test['remarks'][0]]"
      ],
      "metadata": {
        "id": "gqN-EaEm40Lm"
      },
      "execution_count": null,
      "outputs": []
    },
    {
      "cell_type": "code",
      "source": [
        "count.fit_transform(text)"
      ],
      "metadata": {
        "colab": {
          "base_uri": "https://localhost:8080/"
        },
        "id": "WFWyWAT1454Y",
        "outputId": "641c08ff-19df-484c-cd19-e84a4650790a"
      },
      "execution_count": null,
      "outputs": [
        {
          "output_type": "execute_result",
          "data": {
            "text/plain": [
              "<1x3147 sparse matrix of type '<class 'numpy.int64'>'\n",
              "\twith 9 stored elements in Compressed Sparse Row format>"
            ]
          },
          "metadata": {},
          "execution_count": 15
        }
      ]
    },
    {
      "cell_type": "code",
      "source": [
        "rfc.predict(count.transform(text))"
      ],
      "metadata": {
        "colab": {
          "base_uri": "https://localhost:8080/"
        },
        "id": "wxBMBtNb4-kT",
        "outputId": "da4d8f3d-55ea-4495-e18a-707758a768d3"
      },
      "execution_count": null,
      "outputs": [
        {
          "output_type": "execute_result",
          "data": {
            "text/plain": [
              "array(['other family house'], dtype=object)"
            ]
          },
          "metadata": {},
          "execution_count": 16
        }
      ]
    },
    {
      "cell_type": "code",
      "source": [
        "model=make_pipeline(CountVectorizer(preprocessor=preprocessor.preprocess, vocabulary=vocabulary), RandomForestClassifier(n_estimators=300, max_depth=15, random_state=42, class_weight='balanced'))"
      ],
      "metadata": {
        "id": "2fTh9Jxn5C-S"
      },
      "execution_count": null,
      "outputs": []
    },
    {
      "cell_type": "code",
      "source": [
        "model.fit(train['remarks'], train['label'])"
      ],
      "metadata": {
        "colab": {
          "base_uri": "https://localhost:8080/",
          "height": 157
        },
        "id": "ZwX6KBQU5NPd",
        "outputId": "485249f7-b4c3-4477-9d01-2c1773afd8ca"
      },
      "execution_count": null,
      "outputs": [
        {
          "output_type": "execute_result",
          "data": {
            "text/plain": [
              "Pipeline(steps=[('countvectorizer',\n",
              "                 CountVectorizer(preprocessor=<bound method TextCleaning.preprocess of <__main__.TextCleaning object at 0x799271dc4730>>,\n",
              "                                 vocabulary={'abai': 0, 'abang': 1, 'abar': 2,\n",
              "                                             'abd': 3, 'abdi': 4, 'abgkat': 5,\n",
              "                                             'abk': 6, 'absen': 7, 'acara': 8,\n",
              "                                             'access': 9, 'account': 10,\n",
              "                                             'aceh': 11, 'ada': 12,\n",
              "                                             'adabertemu': 13, 'adaby': 14,\n",
              "                                             'adainfo': 15, 'adajanji': 16,\n",
              "                                             'adajb': 17, 'adak': 18,\n",
              "                                             'adakons': 19, 'adaplan': 20,\n",
              "                                             'adarumah': 21, 'adasedang': 22,\n",
              "                                             'adaybs': 23, 'adc': 24,\n",
              "                                             'address': 25, 'adek': 26,\n",
              "                                             'adha': 27, 'adi': 28, 'adik': 29, ...})),\n",
              "                ('randomforestclassifier',\n",
              "                 RandomForestClassifier(class_weight='balanced', max_depth=15,\n",
              "                                        n_estimators=300, random_state=42))])"
            ],
            "text/html": [
              "<style>#sk-container-id-1 {\n",
              "  /* Definition of color scheme common for light and dark mode */\n",
              "  --sklearn-color-text: #000;\n",
              "  --sklearn-color-text-muted: #666;\n",
              "  --sklearn-color-line: gray;\n",
              "  /* Definition of color scheme for unfitted estimators */\n",
              "  --sklearn-color-unfitted-level-0: #fff5e6;\n",
              "  --sklearn-color-unfitted-level-1: #f6e4d2;\n",
              "  --sklearn-color-unfitted-level-2: #ffe0b3;\n",
              "  --sklearn-color-unfitted-level-3: chocolate;\n",
              "  /* Definition of color scheme for fitted estimators */\n",
              "  --sklearn-color-fitted-level-0: #f0f8ff;\n",
              "  --sklearn-color-fitted-level-1: #d4ebff;\n",
              "  --sklearn-color-fitted-level-2: #b3dbfd;\n",
              "  --sklearn-color-fitted-level-3: cornflowerblue;\n",
              "\n",
              "  /* Specific color for light theme */\n",
              "  --sklearn-color-text-on-default-background: var(--sg-text-color, var(--theme-code-foreground, var(--jp-content-font-color1, black)));\n",
              "  --sklearn-color-background: var(--sg-background-color, var(--theme-background, var(--jp-layout-color0, white)));\n",
              "  --sklearn-color-border-box: var(--sg-text-color, var(--theme-code-foreground, var(--jp-content-font-color1, black)));\n",
              "  --sklearn-color-icon: #696969;\n",
              "\n",
              "  @media (prefers-color-scheme: dark) {\n",
              "    /* Redefinition of color scheme for dark theme */\n",
              "    --sklearn-color-text-on-default-background: var(--sg-text-color, var(--theme-code-foreground, var(--jp-content-font-color1, white)));\n",
              "    --sklearn-color-background: var(--sg-background-color, var(--theme-background, var(--jp-layout-color0, #111)));\n",
              "    --sklearn-color-border-box: var(--sg-text-color, var(--theme-code-foreground, var(--jp-content-font-color1, white)));\n",
              "    --sklearn-color-icon: #878787;\n",
              "  }\n",
              "}\n",
              "\n",
              "#sk-container-id-1 {\n",
              "  color: var(--sklearn-color-text);\n",
              "}\n",
              "\n",
              "#sk-container-id-1 pre {\n",
              "  padding: 0;\n",
              "}\n",
              "\n",
              "#sk-container-id-1 input.sk-hidden--visually {\n",
              "  border: 0;\n",
              "  clip: rect(1px 1px 1px 1px);\n",
              "  clip: rect(1px, 1px, 1px, 1px);\n",
              "  height: 1px;\n",
              "  margin: -1px;\n",
              "  overflow: hidden;\n",
              "  padding: 0;\n",
              "  position: absolute;\n",
              "  width: 1px;\n",
              "}\n",
              "\n",
              "#sk-container-id-1 div.sk-dashed-wrapped {\n",
              "  border: 1px dashed var(--sklearn-color-line);\n",
              "  margin: 0 0.4em 0.5em 0.4em;\n",
              "  box-sizing: border-box;\n",
              "  padding-bottom: 0.4em;\n",
              "  background-color: var(--sklearn-color-background);\n",
              "}\n",
              "\n",
              "#sk-container-id-1 div.sk-container {\n",
              "  /* jupyter's `normalize.less` sets `[hidden] { display: none; }`\n",
              "     but bootstrap.min.css set `[hidden] { display: none !important; }`\n",
              "     so we also need the `!important` here to be able to override the\n",
              "     default hidden behavior on the sphinx rendered scikit-learn.org.\n",
              "     See: https://github.com/scikit-learn/scikit-learn/issues/21755 */\n",
              "  display: inline-block !important;\n",
              "  position: relative;\n",
              "}\n",
              "\n",
              "#sk-container-id-1 div.sk-text-repr-fallback {\n",
              "  display: none;\n",
              "}\n",
              "\n",
              "div.sk-parallel-item,\n",
              "div.sk-serial,\n",
              "div.sk-item {\n",
              "  /* draw centered vertical line to link estimators */\n",
              "  background-image: linear-gradient(var(--sklearn-color-text-on-default-background), var(--sklearn-color-text-on-default-background));\n",
              "  background-size: 2px 100%;\n",
              "  background-repeat: no-repeat;\n",
              "  background-position: center center;\n",
              "}\n",
              "\n",
              "/* Parallel-specific style estimator block */\n",
              "\n",
              "#sk-container-id-1 div.sk-parallel-item::after {\n",
              "  content: \"\";\n",
              "  width: 100%;\n",
              "  border-bottom: 2px solid var(--sklearn-color-text-on-default-background);\n",
              "  flex-grow: 1;\n",
              "}\n",
              "\n",
              "#sk-container-id-1 div.sk-parallel {\n",
              "  display: flex;\n",
              "  align-items: stretch;\n",
              "  justify-content: center;\n",
              "  background-color: var(--sklearn-color-background);\n",
              "  position: relative;\n",
              "}\n",
              "\n",
              "#sk-container-id-1 div.sk-parallel-item {\n",
              "  display: flex;\n",
              "  flex-direction: column;\n",
              "}\n",
              "\n",
              "#sk-container-id-1 div.sk-parallel-item:first-child::after {\n",
              "  align-self: flex-end;\n",
              "  width: 50%;\n",
              "}\n",
              "\n",
              "#sk-container-id-1 div.sk-parallel-item:last-child::after {\n",
              "  align-self: flex-start;\n",
              "  width: 50%;\n",
              "}\n",
              "\n",
              "#sk-container-id-1 div.sk-parallel-item:only-child::after {\n",
              "  width: 0;\n",
              "}\n",
              "\n",
              "/* Serial-specific style estimator block */\n",
              "\n",
              "#sk-container-id-1 div.sk-serial {\n",
              "  display: flex;\n",
              "  flex-direction: column;\n",
              "  align-items: center;\n",
              "  background-color: var(--sklearn-color-background);\n",
              "  padding-right: 1em;\n",
              "  padding-left: 1em;\n",
              "}\n",
              "\n",
              "\n",
              "/* Toggleable style: style used for estimator/Pipeline/ColumnTransformer box that is\n",
              "clickable and can be expanded/collapsed.\n",
              "- Pipeline and ColumnTransformer use this feature and define the default style\n",
              "- Estimators will overwrite some part of the style using the `sk-estimator` class\n",
              "*/\n",
              "\n",
              "/* Pipeline and ColumnTransformer style (default) */\n",
              "\n",
              "#sk-container-id-1 div.sk-toggleable {\n",
              "  /* Default theme specific background. It is overwritten whether we have a\n",
              "  specific estimator or a Pipeline/ColumnTransformer */\n",
              "  background-color: var(--sklearn-color-background);\n",
              "}\n",
              "\n",
              "/* Toggleable label */\n",
              "#sk-container-id-1 label.sk-toggleable__label {\n",
              "  cursor: pointer;\n",
              "  display: flex;\n",
              "  width: 100%;\n",
              "  margin-bottom: 0;\n",
              "  padding: 0.5em;\n",
              "  box-sizing: border-box;\n",
              "  text-align: center;\n",
              "  align-items: start;\n",
              "  justify-content: space-between;\n",
              "  gap: 0.5em;\n",
              "}\n",
              "\n",
              "#sk-container-id-1 label.sk-toggleable__label .caption {\n",
              "  font-size: 0.6rem;\n",
              "  font-weight: lighter;\n",
              "  color: var(--sklearn-color-text-muted);\n",
              "}\n",
              "\n",
              "#sk-container-id-1 label.sk-toggleable__label-arrow:before {\n",
              "  /* Arrow on the left of the label */\n",
              "  content: \"▸\";\n",
              "  float: left;\n",
              "  margin-right: 0.25em;\n",
              "  color: var(--sklearn-color-icon);\n",
              "}\n",
              "\n",
              "#sk-container-id-1 label.sk-toggleable__label-arrow:hover:before {\n",
              "  color: var(--sklearn-color-text);\n",
              "}\n",
              "\n",
              "/* Toggleable content - dropdown */\n",
              "\n",
              "#sk-container-id-1 div.sk-toggleable__content {\n",
              "  max-height: 0;\n",
              "  max-width: 0;\n",
              "  overflow: hidden;\n",
              "  text-align: left;\n",
              "  /* unfitted */\n",
              "  background-color: var(--sklearn-color-unfitted-level-0);\n",
              "}\n",
              "\n",
              "#sk-container-id-1 div.sk-toggleable__content.fitted {\n",
              "  /* fitted */\n",
              "  background-color: var(--sklearn-color-fitted-level-0);\n",
              "}\n",
              "\n",
              "#sk-container-id-1 div.sk-toggleable__content pre {\n",
              "  margin: 0.2em;\n",
              "  border-radius: 0.25em;\n",
              "  color: var(--sklearn-color-text);\n",
              "  /* unfitted */\n",
              "  background-color: var(--sklearn-color-unfitted-level-0);\n",
              "}\n",
              "\n",
              "#sk-container-id-1 div.sk-toggleable__content.fitted pre {\n",
              "  /* unfitted */\n",
              "  background-color: var(--sklearn-color-fitted-level-0);\n",
              "}\n",
              "\n",
              "#sk-container-id-1 input.sk-toggleable__control:checked~div.sk-toggleable__content {\n",
              "  /* Expand drop-down */\n",
              "  max-height: 200px;\n",
              "  max-width: 100%;\n",
              "  overflow: auto;\n",
              "}\n",
              "\n",
              "#sk-container-id-1 input.sk-toggleable__control:checked~label.sk-toggleable__label-arrow:before {\n",
              "  content: \"▾\";\n",
              "}\n",
              "\n",
              "/* Pipeline/ColumnTransformer-specific style */\n",
              "\n",
              "#sk-container-id-1 div.sk-label input.sk-toggleable__control:checked~label.sk-toggleable__label {\n",
              "  color: var(--sklearn-color-text);\n",
              "  background-color: var(--sklearn-color-unfitted-level-2);\n",
              "}\n",
              "\n",
              "#sk-container-id-1 div.sk-label.fitted input.sk-toggleable__control:checked~label.sk-toggleable__label {\n",
              "  background-color: var(--sklearn-color-fitted-level-2);\n",
              "}\n",
              "\n",
              "/* Estimator-specific style */\n",
              "\n",
              "/* Colorize estimator box */\n",
              "#sk-container-id-1 div.sk-estimator input.sk-toggleable__control:checked~label.sk-toggleable__label {\n",
              "  /* unfitted */\n",
              "  background-color: var(--sklearn-color-unfitted-level-2);\n",
              "}\n",
              "\n",
              "#sk-container-id-1 div.sk-estimator.fitted input.sk-toggleable__control:checked~label.sk-toggleable__label {\n",
              "  /* fitted */\n",
              "  background-color: var(--sklearn-color-fitted-level-2);\n",
              "}\n",
              "\n",
              "#sk-container-id-1 div.sk-label label.sk-toggleable__label,\n",
              "#sk-container-id-1 div.sk-label label {\n",
              "  /* The background is the default theme color */\n",
              "  color: var(--sklearn-color-text-on-default-background);\n",
              "}\n",
              "\n",
              "/* On hover, darken the color of the background */\n",
              "#sk-container-id-1 div.sk-label:hover label.sk-toggleable__label {\n",
              "  color: var(--sklearn-color-text);\n",
              "  background-color: var(--sklearn-color-unfitted-level-2);\n",
              "}\n",
              "\n",
              "/* Label box, darken color on hover, fitted */\n",
              "#sk-container-id-1 div.sk-label.fitted:hover label.sk-toggleable__label.fitted {\n",
              "  color: var(--sklearn-color-text);\n",
              "  background-color: var(--sklearn-color-fitted-level-2);\n",
              "}\n",
              "\n",
              "/* Estimator label */\n",
              "\n",
              "#sk-container-id-1 div.sk-label label {\n",
              "  font-family: monospace;\n",
              "  font-weight: bold;\n",
              "  display: inline-block;\n",
              "  line-height: 1.2em;\n",
              "}\n",
              "\n",
              "#sk-container-id-1 div.sk-label-container {\n",
              "  text-align: center;\n",
              "}\n",
              "\n",
              "/* Estimator-specific */\n",
              "#sk-container-id-1 div.sk-estimator {\n",
              "  font-family: monospace;\n",
              "  border: 1px dotted var(--sklearn-color-border-box);\n",
              "  border-radius: 0.25em;\n",
              "  box-sizing: border-box;\n",
              "  margin-bottom: 0.5em;\n",
              "  /* unfitted */\n",
              "  background-color: var(--sklearn-color-unfitted-level-0);\n",
              "}\n",
              "\n",
              "#sk-container-id-1 div.sk-estimator.fitted {\n",
              "  /* fitted */\n",
              "  background-color: var(--sklearn-color-fitted-level-0);\n",
              "}\n",
              "\n",
              "/* on hover */\n",
              "#sk-container-id-1 div.sk-estimator:hover {\n",
              "  /* unfitted */\n",
              "  background-color: var(--sklearn-color-unfitted-level-2);\n",
              "}\n",
              "\n",
              "#sk-container-id-1 div.sk-estimator.fitted:hover {\n",
              "  /* fitted */\n",
              "  background-color: var(--sklearn-color-fitted-level-2);\n",
              "}\n",
              "\n",
              "/* Specification for estimator info (e.g. \"i\" and \"?\") */\n",
              "\n",
              "/* Common style for \"i\" and \"?\" */\n",
              "\n",
              ".sk-estimator-doc-link,\n",
              "a:link.sk-estimator-doc-link,\n",
              "a:visited.sk-estimator-doc-link {\n",
              "  float: right;\n",
              "  font-size: smaller;\n",
              "  line-height: 1em;\n",
              "  font-family: monospace;\n",
              "  background-color: var(--sklearn-color-background);\n",
              "  border-radius: 1em;\n",
              "  height: 1em;\n",
              "  width: 1em;\n",
              "  text-decoration: none !important;\n",
              "  margin-left: 0.5em;\n",
              "  text-align: center;\n",
              "  /* unfitted */\n",
              "  border: var(--sklearn-color-unfitted-level-1) 1pt solid;\n",
              "  color: var(--sklearn-color-unfitted-level-1);\n",
              "}\n",
              "\n",
              ".sk-estimator-doc-link.fitted,\n",
              "a:link.sk-estimator-doc-link.fitted,\n",
              "a:visited.sk-estimator-doc-link.fitted {\n",
              "  /* fitted */\n",
              "  border: var(--sklearn-color-fitted-level-1) 1pt solid;\n",
              "  color: var(--sklearn-color-fitted-level-1);\n",
              "}\n",
              "\n",
              "/* On hover */\n",
              "div.sk-estimator:hover .sk-estimator-doc-link:hover,\n",
              ".sk-estimator-doc-link:hover,\n",
              "div.sk-label-container:hover .sk-estimator-doc-link:hover,\n",
              ".sk-estimator-doc-link:hover {\n",
              "  /* unfitted */\n",
              "  background-color: var(--sklearn-color-unfitted-level-3);\n",
              "  color: var(--sklearn-color-background);\n",
              "  text-decoration: none;\n",
              "}\n",
              "\n",
              "div.sk-estimator.fitted:hover .sk-estimator-doc-link.fitted:hover,\n",
              ".sk-estimator-doc-link.fitted:hover,\n",
              "div.sk-label-container:hover .sk-estimator-doc-link.fitted:hover,\n",
              ".sk-estimator-doc-link.fitted:hover {\n",
              "  /* fitted */\n",
              "  background-color: var(--sklearn-color-fitted-level-3);\n",
              "  color: var(--sklearn-color-background);\n",
              "  text-decoration: none;\n",
              "}\n",
              "\n",
              "/* Span, style for the box shown on hovering the info icon */\n",
              ".sk-estimator-doc-link span {\n",
              "  display: none;\n",
              "  z-index: 9999;\n",
              "  position: relative;\n",
              "  font-weight: normal;\n",
              "  right: .2ex;\n",
              "  padding: .5ex;\n",
              "  margin: .5ex;\n",
              "  width: min-content;\n",
              "  min-width: 20ex;\n",
              "  max-width: 50ex;\n",
              "  color: var(--sklearn-color-text);\n",
              "  box-shadow: 2pt 2pt 4pt #999;\n",
              "  /* unfitted */\n",
              "  background: var(--sklearn-color-unfitted-level-0);\n",
              "  border: .5pt solid var(--sklearn-color-unfitted-level-3);\n",
              "}\n",
              "\n",
              ".sk-estimator-doc-link.fitted span {\n",
              "  /* fitted */\n",
              "  background: var(--sklearn-color-fitted-level-0);\n",
              "  border: var(--sklearn-color-fitted-level-3);\n",
              "}\n",
              "\n",
              ".sk-estimator-doc-link:hover span {\n",
              "  display: block;\n",
              "}\n",
              "\n",
              "/* \"?\"-specific style due to the `<a>` HTML tag */\n",
              "\n",
              "#sk-container-id-1 a.estimator_doc_link {\n",
              "  float: right;\n",
              "  font-size: 1rem;\n",
              "  line-height: 1em;\n",
              "  font-family: monospace;\n",
              "  background-color: var(--sklearn-color-background);\n",
              "  border-radius: 1rem;\n",
              "  height: 1rem;\n",
              "  width: 1rem;\n",
              "  text-decoration: none;\n",
              "  /* unfitted */\n",
              "  color: var(--sklearn-color-unfitted-level-1);\n",
              "  border: var(--sklearn-color-unfitted-level-1) 1pt solid;\n",
              "}\n",
              "\n",
              "#sk-container-id-1 a.estimator_doc_link.fitted {\n",
              "  /* fitted */\n",
              "  border: var(--sklearn-color-fitted-level-1) 1pt solid;\n",
              "  color: var(--sklearn-color-fitted-level-1);\n",
              "}\n",
              "\n",
              "/* On hover */\n",
              "#sk-container-id-1 a.estimator_doc_link:hover {\n",
              "  /* unfitted */\n",
              "  background-color: var(--sklearn-color-unfitted-level-3);\n",
              "  color: var(--sklearn-color-background);\n",
              "  text-decoration: none;\n",
              "}\n",
              "\n",
              "#sk-container-id-1 a.estimator_doc_link.fitted:hover {\n",
              "  /* fitted */\n",
              "  background-color: var(--sklearn-color-fitted-level-3);\n",
              "}\n",
              "</style><div id=\"sk-container-id-1\" class=\"sk-top-container\"><div class=\"sk-text-repr-fallback\"><pre>Pipeline(steps=[(&#x27;countvectorizer&#x27;,\n",
              "                 CountVectorizer(preprocessor=&lt;bound method TextCleaning.preprocess of &lt;__main__.TextCleaning object at 0x799271dc4730&gt;&gt;,\n",
              "                                 vocabulary={&#x27;abai&#x27;: 0, &#x27;abang&#x27;: 1, &#x27;abar&#x27;: 2,\n",
              "                                             &#x27;abd&#x27;: 3, &#x27;abdi&#x27;: 4, &#x27;abgkat&#x27;: 5,\n",
              "                                             &#x27;abk&#x27;: 6, &#x27;absen&#x27;: 7, &#x27;acara&#x27;: 8,\n",
              "                                             &#x27;access&#x27;: 9, &#x27;account&#x27;: 10,\n",
              "                                             &#x27;aceh&#x27;: 11, &#x27;ada&#x27;: 12,\n",
              "                                             &#x27;adabertemu&#x27;: 13, &#x27;adaby&#x27;: 14,\n",
              "                                             &#x27;adainfo&#x27;: 15, &#x27;adajanji&#x27;: 16,\n",
              "                                             &#x27;adajb&#x27;: 17, &#x27;adak&#x27;: 18,\n",
              "                                             &#x27;adakons&#x27;: 19, &#x27;adaplan&#x27;: 20,\n",
              "                                             &#x27;adarumah&#x27;: 21, &#x27;adasedang&#x27;: 22,\n",
              "                                             &#x27;adaybs&#x27;: 23, &#x27;adc&#x27;: 24,\n",
              "                                             &#x27;address&#x27;: 25, &#x27;adek&#x27;: 26,\n",
              "                                             &#x27;adha&#x27;: 27, &#x27;adi&#x27;: 28, &#x27;adik&#x27;: 29, ...})),\n",
              "                (&#x27;randomforestclassifier&#x27;,\n",
              "                 RandomForestClassifier(class_weight=&#x27;balanced&#x27;, max_depth=15,\n",
              "                                        n_estimators=300, random_state=42))])</pre><b>In a Jupyter environment, please rerun this cell to show the HTML representation or trust the notebook. <br />On GitHub, the HTML representation is unable to render, please try loading this page with nbviewer.org.</b></div><div class=\"sk-container\" hidden><div class=\"sk-item sk-dashed-wrapped\"><div class=\"sk-label-container\"><div class=\"sk-label fitted sk-toggleable\"><input class=\"sk-toggleable__control sk-hidden--visually\" id=\"sk-estimator-id-1\" type=\"checkbox\" ><label for=\"sk-estimator-id-1\" class=\"sk-toggleable__label fitted sk-toggleable__label-arrow\"><div><div>Pipeline</div></div><div><a class=\"sk-estimator-doc-link fitted\" rel=\"noreferrer\" target=\"_blank\" href=\"https://scikit-learn.org/1.6/modules/generated/sklearn.pipeline.Pipeline.html\">?<span>Documentation for Pipeline</span></a><span class=\"sk-estimator-doc-link fitted\">i<span>Fitted</span></span></div></label><div class=\"sk-toggleable__content fitted\"><pre>Pipeline(steps=[(&#x27;countvectorizer&#x27;,\n",
              "                 CountVectorizer(preprocessor=&lt;bound method TextCleaning.preprocess of &lt;__main__.TextCleaning object at 0x799271dc4730&gt;&gt;,\n",
              "                                 vocabulary={&#x27;abai&#x27;: 0, &#x27;abang&#x27;: 1, &#x27;abar&#x27;: 2,\n",
              "                                             &#x27;abd&#x27;: 3, &#x27;abdi&#x27;: 4, &#x27;abgkat&#x27;: 5,\n",
              "                                             &#x27;abk&#x27;: 6, &#x27;absen&#x27;: 7, &#x27;acara&#x27;: 8,\n",
              "                                             &#x27;access&#x27;: 9, &#x27;account&#x27;: 10,\n",
              "                                             &#x27;aceh&#x27;: 11, &#x27;ada&#x27;: 12,\n",
              "                                             &#x27;adabertemu&#x27;: 13, &#x27;adaby&#x27;: 14,\n",
              "                                             &#x27;adainfo&#x27;: 15, &#x27;adajanji&#x27;: 16,\n",
              "                                             &#x27;adajb&#x27;: 17, &#x27;adak&#x27;: 18,\n",
              "                                             &#x27;adakons&#x27;: 19, &#x27;adaplan&#x27;: 20,\n",
              "                                             &#x27;adarumah&#x27;: 21, &#x27;adasedang&#x27;: 22,\n",
              "                                             &#x27;adaybs&#x27;: 23, &#x27;adc&#x27;: 24,\n",
              "                                             &#x27;address&#x27;: 25, &#x27;adek&#x27;: 26,\n",
              "                                             &#x27;adha&#x27;: 27, &#x27;adi&#x27;: 28, &#x27;adik&#x27;: 29, ...})),\n",
              "                (&#x27;randomforestclassifier&#x27;,\n",
              "                 RandomForestClassifier(class_weight=&#x27;balanced&#x27;, max_depth=15,\n",
              "                                        n_estimators=300, random_state=42))])</pre></div> </div></div><div class=\"sk-serial\"><div class=\"sk-item\"><div class=\"sk-estimator fitted sk-toggleable\"><input class=\"sk-toggleable__control sk-hidden--visually\" id=\"sk-estimator-id-2\" type=\"checkbox\" ><label for=\"sk-estimator-id-2\" class=\"sk-toggleable__label fitted sk-toggleable__label-arrow\"><div><div>CountVectorizer</div></div><div><a class=\"sk-estimator-doc-link fitted\" rel=\"noreferrer\" target=\"_blank\" href=\"https://scikit-learn.org/1.6/modules/generated/sklearn.feature_extraction.text.CountVectorizer.html\">?<span>Documentation for CountVectorizer</span></a></div></label><div class=\"sk-toggleable__content fitted\"><pre>CountVectorizer(preprocessor=&lt;bound method TextCleaning.preprocess of &lt;__main__.TextCleaning object at 0x799271dc4730&gt;&gt;,\n",
              "                vocabulary={&#x27;abai&#x27;: 0, &#x27;abang&#x27;: 1, &#x27;abar&#x27;: 2, &#x27;abd&#x27;: 3,\n",
              "                            &#x27;abdi&#x27;: 4, &#x27;abgkat&#x27;: 5, &#x27;abk&#x27;: 6, &#x27;absen&#x27;: 7,\n",
              "                            &#x27;acara&#x27;: 8, &#x27;access&#x27;: 9, &#x27;account&#x27;: 10, &#x27;aceh&#x27;: 11,\n",
              "                            &#x27;ada&#x27;: 12, &#x27;adabertemu&#x27;: 13, &#x27;adaby&#x27;: 14,\n",
              "                            &#x27;adainfo&#x27;: 15, &#x27;adajanji&#x27;: 16, &#x27;adajb&#x27;: 17,\n",
              "                            &#x27;adak&#x27;: 18, &#x27;adakons&#x27;: 19, &#x27;adaplan&#x27;: 20,\n",
              "                            &#x27;adarumah&#x27;: 21, &#x27;adasedang&#x27;: 22, &#x27;adaybs&#x27;: 23,\n",
              "                            &#x27;adc&#x27;: 24, &#x27;address&#x27;: 25, &#x27;adek&#x27;: 26, &#x27;adha&#x27;: 27,\n",
              "                            &#x27;adi&#x27;: 28, &#x27;adik&#x27;: 29, ...})</pre></div> </div></div><div class=\"sk-item\"><div class=\"sk-estimator fitted sk-toggleable\"><input class=\"sk-toggleable__control sk-hidden--visually\" id=\"sk-estimator-id-3\" type=\"checkbox\" ><label for=\"sk-estimator-id-3\" class=\"sk-toggleable__label fitted sk-toggleable__label-arrow\"><div><div>RandomForestClassifier</div></div><div><a class=\"sk-estimator-doc-link fitted\" rel=\"noreferrer\" target=\"_blank\" href=\"https://scikit-learn.org/1.6/modules/generated/sklearn.ensemble.RandomForestClassifier.html\">?<span>Documentation for RandomForestClassifier</span></a></div></label><div class=\"sk-toggleable__content fitted\"><pre>RandomForestClassifier(class_weight=&#x27;balanced&#x27;, max_depth=15, n_estimators=300,\n",
              "                       random_state=42)</pre></div> </div></div></div></div></div></div>"
            ]
          },
          "metadata": {},
          "execution_count": 18
        }
      ]
    },
    {
      "cell_type": "code",
      "source": [
        "model.predict(text)"
      ],
      "metadata": {
        "colab": {
          "base_uri": "https://localhost:8080/"
        },
        "id": "gBlCLwtu5PEF",
        "outputId": "0989ba58-2159-4038-e3a8-250fe229e043"
      },
      "execution_count": null,
      "outputs": [
        {
          "output_type": "execute_result",
          "data": {
            "text/plain": [
              "array(['other family house'], dtype=object)"
            ]
          },
          "metadata": {},
          "execution_count": 19
        }
      ]
    },
    {
      "cell_type": "code",
      "source": [
        "import pickle\n",
        "with open('RFC_ver1.1.pkl', 'wb') as f:\n",
        "    pickle.dump(model, f)"
      ],
      "metadata": {
        "id": "B1G-Klrw5TAI"
      },
      "execution_count": null,
      "outputs": []
    }
  ]
}