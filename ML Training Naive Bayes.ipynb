{
  "cells": [
    {
      "cell_type": "code",
      "execution_count": null,
      "metadata": {
        "colab": {
          "base_uri": "https://localhost:8080/"
        },
        "id": "NP1Jae9UzWrf",
        "outputId": "80af2fb9-c297-413e-9f73-c81c8855e52e"
      },
      "outputs": [
        {
          "name": "stdout",
          "output_type": "stream",
          "text": [
            "Requirement already satisfied: tweet-preprocessor in /usr/local/lib/python3.10/dist-packages (0.6.0)\n",
            "Requirement already satisfied: sastrawi in /usr/local/lib/python3.10/dist-packages (1.0.1)\n",
            "Requirement already satisfied: emoji in /usr/local/lib/python3.10/dist-packages (2.14.0)\n",
            "Requirement already satisfied: PySastrawi in /usr/local/lib/python3.10/dist-packages (1.2.0)\n",
            "Requirement already satisfied: scikit-learn==1.6.0 in /usr/local/lib/python3.10/dist-packages (1.6.0)\n",
            "Requirement already satisfied: numpy>=1.19.5 in /usr/local/lib/python3.10/dist-packages (from scikit-learn==1.6.0) (1.26.4)\n",
            "Requirement already satisfied: scipy>=1.6.0 in /usr/local/lib/python3.10/dist-packages (from scikit-learn==1.6.0) (1.13.1)\n",
            "Requirement already satisfied: joblib>=1.2.0 in /usr/local/lib/python3.10/dist-packages (from scikit-learn==1.6.0) (1.4.2)\n",
            "Requirement already satisfied: threadpoolctl>=3.1.0 in /usr/local/lib/python3.10/dist-packages (from scikit-learn==1.6.0) (3.5.0)\n"
          ]
        }
      ],
      "source": [
        "# !pip install tweet-preprocessor\n",
        "# !pip install sastrawi\n",
        "# !pip install emoji\n",
        "# !pip install PySastrawi\n",
        "# !pip install scikit-learn==1.6.0"
      ]
    },
    {
      "cell_type": "markdown",
      "metadata": {
        "id": "OSsw5bypkazV"
      },
      "source": [
        "### ***Import Libraries***"
      ]
    },
    {
      "cell_type": "code",
      "execution_count": 1,
      "metadata": {
        "id": "8HCNLhXFfmKP"
      },
      "outputs": [],
      "source": [
        "import pandas as pd\n",
        "from Sastrawi.Stemmer.StemmerFactory import StemmerFactory\n",
        "from Sastrawi.Stemmer.Stemmer import Stemmer\n",
        "from nltk.corpus.reader.twitter import TweetTokenizer\n",
        "from sklearn.feature_extraction.text import CountVectorizer\n",
        "from sklearn.feature_extraction.text import TfidfVectorizer\n",
        "from sklearn.model_selection import train_test_split\n",
        "import re\n",
        "import string\n",
        "import nltk\n",
        "from nltk.corpus import stopwords\n",
        "import numpy as np\n",
        "from sklearn.model_selection import train_test_split\n",
        "\n",
        "# Naive-Bayes' Package\n",
        "from sklearn.naive_bayes import MultinomialNB\n",
        "from sklearn.metrics import accuracy_score\n",
        "from sklearn.metrics import classification_report\n",
        "from sklearn.metrics import confusion_matrix\n",
        "from sklearn.model_selection import GridSearchCV\n",
        "from sklearn.pipeline import make_pipeline"
      ]
    },
    {
      "cell_type": "markdown",
      "metadata": {
        "id": "vGLyMpyikeMt"
      },
      "source": [
        "### ***Data Preprocessing***"
      ]
    },
    {
      "cell_type": "code",
      "execution_count": 2,
      "metadata": {
        "id": "dC5HFJjZpTAl"
      },
      "outputs": [],
      "source": [
        "class TextCleaning:\n",
        "    def __init__(self, glossary, stopwords):\n",
        "        self.glossary = dict(zip(glossary['slang'], glossary['formal']))\n",
        "        self.stopwords = list(stopwords)\n",
        "        self.factory = StemmerFactory()\n",
        "        self.stemmer = self.factory.create_stemmer()\n",
        "        self.tokenizer = TweetTokenizer(preserve_case=False, strip_handles=True, reduce_len=True)\n",
        "\n",
        "    def clean_text(self, text):\n",
        "        #tokenize tweet\n",
        "\n",
        "        text_tokens = self.tokenizer.tokenize(text)\n",
        "\n",
        "        text_clean = []\n",
        "        for word in text_tokens:\n",
        "          if (word not in self.stopwords and\n",
        "              word not in string.punctuation):\n",
        "            stem_word = self.stemmer.stem(word)\n",
        "            text_clean.append(stem_word)\n",
        "        return text_clean\n",
        "\n",
        "    #remove punct\n",
        "    def remove_punct(self, text_list):\n",
        "      text = \" \".join([char for char in text_list if char not in string.punctuation])\n",
        "      return text\n",
        "\n",
        "        #Fungsi Prepocessing\n",
        "\n",
        "    def preprocess(self, text):\n",
        "      text = text.lower() # lowercasing\n",
        "      text = re.sub(r'[^0-9a-zA-Z]+', ' ', text) # non-alpha numeric\n",
        "      text = re.sub(r'[\\d+]+', '', text) # numeric\n",
        "      text = re.sub(r'\\\\x[0-9a-fA-F]{2}', '', text) # emoji\n",
        "      text = ' '.join([self.glossary[word] if word in self.glossary else word for word in text.split()]) # normalize\n",
        "      text = ' '.join(['' if word in self.stopwords else word for word in text.split()]) # stopwords\n",
        "      text = self.remove_punct(self.clean_text(text)) # punctuation\n",
        "      return text"
      ]
    },
    {
      "cell_type": "code",
      "execution_count": 3,
      "metadata": {
        "id": "mAmdlvZRAfZ_"
      },
      "outputs": [],
      "source": [
        "class CreateVocabulary:\n",
        "    def __init__(self, dataset, preprocessor):\n",
        "        self.dataset = dataset\n",
        "        self.preprocessor = preprocessor\n",
        "\n",
        "    def create_corpus(self):\n",
        "        if type(self.dataset) == pd.core.frame.DataFrame:\n",
        "          return list(self.dataset['remarks'])\n",
        "        elif type(self.dataset) == list:\n",
        "          return list(pd.concat(self.dataset)['remarks'])\n",
        "        else:\n",
        "          return None\n",
        "\n",
        "    def create_vocabulary(self):\n",
        "        corpus = self.create_corpus()\n",
        "        vocabulary_list = [self.preprocessor.preprocess(text).split() for text in corpus]\n",
        "        vocabulary = sum(vocabulary_list, [])\n",
        "        vocabulary = list(set(vocabulary))\n",
        "        vocabulary.sort()\n",
        "        vocabulary = dict(zip(vocabulary, range(len(vocabulary))))\n",
        "        return vocabulary"
      ]
    },
    {
      "cell_type": "code",
      "execution_count": 4,
      "metadata": {
        "id": "Mz8xuAhNuMJt"
      },
      "outputs": [],
      "source": [
        "train = pd.read_csv(\"Dataset/train_data.csv\", index_col=0).reset_index(drop=True)\n",
        "test = pd.read_csv(\"Dataset/test_data.csv\", index_col=0).reset_index(drop=True)\n",
        "stopwords = pd.read_csv(\"Dataset/stopwords.csv\")[\"stopwords\"]\n",
        "glossary = pd.read_csv(\"Dataset/glossary.csv\", index_col=0).reset_index(drop=True)\n"
      ]
    },
    {
      "cell_type": "code",
      "execution_count": 5,
      "metadata": {
        "id": "eQ13sg40F9BB"
      },
      "outputs": [],
      "source": [
        "preprocessor = TextCleaning(glossary=glossary, stopwords=stopwords)\n",
        "vocabulary = CreateVocabulary([train, test], preprocessor).create_vocabulary()"
      ]
    },
    {
      "cell_type": "code",
      "execution_count": 6,
      "metadata": {
        "colab": {
          "base_uri": "https://localhost:8080/"
        },
        "id": "hs2wHYjNoscB",
        "outputId": "88fc1836-f753-4d80-a15d-cef773d1c88a"
      },
      "outputs": [
        {
          "name": "stdout",
          "output_type": "stream",
          "text": [
            "kunjung rumah konsumen follow up janji bayar besok pagi\n"
          ]
        }
      ],
      "source": [
        "text = \"Saya berkunjung ke rmh kons. fu jb besok pg ada ,a .!?\"\n",
        "c = TextCleaning(glossary=glossary, stopwords=stopwords).preprocess(text)\n",
        "print(c)"
      ]
    },
    {
      "cell_type": "code",
      "execution_count": 7,
      "metadata": {
        "colab": {
          "base_uri": "https://localhost:8080/"
        },
        "id": "jMUEsO-mDuzq",
        "outputId": "df07b1eb-af80-43cc-b424-279493fd1035"
      },
      "outputs": [
        {
          "name": "stdout",
          "output_type": "stream",
          "text": [
            "{'abai': 0, 'abang': 1, 'abar': 2, 'abd': 3, 'abdi': 4, 'abgkat': 5, 'abk': 6, 'absen': 7, 'acara': 8, 'access': 9, 'account': 10, 'aceh': 11, 'activity': 12, 'activty': 13, 'ada': 14, 'adabertemu': 15, 'adaby': 16, 'adainfo': 17, 'adajanji': 18, 'adajb': 19, 'adak': 20, 'adakons': 21, 'adaplan': 22, 'adarumah': 23, 'adasedang': 24, 'adaybs': 25, 'adc': 26, 'address': 27, 'adek': 28, 'adha': 29, 'adi': 30, 'adik': 31, 'adike': 32, 'adiknyaunit': 33, 'adisucipto': 34, 'adiyasa': 35, 'admin': 36, 'ads': 37, 'adu': 38, 'afniaty': 39, 'agency': 40, 'agenda': 41, 'agmon': 42, 'agun': 43, 'agung': 44, 'agustus': 45, 'agya': 46, 'ahanf': 47, 'ahir': 48, 'ahli': 49, 'ahmad': 50, 'air': 51, 'airmadidi': 52, 'ajak': 53, 'ajar': 54, 'aji': 55, 'ajik': 56, 'ajikpenekanan': 57, 'aju': 58, 'aka': 59, 'akam': 60, 'akansegera': 61, 'akgor': 62, 'akher': 63, 'akhie': 64, 'akhir': 65, 'akhirbulan': 66, 'akibat': 67, 'akqn': 68, 'akses': 69, 'aktf': 70, 'aktif': 71, 'aktiffam': 72, 'aktiv': 73, 'aktiviti': 74, 'aktivitinya': 75, 'aktivity': 76, 'aktivy': 77, 'aku': 78, 'al': 79, 'alam': 80, 'alamaain': 81, 'alamar': 82, 'alamat': 83, 'alamatdan': 84, 'alamatsekarang': 85, 'alamatvisit': 86, 'alamay': 87, 'alami': 88, 'alan': 89, 'alas': 90, 'alat': 91, 'albar': 92, 'alesan': 93, 'alfa': 94, 'alfamaert': 95, 'alfamar': 96, 'alfamart': 97, 'alfamidi': 98, 'alfamidii': 99, 'alfamsrt': 100, 'alfanart': 101, 'ali': 102, 'alih': 103, 'allekuang': 104, 'almaay': 105, 'alokasi': 106, 'alsan': 107, 'altaudan': 108, 'alternatif': 109, 'alun': 110, 'ama': 111, 'aman': 112, 'ambal': 113, 'ambar': 114, 'ambawang': 115, 'ambil': 116, 'ambon': 117, 'aminuddin': 118, 'amor': 119, 'amortisasi': 120, 'ampana': 121, 'amprak': 122, 'amurang': 123, 'an': 124, 'ana': 125, 'anak': 126, 'andai': 127, 'andal': 128, 'andi': 129, 'andri': 130, 'andriyanto': 131, 'angakt': 132, 'anggota': 133, 'anggraini': 134, 'angjtan': 135, 'angka': 136, 'angkat': 137, 'angkul': 138, 'angkut': 139, 'angkutanfam': 140, 'angota': 141, 'angs': 142, 'angso': 143, 'angsran': 144, 'angsrn': 145, 'angsuean': 146, 'angsur': 147, 'angsura': 148, 'angsuranelalui': 149, 'angsurannyatidak': 150, 'angsurannyaunit': 151, 'angsuranya': 152, 'angsurqn': 153, 'angsursn': 154, 'anguran': 155, 'ankat': 156, 'anknyainfo': 157, 'annisa': 158, 'ano': 159, 'ansuran': 160, 'antar': 161, 'antat': 162, 'anter': 163, 'antri': 164, 'api': 165, 'apip': 166, 'aplikasi': 167, 'apotek': 168, 'april': 169, 'aprilunit': 170, 'arah': 171, 'arahin': 172, 'arahman': 173, 'arap': 174, 'ardy': 175, 'area': 176, 'argumen': 177, 'ari': 178, 'arianto': 179, 'arifin': 180, 'ariska': 181, 'arjawinangun': 182, 'arling': 183, 'arman': 184, 'arsan': 185, 'art': 186, 'asa': 187, 'asai': 188, 'asep': 189, 'aset': 190, 'ashar': 191, 'asia': 192, 'asiap': 193, 'asli': 194, 'asnawai': 195, 'asrama': 196, 'asramaby': 197, 'asramanha': 198, 'asri': 199, 'asset': 200, 'assign': 201, 'assing': 202, 'asti': 203, 'asuran': 204, 'asuransi': 205, 'at': 206, 'atan': 207, 'atas': 208, 'atasnama': 209, 'awal': 210, 'awas': 211, 'awin': 212, 'ayah': 213, 'ayam': 214, 'ayamaru': 215, 'ayamunit': 216, 'ayar': 217, 'aybs': 218, 'ayg': 219, 'azhar': 220, 'aziz': 221, 'azzam': 222, 'ba': 223, 'baayar': 224, 'babelan': 225, 'babi': 226, 'baca': 227, 'back': 228, 'bad': 229, 'badak': 230, 'badan': 231, 'badd': 232, 'baddebt': 233, 'bagi': 234, 'bagus': 235, 'bahan': 236, 'baharu': 237, 'bahas': 238, 'bahasa': 239, 'baik': 240, 'baikpk': 241, 'bailusi': 242, 'baju': 243, 'bakso': 244, 'bakti': 245, 'bal': 246, 'balai': 247, 'balaidesa': 248, 'balandai': 249, 'balas': 250, 'baldes': 251, 'bambe': 252, 'bamh': 253, 'bamhs': 254, 'bams': 255, 'ban': 256, 'bandar': 257, 'bandara': 258, 'bandoa': 259, 'bandung': 260, 'bang': 261, 'bangka': 262, 'bangkinang': 263, 'bangkirai': 264, 'bangkit': 265, 'bangko': 266, 'bangkrut': 267, 'bangkrutrencan': 268, 'bangsa': 269, 'bangsal': 270, 'bangun': 271, 'banjarbaru': 272, 'banjarmasin': 273, 'banjir': 274, 'bank': 275, 'banking': 276, 'bantu': 277, 'banyun': 278, 'bapak': 279, 'bar': 280, 'barang': 281, 'barat': 282, 'baru': 283, 'barusan': 284, 'basil': 285, 'batang': 286, 'batas': 287, 'bate': 288, 'baterai': 289, 'batray': 290, 'batre': 291, 'batu': 292, 'bauar': 293, 'bawa': 294, 'bawak': 295, 'bawang': 296, 'bay': 297, 'bayan': 298, 'bayar': 299, 'bayarb': 300, 'bayarin': 301, 'bayarkemdlaa': 302, 'bayarkons': 303, 'bayat': 304, 'bbrapa': 305, 'beach': 306, 'beam': 307, 'beaok': 308, 'beat': 309, 'beda': 310, 'bego': 311, 'bekas': 312, 'bekatul': 313, 'bekerjabertemu': 314, 'bekerjadihubungi': 315, 'bekerjasudah': 316, 'belah': 317, 'belakang': 318, 'belanja': 319, 'beli': 320, 'beliau': 321, 'belit': 322, 'belitung': 323, 'belumnada': 324, 'belumnrespont': 325, 'bendahara': 326, 'bendosewu': 327, 'bengkel': 328, 'bengsoan': 329, 'benkel': 330, 'benny': 331, 'bensin': 332, 'bentur': 333, 'benua': 334, 'berangkat': 335, 'berat': 336, 'beri': 337, 'berkas': 338, 'bertemifam': 339, 'bertemuby': 340, 'bertemy': 341, 'bertenggung': 342, 'bertmu': 343, 'bertrmu': 344, 'besok': 345, 'besokunit': 346, 'besokvisit': 347, 'besuk': 348, 'betemue': 349, 'bethesda': 350, 'bfi': 351, 'bfisudah': 352, 'bgian': 353, 'bgti': 354, 'biar': 355, 'biaya': 356, 'biayasebelum': 357, 'bicara': 358, 'bidang': 359, 'bikin': 360, 'bilang': 361, 'bingung': 362, 'bintang': 363, 'birman': 364, 'biro': 365, 'bituh': 366, 'bitung': 367, 'bkerja': 368, 'blakang': 369, 'blank': 370, 'bleset': 371, 'blimbing': 372, 'block': 373, 'blok': 374, 'blokir': 375, 'bnjar': 376, 'bnjarnegara': 377, 'boalemo': 378, 'bogor': 379, 'bohong': 380, 'bojonegroro': 381, 'boleh': 382, 'bombana': 383, 'bontang': 384, 'bonus': 385, 'bor': 386, 'boromeus': 387, 'borong': 388, 'bos': 389, 'box': 390, 'bp': 391, 'bpd': 392, 'bpjs': 393, 'bpkb': 394, 'bpm': 395, 'bpn': 396, 'bpr': 397, 'bpsk': 398, 'brambang': 399, 'brangkat': 400, 'brd': 401, 'breafing': 402, 'breset': 403, 'bri': 404, 'brigif': 405, 'brimob': 406, 'briva': 407, 'brobat': 408, 'broken': 409, 'brondolan': 410, 'brteju': 411, 'brtm': 412, 'brtmu': 413, 'brtnyanke': 414, 'brusan': 415, 'bsd': 416, 'btc': 417, 'btn': 418, 'bu': 419, 'buah': 420, 'buat': 421, 'buc': 422, 'bucket': 423, 'budi': 424, 'budinext': 425, 'buka': 426, 'bukafam': 427, 'bukti': 428, 'bulan': 429, 'bulandan': 430, 'bulanfam': 431, 'bulanjbbayar': 432, 'bulanpress': 433, 'bulansisanya': 434, 'bulu': 435, 'bulung': 436, 'bumi': 437, 'bupati': 438, 'burik': 439, 'burjonanselesei': 440, 'buru': 441, 'buruk': 442, 'burukk': 443, 'burung': 444, 'bus': 445, 'by': 446, 'byar': 447, 'bybohone': 448, 'bye': 449, 'byfhone': 450, 'byfon': 451, 'byohone': 452, 'byp': 453, 'byphoen': 454, 'byphone': 455, 'ca': 456, 'cab': 457, 'cabang': 458, 'cabay': 459, 'cafe': 460, 'cahyoni': 461, 'cahyono': 462, 'cair': 463, 'calk': 464, 'call': 465, 'calo': 466, 'calon': 467, 'camat': 468, 'camming': 469, 'campur': 470, 'camry': 471, 'candirenggo': 472, 'candu': 473, 'cangkring': 474, 'capil': 475, 'car': 476, 'caracas': 477, 'cari': 478, 'carrent': 479, 'case': 480, 'cash': 481, 'catering': 482, 'cc': 483, 'cecep': 484, 'cek': 485, 'cekling': 486, 'ceklis': 487, 'celaka': 488, 'cempaka': 489, 'center': 490, 'cepat': 491, 'cerai': 492, 'cetak': 493, 'cewek': 494, 'chandra': 495, 'character': 496, 'chat': 497, 'checkup': 498, 'cheng': 499, 'chuk': 500, 'ciantra': 501, 'cibanteng': 502, 'cibenda': 503, 'cibeunying': 504, 'cicil': 505, 'cidera': 506, 'cikarang': 507, 'cikeunyi': 508, 'cikutra': 509, 'cilok': 510, 'cinde': 511, 'cinunuk': 512, 'cipetir': 513, 'ciptodan': 514, 'ciputat': 515, 'cirebon': 516, 'citra': 517, 'city': 518, 'cityland': 519, 'ciwidey': 520, 'claim': 521, 'class': 522, 'cms': 523, 'cnpl': 524, 'coba': 525, 'cocok': 526, 'cod': 527, 'codan': 528, 'codenan': 529, 'collapse': 530, 'collection': 531, 'collector': 532, 'complet': 533, 'confin': 534, 'confins': 535, 'consumen': 536, 'contact': 537, 'contak': 538, 'corfri': 539, 'corporate': 540, 'crikan': 541, 'cs': 542, 'csi': 543, 'ctr': 544, 'cucu': 545, 'cukup': 546, 'cukupjika': 547, 'cuman': 548, 'curah': 549, 'curent': 550, 'curi': 551, 'current': 552, 'currentcod': 553, 'currentdan': 554, 'curretkons': 555, 'currnet': 556, 'custbkerja': 557, 'customer': 558, 'custrumah': 559, 'cuti': 560, 'dab': 561, 'dadaha': 562, 'daei': 563, 'daera': 564, 'daerah': 565, 'dagang': 566, 'dagangdeb': 567, 'daging': 568, 'dah': 569, 'dahlan': 570, 'daily': 571, 'dakam': 572, 'dal': 573, 'dalam': 574, 'dalih': 575, 'dalu': 576, 'damping': 577, 'dana': 578, 'danaakand': 579, 'danaatas': 580, 'danah': 581, 'danang': 582, 'danankons': 583, 'danaraja': 584, 'dapat': 585, 'dar': 586, 'darat': 587, 'darmawan': 588, 'darsih': 589, 'darurat': 590, 'data': 591, 'datang': 592, 'date': 593, 'dateline': 594, 'dawe': 595, 'dawet': 596, 'dayodara': 597, 'db': 598, 'dbtr': 599, 'dbyrkn': 600, 'ddg': 601, 'deadline': 602, 'dealan': 603, 'dealer': 604, 'deb': 605, 'debbayar': 606, 'debitu': 607, 'debitur': 608, 'debiturtapi': 609, 'debjumpa': 610, 'debt': 611, 'debtdebt': 612, 'debtibu': 613, 'debtpunya': 614, 'deden': 615, 'dedi': 616, 'dedy': 617, 'deg': 618, 'dekat': 619, 'demgan': 620, 'denah': 621, 'denda': 622, 'dengab': 623, 'dengar': 624, 'dengkol': 625, 'dengn': 626, 'denpom': 627, 'denzipur': 628, 'deotapi': 629, 'depan': 630, 'depitur': 631, 'deras': 632, 'dersalan': 633, 'desa': 634, 'desak': 635, 'desi': 636, 'detail': 637, 'deteksi': 638, 'developer': 639, 'dewan': 640, 'dewi': 641, 'dewiza': 642, 'dgan': 643, 'dhbngi': 644, 'dia': 645, 'dialfamart': 646, 'dialfamartunit': 647, 'diam': 648, 'diangkatfam': 649, 'diangkt': 650, 'diasset': 651, 'diassign': 652, 'dibalamt': 653, 'dibanjarmasin': 654, 'dibkantir': 655, 'dibsd': 656, 'dibyarkan': 657, 'dibypass': 658, 'dibyphone': 659, 'dicollector': 660, 'didawe': 661, 'dideket': 662, 'didlm': 663, 'difu': 664, 'digadaibeam': 665, 'digade': 666, 'digadekan': 667, 'dihandil': 668, 'dihub': 669, 'dihubungin': 670, 'diindomaret': 671, 'diinput': 672, 'dijakarta': 673, 'dijawa': 674, 'dijualfam': 675, 'dikantorno': 676, 'dikantorrencana': 677, 'dikarnakan': 678, 'dikarnkan': 679, 'dikawwl': 680, 'dikebumen': 681, 'dikit': 682, 'dikos': 683, 'dikost': 684, 'dikostx': 685, 'dikpora': 686, 'dikrnakan': 687, 'diluardiindomaret': 688, 'dimalaysiadihubungi': 689, 'dimangkal': 690, 'dinalamat': 691, 'dinas': 692, 'dinkantornego': 693, 'dinper': 694, 'dinsistem': 695, 'dioverbkons': 696, 'diperjalana': 697, 'dipucakwanginganter': 698, 'direktur': 699, 'direspon': 700, 'diresponkons': 701, 'direvisit': 702, 'diri': 703, 'dirs': 704, 'diruma': 705, 'dirumahinfo': 706, 'dirumahunit': 707, 'dirumh': 708, 'dis': 709, 'disamperin': 710, 'disbya': 711, 'discount': 712, 'disinitapi': 713, 'disintangdihubungi': 714, 'diskon': 715, 'dislsaikan': 716, 'disuhkn': 717, 'ditandatangani': 718, 'ditelfon': 719, 'ditelkom': 720, 'ditemennya': 721, 'ditempatby': 722, 'ditgl': 723, 'ditkp': 724, 'ditlfon': 725, 'ditlpon': 726, 'ditpt': 727, 'diusahakam': 728, 'diusahakn': 729, 'diushakan': 730, 'divisit': 731, 'diwarkop': 732, 'djorebe': 733, 'dkat': 734, 'dkawal': 735, 'dkh': 736, 'dkmjbggu': 737, 'dkost': 738, 'dkt': 739, 'dkuasai': 740, 'dlsebagai': 741, 'dluunit': 742, 'dna': 743, 'dnanya': 744, 'dngn': 745, 'dokumentasi': 746, 'domisili': 747, 'donat': 748, 'done': 749, 'donohudan': 750, 'donri': 751, 'dp': 752, 'dpa': 753, 'dpake': 754, 'dpat': 755, 'dpc': 756, 'dpi': 757, 'dprd': 758, 'dragon': 759, 'dramaga': 760, 'driver': 761, 'drmhbrtmu': 762, 'drmhkons': 763, 'drop': 764, 'drs': 765, 'drumah': 766, 'dselipkan': 767, 'dsingkut': 768, 'dsri': 769, 'dtempat': 770, 'dtko': 771, 'dtmpat': 772, 'dtrima': 773, 'dttipkan': 774, 'dua': 775, 'due': 776, 'duka': 777, 'dunia': 778, 'duo': 779, 'durian': 780, 'dusun': 781, 'dwi': 782, 'ecer': 783, 'edc': 784, 'edcdivisit': 785, 'edckons': 786, 'edukasi': 787, 'eespon': 788, 'eke': 789, 'ekscoll': 790, 'eksekusi': 791, 'ekskalasi': 792, 'ekspektasi': 793, 'eksternal': 794, 'elpiji': 795, 'emas': 796, 'emergency': 797, 'emergnecy': 798, 'emi': 799, 'empang': 800, 'empat': 801, 'end': 802, 'endin': 803, 'eraguna': 804, 'erlin': 805, 'erna': 806, 'eror': 807, 'error': 808, 'erwin': 809, 'es': 810, 'eskalasi': 811, 'esok': 812, 'etikat': 813, 'euis': 814, 'ex': 815, 'exa': 816, 'exit': 817, 'express': 818, 'exs': 819, 'famakan': 820, 'fams': 821, 'fan': 822, 'fanny': 823, 'farisa': 824, 'farma': 825, 'farmasi': 826, 'fasdu': 827, 'fauzan': 828, 'fc': 829, 'feam': 830, 'febri': 831, 'februari': 832, 'february': 833, 'fernando': 834, 'fia': 835, 'field': 836, 'fif': 837, 'fiktif': 838, 'finance': 839, 'fine': 840, 'finebar': 841, 'firdaus': 842, 'fisit': 843, 'fitri': 844, 'floper': 845, 'flores': 846, 'flow': 847, 'fo': 848, 'fobiainput': 849, 'fol': 850, 'follow': 851, 'followup': 852, 'follup': 853, 'fon': 854, 'fone': 855, 'food': 856, 'form': 857, 'foto': 858, 'fotografi': 859, 'franki': 860, 'frelane': 861, 'front': 862, 'ftdk': 863, 'fub': 864, 'fubhy': 865, 'full': 866, 'fun': 867, 'funkmbli': 868, 'funphone': 869, 'funybs': 870, 'fus': 871, 'gadai': 872, 'gadaidan': 873, 'gading': 874, 'gagal': 875, 'gajah': 876, 'gajam': 877, 'gaji': 878, 'gajianbeam': 879, 'gajianjb': 880, 'gajianya': 881, 'gajih': 882, 'gajihsuami': 883, 'gajinote': 884, 'galaxy': 885, 'gali': 886, 'gamis': 887, 'ganda': 888, 'gandi': 889, 'gang': 890, 'ganggu': 891, 'ganguan': 892, 'ganti': 893, 'gantung': 894, 'garapn': 895, 'garut': 896, 'gass': 897, 'gebang': 898, 'gedek': 899, 'gedor': 900, 'gedung': 901, 'gelap': 902, 'gelut': 903, 'gembok': 904, 'gembong': 905, 'genang': 906, 'genap': 907, 'gendang': 908, 'gera': 909, 'gerson': 910, 'gerung': 911, 'gessy': 912, 'ggu': 913, 'ghani': 914, 'giat': 915, 'girang': 916, 'giri': 917, 'glagah': 918, 'go': 919, 'gocar': 920, 'gojek': 921, 'gondang': 922, 'gondangrejo': 923, 'google': 924, 'gor': 925, 'goreng': 926, 'gorong': 927, 'gorontalo': 928, 'gorut': 929, 'grab': 930, 'grib': 931, 'grijingi': 932, 'gts': 933, 'gu': 934, 'gubug': 935, 'gudang': 936, 'gudhas': 937, 'gudo': 938, 'gue': 939, 'guna': 940, 'guntur': 941, 'gunung': 942, 'guru': 943, 'habbit': 944, 'habis': 945, 'hadir': 946, 'haidar': 947, 'haji': 948, 'hak': 949, 'halaman': 950, 'ham': 951, 'hancur': 952, 'hand': 953, 'handil': 954, 'handle': 955, 'handling': 956, 'hannya': 957, 'harap': 958, 'harga': 959, 'hari': 960, 'harisabtu': 961, 'has': 962, 'hasil': 963, 'hati': 964, 'hayar': 965, 'hbgi': 966, 'hbngi': 967, 'hc': 968, 'hendriadi': 969, 'herbal': 970, 'heriyanto': 971, 'hermina': 972, 'hibur': 973, 'hidayat': 974, 'hidup': 975, 'hilang': 976, 'hilirsaar': 977, 'hindar': 978, 'hirarki': 979, 'hitang': 980, 'hitung': 981, 'hj': 982, 'hnaya': 983, 'hngi': 984, 'ho': 985, 'honda': 986, 'honorer': 987, 'hoo': 988, 'hp': 989, 'hrd': 990, 'hsil': 991, 'hsl': 992, 'hubgi': 993, 'hubung': 994, 'hubungin': 995, 'hujan': 996, 'hukum': 997, 'huluakan': 998, 'huni': 999, 'hutaimbaru': 1000, 'hutan': 1001, 'hutang': 1002, 'hutangplan': 1003, 'ib': 1004, 'ibu': 1005, 'ibunyapress': 1006, 'idam': 1007, 'idul': 1008, 'ii': 1009, 'iii': 1010, 'ijen': 1011, 'ijin': 1012, 'ikan': 1013, 'ikang': 1014, 'ikke': 1015, 'ikut': 1016, 'imam': 1017, 'impor': 1018, 'imput': 1019, 'indah': 1020, 'indak': 1021, 'india': 1022, 'indihiangdan': 1023, 'indikasi': 1024, 'indokiat': 1025, 'indomaret': 1026, 'indomaretbayar': 1027, 'indomart': 1028, 'indra': 1029, 'indramayu': 1030, 'infi': 1031, 'infinya': 1032, 'info': 1033, 'infonkons': 1034, 'infony': 1035, 'infonyns': 1036, 'informan': 1037, 'informasi': 1038, 'infox': 1039, 'infutan': 1040, 'ingat': 1041, 'ingfo': 1042, 'ingkar': 1043, 'inikenapa': 1044, 'inj': 1045, 'inova': 1046, 'inpers': 1047, 'input': 1048, 'inputan': 1049, 'insentif': 1050, 'instal': 1051, 'intel': 1052, 'interaksi': 1053, 'internal': 1054, 'intraksi': 1055, 'invoice': 1056, 'ion': 1057, 'ipar': 1058, 'iqbal': 1059, 'irep': 1060, 'irnawati': 1061, 'isa': 1062, 'isi': 1063, 'iskak': 1064, 'ismail': 1065, 'istirahat': 1066, 'istri': 1067, 'istrinyaada': 1068, 'istrinyabeam': 1069, 'itc': 1070, 'itik': 1071, 'itikad': 1072, 'itikat': 1073, 'iv': 1074, 'iwan': 1075, 'ix': 1076, 'iya': 1077, 'izin': 1078, 'jadwal': 1079, 'jaga': 1080, 'jago': 1081, 'jagung': 1082, 'jahit': 1083, 'jak': 1084, 'jakarta': 1085, 'jalal': 1086, 'jalan': 1087, 'jalannunggu': 1088, 'jam': 1089, 'jamin': 1090, 'jani': 1091, 'janj': 1092, 'janjeni': 1093, 'janji': 1094, 'japo': 1095, 'jarak': 1096, 'jarakosta': 1097, 'jarang': 1098, 'jaring': 1099, 'jaringankons': 1100, 'jasa': 1101, 'jaspel': 1102, 'jaten': 1103, 'jati': 1104, 'jatiluhur': 1105, 'jatinom': 1106, 'jatisari': 1107, 'jatuh': 1108, 'jawa': 1109, 'jaya': 1110, 'jbi': 1111, 'jbnya': 1112, 'jbpasti': 1113, 'je': 1114, 'jelas': 1115, 'jelek': 1116, 'jembar': 1117, 'jenitri': 1118, 'jenu': 1119, 'jepang': 1120, 'jepara': 1121, 'jernih': 1122, 'jikaa': 1123, 'jjb': 1124, 'jl': 1125, 'jls': 1126, 'jlskan': 1127, 'jm': 1128, 'jmp': 1129, 'jn': 1130, 'jnj': 1131, 'jnji': 1132, 'joan': 1133, 'job': 1134, 'jogja': 1135, 'jogonalan': 1136, 'john': 1137, 'jojo': 1138, 'jojoran': 1139, 'joyo': 1140, 'jrg': 1141, 'jth': 1142, 'jtp': 1143, 'jtuh': 1144, 'jual': 1145, 'judi': 1146, 'juli': 1147, 'jum': 1148, 'jumat': 1149, 'jump': 1150, 'jumpa': 1151, 'jung': 1152, 'jungkatinteraksi': 1153, 'juni': 1154, 'junrejo': 1155, 'jurang': 1156, 'juru': 1157, 'juta': 1158, 'kab': 1159, 'kabar': 1160, 'kabel': 1161, 'kabupaten': 1162, 'kabur': 1163, 'kaca': 1164, 'kacung': 1165, 'kadang': 1166, 'kadek': 1167, 'kademangan': 1168, 'kades': 1169, 'kadipiro': 1170, 'kait': 1171, 'kajen': 1172, 'kak': 1173, 'kakak': 1174, 'kakek': 1175, 'kaki': 1176, 'kali': 1177, 'kalibalok': 1178, 'kalidawir': 1179, 'kaligoro': 1180, 'kalijaga': 1181, 'kalimantan': 1182, 'kalioso': 1183, 'kalo': 1184, 'kaluarga': 1185, 'kamana': 1186, 'kamar': 1187, 'kambinginfo': 1188, 'kamis': 1189, 'kampung': 1190, 'kampungkonsumen': 1191, 'kampus': 1192, 'kamtor': 1193, 'kandang': 1194, 'kandung': 1195, 'kanit': 1196, 'kantin': 1197, 'kantor': 1198, 'kantorbayar': 1199, 'kantorby': 1200, 'kantorkaraktwr': 1201, 'kantorkons': 1202, 'kantorsudah': 1203, 'kantortitip': 1204, 'kantorybs': 1205, 'kapaditas': 1206, 'kapal': 1207, 'kapas': 1208, 'kapasitas': 1209, 'kapasitasdebt': 1210, 'kapasitasnunggu': 1211, 'kapasitaspress': 1212, 'kapling': 1213, 'kapsitas': 1214, 'kapur': 1215, 'karaker': 1216, 'karakter': 1217, 'karang': 1218, 'karanganyar': 1219, 'karena': 1220, 'kari': 1221, 'kariyawan': 1222, 'karma': 1223, 'karnakan': 1224, 'karne': 1225, 'karoke': 1226, 'karya': 1227, 'karyawan': 1228, 'karyawannya': 1229, 'kasbonan': 1230, 'kase': 1231, 'kasih': 1232, 'kasir': 1233, 'katering': 1234, 'katnya': 1235, 'kau': 1236, 'kawa': 1237, 'kawak': 1238, 'kawal': 1239, 'kawan': 1240, 'kawlan': 1241, 'kayen': 1242, 'kayu': 1243, 'kayun': 1244, 'kbradaan': 1245, 'keadaab': 1246, 'kealamqt': 1247, 'kealamt': 1248, 'kebajiran': 1249, 'kebaradaan': 1250, 'kebon': 1251, 'kebradaan': 1252, 'kebtempat': 1253, 'kebumen': 1254, 'kebun': 1255, 'kec': 1256, 'kece': 1257, 'kedawungdana': 1258, 'kedawunv': 1259, 'kee': 1260, 'keelasan': 1261, 'kejar': 1262, 'kejelassan': 1263, 'kejja': 1264, 'kekantorjanji': 1265, 'kekaryawan': 1266, 'kekeh': 1267, 'kekost': 1268, 'kekurangn': 1269, 'kelamat': 1270, 'kelapa': 1271, 'kelapaybs': 1272, 'kelas': 1273, 'kelililng': 1274, 'keliling': 1275, 'kelola': 1276, 'keluar': 1277, 'keluaraga': 1278, 'keluarakan': 1279, 'keluarditunggu': 1280, 'keluarg': 1281, 'keluarga': 1282, 'keluargainfo': 1283, 'keluarr': 1284, 'keluarusaha': 1285, 'kelyarga': 1286, 'kemanadan': 1287, 'kemanapada': 1288, 'kemanatitip': 1289, 'kemantren': 1290, 'kemarin': 1291, 'kembali': 1292, 'kembalifam': 1293, 'kembang': 1294, 'kembi': 1295, 'kembli': 1296, 'kena': 1297, 'kenal': 1298, 'kenalby': 1299, 'kencelakaandan': 1300, 'kendala': 1301, 'kendari': 1302, 'keoranhg': 1303, 'keortu': 1304, 'kepala': 1305, 'kepam': 1306, 'kepolres': 1307, 'keponakan': 1308, 'kepul': 1309, 'ker': 1310, 'kerabat': 1311, 'keras': 1312, 'kerbau': 1313, 'kere': 1314, 'kereng': 1315, 'kerhmh': 1316, 'kerj': 1317, 'kerja': 1318, 'kerjaakan': 1319, 'kerjabaru': 1320, 'kerjadeb': 1321, 'kerjadihubungi': 1322, 'kerjainfo': 1323, 'kerjandi': 1324, 'kerjanyasudah': 1325, 'kermh': 1326, 'kerna': 1327, 'kertas': 1328, 'kerupuk': 1329, 'kes': 1330, 'kesana': 1331, 'kesekadau': 1332, 'kesini': 1333, 'ket': 1334, 'keteku': 1335, 'ketel': 1336, 'ketemu': 1337, 'ketemuana': 1338, 'ketemubdi': 1339, 'ketemuvanak': 1340, 'ketemy': 1341, 'ketenu': 1342, 'ketja': 1343, 'ketmeu': 1344, 'ketmu': 1345, 'ketua': 1346, 'ketuk': 1347, 'kevtempat': 1348, 'kimia': 1349, 'kimput': 1350, 'kinjungan': 1351, 'kios': 1352, 'kiri': 1353, 'kirim': 1354, 'kistri': 1355, 'kkns': 1356, 'klaim': 1357, 'klari': 1358, 'klaten': 1359, 'klenteng': 1360, 'klien': 1361, 'kliwon': 1362, 'klr': 1363, 'kluarby': 1364, 'kluarganya': 1365, 'kluargax': 1366, 'klx': 1367, 'kmbli': 1368, 'kmna': 1369, 'kmngkinan': 1370, 'kmpung': 1371, 'knjngn': 1372, 'kns': 1373, 'knsmn': 1374, 'kntor': 1375, 'kolektor': 1376, 'koma': 1377, 'komadannya': 1378, 'komitmen': 1379, 'komp': 1380, 'kompensasi': 1381, 'komplain': 1382, 'komplek': 1383, 'komplin': 1384, 'koms': 1385, 'komsume': 1386, 'komsumen': 1387, 'komunikasi': 1388, 'kon': 1389, 'kona': 1390, 'konaumen': 1391, 'kond': 1392, 'kondisi': 1393, 'konfeksi': 1394, 'konfirm': 1395, 'konfirmasi': 1396, 'konsada': 1397, 'konsagar': 1398, 'konsakan': 1399, 'konsbertemu': 1400, 'konsby': 1401, 'konsdi': 1402, 'konskons': 1403, 'konslgi': 1404, 'konsmnnya': 1405, 'konsmuen': 1406, 'konsnamun': 1407, 'konsnmsh': 1408, 'konsnsdh': 1409, 'konsntdk': 1410, 'konspunya': 1411, 'konst': 1412, 'konstan': 1413, 'konstrad': 1414, 'konsuem': 1415, 'konsuemn': 1416, 'konsultasi': 1417, 'konsum': 1418, 'konsuman': 1419, 'konsume': 1420, 'konsumeb': 1421, 'konsumej': 1422, 'konsumem': 1423, 'konsumen': 1424, 'konsumenakan': 1425, 'konsumend': 1426, 'konsumeninteraksi': 1427, 'konsumenketemu': 1428, 'konsumenketemuan': 1429, 'konsumenkonsumen': 1430, 'konsumenmasih': 1431, 'konsumennamun': 1432, 'konsumenpemakai': 1433, 'konsumenpintu': 1434, 'konsumenposisi': 1435, 'konsumenrumah': 1436, 'konsumensebelumnya': 1437, 'konsumensp': 1438, 'konsumenter': 1439, 'konsumentidak': 1440, 'konsumenunit': 1441, 'konsumrn': 1442, 'konsybs': 1443, 'konsymen': 1444, 'kontak': 1445, 'kontra': 1446, 'kontrak': 1447, 'konut': 1448, 'konveksi': 1449, 'kooperatif': 1450, 'kooperatifdi': 1451, 'koordinasi': 1452, 'koorperatif': 1453, 'kopasus': 1454, 'koperasi': 1455, 'koperasijanji': 1456, 'koperatif': 1457, 'koperstif': 1458, 'kopertif': 1459, 'kopi': 1460, 'kopra': 1461, 'kopratif': 1462, 'koramil': 1463, 'kordinasikan': 1464, 'korem': 1465, 'korwil': 1466, 'kos': 1467, 'kosan': 1468, 'kosannya': 1469, 'kosmuem': 1470, 'kosn': 1471, 'kosnumen': 1472, 'kosnya': 1473, 'kosong': 1474, 'kosongdihubungi': 1475, 'kosonginfo': 1476, 'kosonginformasi': 1477, 'kosongsedang': 1478, 'kossan': 1479, 'kost': 1480, 'kostakan': 1481, 'kostan': 1482, 'kostannya': 1483, 'kostel': 1484, 'kostetangga': 1485, 'kostitip': 1486, 'kostny': 1487, 'kostnya': 1488, 'kostrad': 1489, 'kostsannya': 1490, 'kosumen': 1491, 'kota': 1492, 'kotabaru': 1493, 'kotabatu': 1494, 'kotafam': 1495, 'kotahanya': 1496, 'kotaini': 1497, 'kotajb': 1498, 'koteh': 1499, 'kp': 1500, 'kpns': 1501, 'kpufam': 1502, 'krajan': 1503, 'krakter': 1504, 'krawang': 1505, 'kredit': 1506, 'kresek': 1507, 'krim': 1508, 'krisna': 1509, 'krj': 1510, 'krja': 1511, 'krluarga': 1512, 'kronologi': 1513, 'kronologis': 1514, 'kruamh': 1515, 'krumah': 1516, 'krupuk': 1517, 'ks': 1518, 'kse': 1519, 'ksg': 1520, 'ksong': 1521, 'ktersngan': 1522, 'ktm': 1523, 'ktmpat': 1524, 'ktmpt': 1525, 'ktmtp': 1526, 'ktmuan': 1527, 'ktoko': 1528, 'ktp': 1529, 'ktpnya': 1530, 'ktrangan': 1531, 'kua': 1532, 'kuala': 1533, 'kuasa': 1534, 'kuasi': 1535, 'kudus': 1536, 'kuliah': 1537, 'kulon': 1538, 'kumplkn': 1539, 'kumpul': 1540, 'kumpulin': 1541, 'kunci': 1542, 'kuningan': 1543, 'kunir': 1544, 'kunj': 1545, 'kunjjngan': 1546, 'kunjugan': 1547, 'kunjung': 1548, 'kunjunginke': 1549, 'kuota': 1550, 'kurang': 1551, 'kurir': 1552, 'kursi': 1553, 'kurun': 1554, 'kusen': 1555, 'kuta': 1556, 'kuto': 1557, 'kutoanyar': 1558, 'kwandang': 1559, 'lacak': 1560, 'lacakek': 1561, 'ladang': 1562, 'lag': 1563, 'lagiada': 1564, 'laginkeluar': 1565, 'laginusahain': 1566, 'lagipenekanan': 1567, 'lahir': 1568, 'lain': 1569, 'lainkonsumen': 1570, 'lakson': 1571, 'laku': 1572, 'lakuakan': 1573, 'lamaa': 1574, 'lamabtkonsjanji': 1575, 'lamat': 1576, 'lambat': 1577, 'lambt': 1578, 'lamongan': 1579, 'lampia': 1580, 'lamping': 1581, 'lampir': 1582, 'lampu': 1583, 'lamsu': 1584, 'lamunca': 1585, 'langgan': 1586, 'lanjut': 1587, 'lantai': 1588, 'lanud': 1589, 'laohh': 1590, 'lapak': 1591, 'lapang': 1592, 'lapor': 1593, 'larang': 1594, 'lari': 1595, 'larompong': 1596, 'las': 1597, 'lasem': 1598, 'laut': 1599, 'lawan': 1600, 'lawang': 1601, 'lawerang': 1602, 'layan': 1603, 'layar': 1604, 'layat': 1605, 'leasing': 1606, 'lebaran': 1607, 'legacy': 1608, 'legal': 1609, 'legi': 1610, 'legol': 1611, 'leku': 1612, 'lelilef': 1613, 'lemari': 1614, 'lembaga': 1615, 'lemito': 1616, 'lengan': 1617, 'lengkanya': 1618, 'lengkap': 1619, 'lepas': 1620, 'les': 1621, 'letjen': 1622, 'lewang': 1623, 'lgnote': 1624, 'libat': 1625, 'libur': 1626, 'lidya': 1627, 'lil': 1628, 'lilipanga': 1629, 'lin': 1630, 'linda': 1631, 'lindawati': 1632, 'line': 1633, 'linggau': 1634, 'lingkung': 1635, 'lingkungam': 1636, 'link': 1637, 'lippo': 1638, 'lisingkan': 1639, 'list': 1640, 'live': 1641, 'livin': 1642, 'lkunjungan': 1643, 'lmbt': 1644, 'lmp': 1645, 'lngsng': 1646, 'loading': 1647, 'loasi': 1648, 'loc': 1649, 'location': 1650, 'login': 1651, 'lokasi': 1652, 'lomba': 1653, 'lons': 1654, 'lost': 1655, 'lowokjati': 1656, 'lp': 1657, 'lpkarena': 1658, 'lpsk': 1659, 'lu': 1660, 'luar': 1661, 'luardi': 1662, 'luarkons': 1663, 'lugas': 1664, 'lunas': 1665, 'lunasin': 1666, 'lune': 1667, 'lupa': 1668, 'lurah': 1669, 'lusa': 1670, 'maaf': 1671, 'macet': 1672, 'mada': 1673, 'madu': 1674, 'madukara': 1675, 'magrib': 1676, 'main': 1677, 'maintanace': 1678, 'maitanace': 1679, 'majene': 1680, 'makan': 1681, 'makanlagi': 1682, 'makassar': 1683, 'makau': 1684, 'makeret': 1685, 'maks': 1686, 'maksim': 1687, 'maksimal': 1688, 'malam': 1689, 'malamsaya': 1690, 'malang': 1691, 'malaysia': 1692, 'malendeng': 1693, 'maling': 1694, 'maloko': 1695, 'mam': 1696, 'mampu': 1697, 'mamuju': 1698, 'mana': 1699, 'manado': 1700, 'mandiri': 1701, 'mandor': 1702, 'manen': 1703, 'mangangsur': 1704, 'manggala': 1705, 'manggarai': 1706, 'manggil': 1707, 'mangkal': 1708, 'manis': 1709, 'mantan': 1710, 'mantolalu': 1711, 'mantu': 1712, 'mantucust': 1713, 'manual': 1714, 'manuk': 1715, 'marah': 1716, 'maret': 1717, 'margahayu': 1718, 'marketing': 1719, 'markus': 1720, 'mart': 1721, 'mas': 1722, 'masalah': 1723, 'mash': 1724, 'masig': 1725, 'masjib': 1726, 'masjid': 1727, 'masjit': 1728, 'mask': 1729, 'maskar': 1730, 'masoh': 1731, 'masu': 1732, 'masuk': 1733, 'masukunit': 1734, 'matabulu': 1735, 'matahari': 1736, 'mataram': 1737, 'matel': 1738, 'mati': 1739, 'mawar': 1740, 'mawuntu': 1741, 'max': 1742, 'maxim': 1743, 'maximal': 1744, 'maximcar': 1745, 'maxinal': 1746, 'maya': 1747, 'maybrat': 1748, 'mbak': 1749, 'mbaking': 1750, 'mbangking': 1751, 'mbanking': 1752, 'mbl': 1753, 'medan': 1754, 'mediasi': 1755, 'meet': 1756, 'meeting': 1757, 'megetahui': 1758, 'megumpulkan': 1759, 'megumpulma': 1760, 'megusahakan': 1761, 'mei': 1762, 'mejelaskan': 1763, 'mejobo': 1764, 'melakaukan': 1765, 'melakukukan': 1766, 'melani': 1767, 'melayu': 1768, 'meleset': 1769, 'melesetkons': 1770, 'melinda': 1771, 'melst': 1772, 'melunasin': 1773, 'memabyar': 1774, 'memgusahakan': 1775, 'menantu': 1776, 'menara': 1777, 'menegnali': 1778, 'menfasilitasi': 1779, 'meng': 1780, 'mengahasilkan': 1781, 'menggumpulkan': 1782, 'menggusahakan': 1783, 'menginput': 1784, 'mengsuahakan': 1785, 'mengumpulka': 1786, 'mengunakan': 1787, 'mengupload': 1788, 'mengusajhkan': 1789, 'mengushaakan': 1790, 'mengushaakn': 1791, 'mengushakan': 1792, 'mengushkn': 1793, 'meni': 1794, 'meningal': 1795, 'menuggak': 1796, 'menuggu': 1797, 'menunggunpencairan': 1798, 'menutupin': 1799, 'meong': 1800, 'merah': 1801, 'merembu': 1802, 'merespon': 1803, 'merlung': 1804, 'mertakanda': 1805, 'mertua': 1806, 'mesjid': 1807, 'mggu': 1808, 'mi': 1809, 'mie': 1810, 'milik': 1811, 'militer': 1812, 'minggu': 1813, 'minggunini': 1814, 'minim': 1815, 'minimal': 1816, 'minimarket': 1817, 'mint': 1818, 'minum': 1819, 'minut': 1820, 'mislun': 1821, 'misran': 1822, 'miss': 1823, 'mita': 1824, 'miting': 1825, 'mitra': 1826, 'mitsubishi': 1827, 'mkarena': 1828, 'mksml': 1829, 'mlakukan': 1830, 'mleset': 1831, 'mlesetkarena': 1832, 'mmpu': 1833, 'mnc': 1834, 'mncukupi': 1835, 'mnemui': 1836, 'mnggu': 1837, 'mnghubungi': 1838, 'mngmplkan': 1839, 'mngntrkn': 1840, 'mngshkan': 1841, 'mngtakan': 1842, 'mngupayakan': 1843, 'mngusahkn': 1844, 'mntak': 1845, 'mntu': 1846, 'mnugukan': 1847, 'mnunggu': 1848, 'mnurut': 1849, 'mobil': 1850, 'mobile': 1851, 'mohon': 1852, 'mojo': 1853, 'mojokerto': 1854, 'mojolegi': 1855, 'mojosari': 1856, 'mojosongo': 1857, 'montong': 1858, 'morosi': 1859, 'morowali': 1860, 'morowaliinfo': 1861, 'motor': 1862, 'motorpembayaran': 1863, 'mowila': 1864, 'mozia': 1865, 'mr': 1866, 'msi': 1867, 'mslah': 1868, 'msu': 1869, 'mtr': 1870, 'muara': 1871, 'muat': 1872, 'muda': 1873, 'muhammad': 1874, 'muharam': 1875, 'muhidin': 1876, 'mukena': 1877, 'mumpuni': 1878, 'muncul': 1879, 'mundur': 1880, 'mundurkarena': 1881, 'munir': 1882, 'murid': 1883, 'musa': 1884, 'musibah': 1885, 'musim': 1886, 'mustofa': 1887, 'musyawarah': 1888, 'mutiara': 1889, 'mwu': 1890, 'naga': 1891, 'nagih': 1892, 'naik': 1893, 'nak': 1894, 'nali': 1895, 'nama': 1896, 'namaada': 1897, 'namu': 1898, 'nan': 1899, 'narkoba': 1900, 'nasabah': 1901, 'nasbah': 1902, 'nasi': 1903, 'nasih': 1904, 'nawar': 1905, 'nebang': 1906, 'negeri': 1907, 'nego': 1908, 'negosiasi': 1909, 'nenas': 1910, 'nenek': 1911, 'nentu': 1912, 'next': 1913, 'nextpush': 1914, 'ngabari': 1915, 'ngambil': 1916, 'nganggurngandelin': 1917, 'ngangsur': 1918, 'ngaruh': 1919, 'ngatru': 1920, 'ngbrol': 1921, 'nge': 1922, 'ngejak': 1923, 'ngekost': 1924, 'ngelayat': 1925, 'ngembal': 1926, 'ngemess': 1927, 'ngemplak': 1928, 'ngerental': 1929, 'ngewarung': 1930, 'nggu': 1931, 'ngiriman': 1932, 'ngisi': 1933, 'ngojolpemakai': 1934, 'ngontrak': 1935, 'ngroll': 1936, 'ngsuran': 1937, 'ngumpulin': 1938, 'nhesie': 1939, 'niat': 1940, 'nihil': 1941, 'nikah': 1942, 'nikahanan': 1943, 'nimau': 1944, 'nip': 1945, 'nisan': 1946, 'nitip': 1947, 'nma': 1948, 'nmor': 1949, 'nmun': 1950, 'nngh': 1951, 'no': 1952, 'nogosari': 1953, 'nomer': 1954, 'nominal': 1955, 'nominalkarena': 1956, 'nomor': 1957, 'nongkrong': 1958, 'norlinda': 1959, 'normal': 1960, 'not': 1961, 'notaris': 1962, 'note': 1963, 'nsb': 1964, 'nuangan': 1965, 'numpang': 1966, 'nunggubpk': 1967, 'nurhadi': 1968, 'nurhasan': 1969, 'nurma': 1970, 'nurpriyatin': 1971, 'nurseha': 1972, 'nuryanto': 1973, 'nusantara': 1974, 'nyadan': 1975, 'nyafu': 1976, 'nyakaryawan': 1977, 'nyakons': 1978, 'nyales': 1979, 'nyangkut': 1980, 'nyasuami': 1981, 'nyata': 1982, 'nydan': 1983, 'nyerviske': 1984, 'obat': 1985, 'obrol': 1986, 'ockta': 1987, 'oelunasan': 1988, 'oemakia': 1989, 'oembayaran': 1990, 'oemotongan': 1991, 'oencairan': 1992, 'oernah': 1993, 'off': 1994, 'ofta': 1995, 'oh': 1996, 'ojeg': 1997, 'ojek': 1998, 'ojol': 1999, 'oknum': 2000, 'oktober': 2001, 'om': 2002, 'oma': 2003, 'omset': 2004, 'on': 2005, 'ongkos': 2006, 'onhan': 2007, 'onhand': 2008, 'onki': 2009, 'online': 2010, 'oons': 2011, 'open': 2012, 'operasi': 2013, 'operasiaoal': 2014, 'orang': 2015, 'orangdi': 2016, 'orangtanya': 2017, 'orangtua': 2018, 'orangtuanya': 2019, 'orangx': 2020, 'oranh': 2021, 'order': 2022, 'oress': 2023, 'orgdihubungi': 2024, 'orginfo': 2025, 'orgtua': 2026, 'orkes': 2027, 'ormas': 2028, 'orqng': 2029, 'ortua': 2030, 'ortuketemu': 2031, 'ortukons': 2032, 'osp': 2033, 'oto': 2034, 'over': 2035, 'owner': 2036, 'pabrik': 2037, 'pacar': 2038, 'pacitan': 2039, 'padang': 2040, 'padasuka': 2041, 'pagar': 2042, 'pagi': 2043, 'paguat': 2044, 'pahlawan': 2045, 'paid': 2046, 'pajero': 2047, 'pakai': 2048, 'pakaiann': 2049, 'pakaiybs': 2050, 'pakansari': 2051, 'paket': 2052, 'paksa': 2053, 'pal': 2054, 'palangkaraya': 2055, 'palar': 2056, 'palu': 2057, 'palur': 2058, 'paman': 2059, 'pamer': 2060, 'pancasila': 2061, 'pancawari': 2062, 'pancing': 2063, 'pandeyan': 2064, 'panen': 2065, 'pangaraian': 2066, 'panggil': 2067, 'pangil': 2068, 'pangkal': 2069, 'panjang': 2070, 'pantau': 2071, 'pantura': 2072, 'papua': 2073, 'parah': 2074, 'pare': 2075, 'paringin': 2076, 'parkir': 2077, 'parsial': 2078, 'partaial': 2079, 'partial': 2080, 'partiall': 2081, 'partialmau': 2082, 'paru': 2083, 'pas': 2084, 'pasang': 2085, 'pasangaj': 2086, 'pasangajn': 2087, 'pasangam': 2088, 'pasangandan': 2089, 'pasanganindikasinunit': 2090, 'pasar': 2091, 'pasaribu': 2092, 'pasarnamun': 2093, 'pasca': 2094, 'pasir': 2095, 'pasngan': 2096, 'paspas': 2097, 'pasti': 2098, 'pasu': 2099, 'pasuruan': 2100, 'pat': 2101, 'patah': 2102, 'pathi': 2103, 'pati': 2104, 'patokbeusi': 2105, 'patokbeusiybs': 2106, 'patrang': 2107, 'pattedong': 2108, 'pattimura': 2109, 'pattinama': 2110, 'pay': 2111, 'paymen': 2112, 'payment': 2113, 'paymentpoint': 2114, 'paymet': 2115, 'pc': 2116, 'pdam': 2117, 'pdrce': 2118, 'pecat': 2119, 'peduli': 2120, 'pegang': 2121, 'pegawai': 2122, 'pekan': 2123, 'pekerjaaan': 2124, 'pelacakn': 2125, 'pelajau': 2126, 'pelcakan': 2127, 'pelestarik': 2128, 'pelsus': 2129, 'peluansan': 2130, 'pelunasaan': 2131, 'pelunasanbayar': 2132, 'pelunasanunit': 2133, 'pemabyaran': 2134, 'pematang': 2135, 'pembauaraan': 2136, 'pembayarankonsumen': 2137, 'pembayaranrencana': 2138, 'pembayaranunit': 2139, 'pembayaranya': 2140, 'pembayarn': 2141, 'pembayran': 2142, 'pembyaran': 2143, 'pembyran': 2144, 'pemda': 2145, 'pemegng': 2146, 'pemguana': 2147, 'pemkai': 2148, 'pemuda': 2149, 'penangggung': 2150, 'penbayran': 2151, 'pencairanfam': 2152, 'pencajran': 2153, 'pencarin': 2154, 'pending': 2155, 'penekannan': 2156, 'penekqnan': 2157, 'pengambilanx': 2158, 'pengin': 2159, 'penginputan': 2160, 'pengiputan': 2161, 'pengolala': 2162, 'penguna': 2163, 'peniti': 2164, 'peniualan': 2165, 'penjaminanak': 2166, 'penjara': 2167, 'penuh': 2168, 'perbaiakan': 2169, 'pergi': 2170, 'perihal': 2171, 'periksa': 2172, 'perljlnan': 2173, 'perlu': 2174, 'permanen': 2175, 'persis': 2176, 'pertalite': 2177, 'pertemuankembali': 2178, 'pertgl': 2179, 'pertiwi': 2180, 'perum': 2181, 'perumahanx': 2182, 'pesan': 2183, 'pesanby': 2184, 'pesanrevisit': 2185, 'pesantren': 2186, 'pesta': 2187, 'peta': 2188, 'peyment': 2189, 'ph': 2190, 'phh': 2191, 'phine': 2192, 'phk': 2193, 'phomentidak': 2194, 'phon': 2195, 'phone': 2196, 'phonefam': 2197, 'phonw': 2198, 'pic': 2199, 'pick': 2200, 'pickup': 2201, 'pickupunit': 2202, 'pihak': 2203, 'pik': 2204, 'piket': 2205, 'pil': 2206, 'pinda': 2207, 'pindah': 2208, 'pinjam': 2209, 'pinjamandan': 2210, 'pinrang': 2211, 'pintu': 2212, 'pisit': 2213, 'piutang': 2214, 'pj': 2215, 'pki': 2216, 'pkmasih': 2217, 'pknjb': 2218, 'pknkerja': 2219, 'pksudah': 2220, 'plan': 2221, 'plang': 2222, 'planning': 2223, 'plant': 2224, 'plaza': 2225, 'plening': 2226, 'pln': 2227, 'plng': 2228, 'plus': 2229, 'pmakai': 2230, 'pmbyarab': 2231, 'pmbyaran': 2232, 'pmbyrannya': 2233, 'pmbyrn': 2234, 'pn': 2235, 'pnekanan': 2236, 'pngembangan': 2237, 'pnjaman': 2238, 'pnpm': 2239, 'pns': 2240, 'po': 2241, 'poin': 2242, 'point': 2243, 'pokok': 2244, 'pokokby': 2245, 'pola': 2246, 'polda': 2247, 'polis': 2248, 'polisi': 2249, 'polres': 2250, 'polresta': 2251, 'polsek': 2252, 'pom': 2253, 'pombensin': 2254, 'ponakan': 2255, 'pondok': 2256, 'pone': 2257, 'ponorogo': 2258, 'pos': 2259, 'posisi': 2260, 'poso': 2261, 'posting': 2262, 'potensi': 2263, 'poto': 2264, 'potong': 2265, 'ppnya': 2266, 'pragolo': 2267, 'prakira': 2268, 'prambon': 2269, 'pramuka': 2270, 'prasetyo': 2271, 'pres': 2272, 'presing': 2273, 'press': 2274, 'pressing': 2275, 'pressure': 2276, 'prestasi': 2277, 'presure': 2278, 'pribadi': 2279, 'prihal': 2280, 'pring': 2281, 'privasi': 2282, 'probolinggo': 2283, 'probolinggofu': 2284, 'profcol': 2285, 'profcoll': 2286, 'profesi': 2287, 'progres': 2288, 'proses': 2289, 'provos': 2290, 'proyek': 2291, 'prsure': 2292, 'psn': 2293, 'psngan': 2294, 'psngm': 2295, 'pt': 2296, 'ptp': 2297, 'ptpybs': 2298, 'pubian': 2299, 'pucang': 2300, 'pujasera': 2301, 'pukang': 2302, 'pulang': 2303, 'pulau': 2304, 'pulaudirumah': 2305, 'pulih': 2306, 'pulng': 2307, 'pulo': 2308, 'puloh': 2309, 'pumadada': 2310, 'punggelan': 2311, 'punnama': 2312, 'punya': 2313, 'punyak': 2314, 'pupuk': 2315, 'puri': 2316, 'purnama': 2317, 'puru': 2318, 'purwasari': 2319, 'purwodadi': 2320, 'pus': 2321, 'pusat': 2322, 'push': 2323, 'puskes': 2324, 'puskesmas': 2325, 'pustaka': 2326, 'put': 2327, 'putih': 2328, 'putri': 2329, 'putus': 2330, 'qda': 2331, 'qkan': 2332, 'qlqmat': 2333, 'queen': 2334, 'rabu': 2335, 'radjak': 2336, 'radji': 2337, 'rahayu': 2338, 'rai': 2339, 'raib': 2340, 'raibkontrak': 2341, 'raibvisit': 2342, 'rajin': 2343, 'rajut': 2344, 'rampas': 2345, 'ranah': 2346, 'rang': 2347, 'ranggo': 2348, 'rantau': 2349, 'rap': 2350, 'rapat': 2351, 'ratna': 2352, 'rawa': 2353, 'rawat': 2354, 'raya': 2355, 'rayu': 2356, 'razak': 2357, 'rbu': 2358, 'ready': 2359, 'real': 2360, 'realisasi': 2361, 'reapon': 2362, 'recepsionis': 2363, 'receptionis': 2364, 'receptionisnya': 2365, 'refresh': 2366, 'refreshment': 2367, 'rejotangan': 2368, 'reka': 2369, 'rekan': 2370, 'rekomendasi': 2371, 'rektorat': 2372, 'relokasi': 2373, 'remon': 2374, 'rencana': 2375, 'rencsna': 2376, 'rengasjadi': 2377, 'renggang': 2378, 'renny': 2379, 'renov': 2380, 'rental': 2381, 'rentaldan': 2382, 'renti': 2383, 'reppon': 2384, 'req': 2385, 'request': 2386, 'rerjual': 2387, 'resain': 2388, 'reschedul': 2389, 'reschedule': 2390, 'rescheduled': 2391, 'resepsionis': 2392, 'resign': 2393, 'respin': 2394, 'respo': 2395, 'respon': 2396, 'responakan': 2397, 'respond': 2398, 'respondi': 2399, 'respondipanggil': 2400, 'respone': 2401, 'responfam': 2402, 'responfu': 2403, 'responkonsumen': 2404, 'responnya': 2405, 'respons': 2406, 'respont': 2407, 'respontitip': 2408, 'responudah': 2409, 'responunit': 2410, 'responvisit': 2411, 'responz': 2412, 'resppn': 2413, 'rest': 2414, 'restonya': 2415, 'revalinafid': 2416, 'revisi': 2417, 'revisir': 2418, 'revisit': 2419, 'revisited': 2420, 'revsiit': 2421, 'reza': 2422, 'rian': 2423, 'ribu': 2424, 'ridwan': 2425, 'rifa': 2426, 'rika': 2427, 'riki': 2428, 'rimah': 2429, 'rina': 2430, 'rindu': 2431, 'ringan': 2432, 'rio': 2433, 'riswan': 2434, 'rit': 2435, 'rk': 2436, 'rmahnya': 2437, 'rmahx': 2438, 'rmhpres': 2439, 'roll': 2440, 'rongsok': 2441, 'rontolindo': 2442, 'room': 2443, 'rosalia': 2444, 'roti': 2445, 'rs': 2446, 'rspn': 2447, 'rsud': 2448, 'rt': 2449, 'ru': 2450, 'ruang': 2451, 'rujuk': 2452, 'ruko': 2453, 'rukos': 2454, 'ruma': 2455, 'rumah': 2456, 'rumahakan': 2457, 'rumahby': 2458, 'rumahhanya': 2459, 'rumahinfo': 2460, 'rumahmakan': 2461, 'rumahn': 2462, 'rumahrumah': 2463, 'rumahtidak': 2464, 'rumahvisit': 2465, 'rumaj': 2466, 'rumput': 2467, 'rupiah': 2468, 'rusak': 2469, 'rusdi': 2470, 'rusun': 2471, 'rute': 2472, 'rutin': 2473, 'ruwet': 2474, 'rw': 2475, 'rwvisit': 2476, 'saar': 2477, 'sabar': 2478, 'sabbang': 2479, 'sablon': 2480, 'sabtu': 2481, 'safi': 2482, 'sah': 2483, 'sai': 2484, 'sair': 2485, 'sakit': 2486, 'sakitdi': 2487, 'sakitunit': 2488, 'salah': 2489, 'salak': 2490, 'salam': 2491, 'sales': 2492, 'salsa': 2493, 'salupao': 2494, 'salza': 2495, 'samarinda': 2496, 'sambong': 2497, 'sambung': 2498, 'samosirfam': 2499, 'sampai': 2500, 'samping': 2501, 'sampora': 2502, 'samsul': 2503, 'sana': 2504, 'sang': 2505, 'sangatta': 2506, 'sanggau': 2507, 'sanggup': 2508, 'sangkar': 2509, 'sangkuriang': 2510, 'sangkut': 2511, 'sanq': 2512, 'sanrio': 2513, 'santri': 2514, 'sapa': 2515, 'sapi': 2516, 'saraf': 2517, 'sarongsong': 2518, 'satpam': 2519, 'satu': 2520, 'saudar': 2521, 'saudara': 2522, 'saudaraby': 2523, 'saudaranyabaru': 2524, 'saudaranyakarena': 2525, 'saudi': 2526, 'saung': 2527, 'saut': 2528, 'sawah': 2529, 'sawit': 2530, 'sawitandan': 2531, 'sayur': 2532, 'sbentar': 2533, 'sblom': 2534, 'sblumnya': 2535, 'sbrg': 2536, 'sceoatnya': 2537, 'scoopy': 2538, 'scpt': 2539, 'sd': 2540, 'sdang': 2541, 'sdhndi': 2542, 'sdng': 2543, 'sdr': 2544, 'sea': 2545, 'searcing': 2546, 'sebab': 2547, 'sebar': 2548, 'sebelumny': 2549, 'sebelumnyaini': 2550, 'sebelumx': 2551, 'sebentar': 2552, 'seberang': 2553, 'sebgai': 2554, 'seblm': 2555, 'sebrang': 2556, 'secapatnua': 2557, 'secapatnya': 2558, 'securiti': 2559, 'security': 2560, 'securityfu': 2561, 'securty': 2562, 'sedangbkeluar': 2563, 'sedia': 2564, 'sednag': 2565, 'sedng': 2566, 'segra': 2567, 'sehat': 2568, 'sekar': 2569, 'sekarnag': 2570, 'sekartaji': 2571, 'sekertaris': 2572, 'sekitar': 2573, 'sekligus': 2574, 'sekolah': 2575, 'sekretaris': 2576, 'sektr': 2577, 'selasa': 2578, 'selatan': 2579, 'selesai': 2580, 'selesaifu': 2581, 'selfie': 2582, 'selip': 2583, 'selow': 2584, 'semalem': 2585, 'semarabg': 2586, 'sembako': 2587, 'sembakounit': 2588, 'sembari': 2589, 'sembtra': 2590, 'sembuh': 2591, 'sembunyi': 2592, 'semenjak': 2593, 'semesta': 2594, 'semi': 2595, 'semnetara': 2596, 'semoqt': 2597, 'sempit': 2598, 'semuajb': 2599, 'senang': 2600, 'send': 2601, 'senen': 2602, 'sengaja': 2603, 'senget': 2604, 'senin': 2605, 'sentani': 2606, 'sentanu': 2607, 'sepele': 2608, 'sepfu': 2609, 'sepi': 2610, 'sepiinfo': 2611, 'sepiunit': 2612, 'september': 2613, 'serah': 2614, 'seram': 2615, 'serat': 2616, 'serpong': 2617, 'sertifikasi': 2618, 'sertifikat': 2619, 'service': 2620, 'servis': 2621, 'serviske': 2622, 'sesng': 2623, 'sesuai': 2624, 'setempatminta': 2625, 'seteuk': 2626, 'setor': 2627, 'setorin': 2628, 'setrmpay': 2629, 'sewa': 2630, 'share': 2631, 'sharelok': 2632, 'shift': 2633, 'shopee': 2634, 'showroom': 2635, 'si': 2636, 'siang': 2637, 'siantaninteraksi': 2638, 'siantankarna': 2639, 'siap': 2640, 'siapkarena': 2641, 'sibuk': 2642, 'sidoarjo': 2643, 'sift': 2644, 'sih': 2645, 'silo': 2646, 'siloam': 2647, 'simpan': 2648, 'simpang': 2649, 'singgah': 2650, 'singosari': 2651, 'sinta': 2652, 'sintang': 2653, 'sinyal': 2654, 'sipemakai': 2655, 'sisa': 2656, 'sisip': 2657, 'siskainteraksi': 2658, 'sistem': 2659, 'site': 2660, 'sitevisit': 2661, 'situ': 2662, 'situasi': 2663, 'situbobfo': 2664, 'situbondo': 2665, 'skanon': 2666, 'skitr': 2667, 'skp': 2668, 'skrh': 2669, 'slesai': 2670, 'slip': 2671, 'slot': 2672, 'slow': 2673, 'smart': 2674, 'smartpress': 2675, 'smc': 2676, 'smntara': 2677, 'smntra': 2678, 'smpaikan': 2679, 'smpikan': 2680, 'smvlc': 2681, 'sodara': 2682, 'sodaranya': 2683, 'sok': 2684, 'solo': 2685, 'somasi': 2686, 'sooko': 2687, 'sopi': 2688, 'sopir': 2689, 'sore': 2690, 'soreang': 2691, 'sorek': 2692, 'sorum': 2693, 'spertix': 2694, 'spg': 2695, 'spjb': 2696, 'spkons': 2697, 'sppu': 2698, 'spv': 2699, 'spvnya': 2700, 'sragen': 2701, 'sri': 2702, 'srmua': 2703, 'sruweng': 2704, 'stadion': 2705, 'staf': 2706, 'staff': 2707, 'status': 2708, 'stay': 2709, 'stefanus': 2710, 'stegah': 2711, 'step': 2712, 'stnk': 2713, 'stroke': 2714, 'struk': 2715, 'stubondo': 2716, 'suadara': 2717, 'suami': 2718, 'suamicybs': 2719, 'suara': 2720, 'suasana': 2721, 'suciati': 2722, 'sudah': 2723, 'sudang': 2724, 'sudara': 2725, 'sudiang': 2726, 'sugiantokons': 2727, 'suhat': 2728, 'sui': 2729, 'suka': 2730, 'sukabumi': 2731, 'sukapura': 2732, 'sukarasa': 2733, 'sulifah': 2734, 'sulit': 2735, 'sulselbar': 2736, 'sumasan': 2737, 'sumatra': 2738, 'sumber': 2739, 'sumberdana': 2740, 'sumiati': 2741, 'sumur': 2742, 'sunan': 2743, 'sungai': 2744, 'super': 2745, 'supir': 2746, 'surabaya': 2747, 'surat': 2748, 'surodinawan': 2749, 'suruh': 2750, 'surut': 2751, 'survei': 2752, 'survey': 2753, 'surveynya': 2754, 'surya': 2755, 'susah': 2756, 'susu': 2757, 'sutiah': 2758, 'sutoyo': 2759, 'suwami': 2760, 'suzuki': 2761, 'system': 2762, 'tabggal': 2763, 'tabrani': 2764, 'tag': 2765, 'tagging': 2766, 'tagi': 2767, 'tagih': 2768, 'taging': 2769, 'tahap': 2770, 'tahihan': 2771, 'tahlil': 2772, 'tahu': 2773, 'tahun': 2774, 'take': 2775, 'takut': 2776, 'talang': 2777, 'taman': 2778, 'tambah': 2779, 'tambak': 2780, 'tambang': 2781, 'tamblang': 2782, 'tamiang': 2783, 'tamoyan': 2784, 'tamu': 2785, 'tanah': 2786, 'tanak': 2787, 'tanda': 2788, 'tandem': 2789, 'tang': 2790, 'tangal': 2791, 'tangam': 2792, 'tangan': 2793, 'tangerang': 2794, 'tangga': 2795, 'tanggal': 2796, 'tanggap': 2797, 'tangging': 2798, 'tangguh': 2799, 'tanggung': 2800, 'tanggungn': 2801, 'tangkap': 2802, 'tanhgal': 2803, 'tani': 2804, 'tanjung': 2805, 'tanngal': 2806, 'tanoyan': 2807, 'tantang': 2808, 'tante': 2809, 'tapibtelfon': 2810, 'taq': 2811, 'tarek': 2812, 'target': 2813, 'tari': 2814, 'tarik': 2815, 'taruh': 2816, 'tas': 2817, 'tasikmalaya': 2818, 'tatelu': 2819, 'tau': 2820, 'tauby': 2821, 'tawar': 2822, 'tayanakan': 2823, 'tda': 2824, 'tdka': 2825, 'tdkkons': 2826, 'te': 2827, 'tebus': 2828, 'tedekat': 2829, 'tegal': 2830, 'tegalombo': 2831, 'tegas': 2832, 'teging': 2833, 'tejing': 2834, 'tek': 2835, 'tekan': 2836, 'teknkn': 2837, 'tekno': 2838, 'telat': 2839, 'telegram': 2840, 'telepon': 2841, 'telfn': 2842, 'telfon': 2843, 'telkom': 2844, 'telp': 2845, 'telpn': 2846, 'telpon': 2847, 'telusur': 2848, 'tema': 2849, 'teman': 2850, 'temanx': 2851, 'temenya': 2852, 'temoat': 2853, 'tempar': 2854, 'tempat': 2855, 'tempatin': 2856, 'tempatk': 2857, 'tempo': 2858, 'tempuh': 2859, 'temu': 2860, 'temuii': 2861, 'tengah': 2862, 'tentangga': 2863, 'tentu': 2864, 'tepat': 2865, 'ter': 2866, 'tera': 2867, 'terang': 2868, 'teraskotakons': 2869, 'teratai': 2870, 'terbukadihubungi': 2871, 'terbukakons': 2872, 'tercapture': 2873, 'tergembokdihubungi': 2874, 'terima': 2875, 'terimakasih': 2876, 'terinput': 2877, 'terinputjadi': 2878, 'terkahir': 2879, 'terkhir': 2880, 'terlhat': 2881, 'terlihatakan': 2882, 'terminal': 2883, 'ternak': 2884, 'terpntau': 2885, 'tervisit': 2886, 'tes': 2887, 'tetang': 2888, 'tetanga': 2889, 'tetangga': 2890, 'tetanggadihuhungi': 2891, 'tetap': 2892, 'tetas': 2893, 'teten': 2894, 'tevus': 2895, 'tf': 2896, 'tgal': 2897, 'tggl': 2898, 'tggu': 2899, 'tgih': 2900, 'tglinfo': 2901, 'tglunit': 2902, 'tgs': 2903, 'tgu': 2904, 'thr': 2905, 'tida': 2906, 'tidaj': 2907, 'tidak': 2908, 'tidaka': 2909, 'tidam': 2910, 'tidk': 2911, 'tidur': 2912, 'tiga': 2913, 'tigad': 2914, 'tikala': 2915, 'tiktok': 2916, 'tilamuta': 2917, 'tim': 2918, 'timah': 2919, 'timaha': 2920, 'timur': 2921, 'tinanggea': 2922, 'tinggal': 2923, 'tinggi': 2924, 'tipes': 2925, 'tipsen': 2926, 'tipu': 2927, 'tirta': 2928, 'titik': 2929, 'titip': 2930, 'titipin': 2931, 'titp': 2932, 'tkk': 2933, 'tkw': 2934, 'tlf': 2935, 'tlfn': 2936, 'tlfon': 2937, 'tlng': 2938, 'tlogomulyo': 2939, 'tlogosari': 2940, 'tlpm': 2941, 'tlpon': 2942, 'tlt': 2943, 'tlv': 2944, 'tlvon': 2945, 'tmbhan': 2946, 'tnggal': 2947, 'tnggang': 2948, 'tni': 2949, 'tnyakan': 2950, 'tof': 2951, 'toko': 2952, 'tokopedia': 2953, 'tokovisit': 2954, 'tol': 2955, 'tolak': 2956, 'tolong': 2957, 'tom': 2958, 'ton': 2959, 'tongkongin': 2960, 'topa': 2961, 'topik': 2962, 'tore': 2963, 'toru': 2964, 'total': 2965, 'tower': 2966, 'tpp': 2967, 'tpt': 2968, 'tra': 2969, 'tracking': 2970, 'training': 2971, 'traininin': 2972, 'trakhir': 2973, 'tranferan': 2974, 'transaksi': 2975, 'transfer': 2976, 'transmigrasi': 2977, 'transmigrasibada': 2978, 'transpacific': 2979, 'travel': 2980, 'trbaru': 2981, 'trbru': 2982, 'trek': 2983, 'triwijayanti': 2984, 'trkait': 2985, 'trlhat': 2986, 'trmpat': 2987, 'tropodo': 2988, 'trosobobertemu': 2989, 'trpantau': 2990, 'truckingpress': 2991, 'truk': 2992, 'ttangga': 2993, 'ttd': 2994, 'ttga': 2995, 'ttngga': 2996, 'ttpesan': 2997, 'ttpi': 2998, 'ttup': 2999, 'tua': 3000, 'tuacust': 3001, 'tuadebitur': 3002, 'tuakonsumen': 3003, 'tuaorang': 3004, 'tuau': 3005, 'tudak': 3006, 'tugas': 3007, 'tukang': 3008, 'tukin': 3009, 'tulungagung': 3010, 'tumor': 3011, 'tumpang': 3012, 'tun': 3013, 'tunai': 3014, 'tunas': 3015, 'tunggak': 3016, 'tunggakanunit': 3017, 'tunggakanx': 3018, 'tunggangri': 3019, 'tunggu': 3020, 'tungu': 3021, 'tunjang': 3022, 'tunjangam': 3023, 'tunjuk': 3024, 'turen': 3025, 'turun': 3026, 'tutup': 3027, 'tv': 3028, 'twman': 3029, 'twmpat': 3030, 'twrlihat': 3031, 'uang': 3032, 'uange': 3033, 'ucok': 3034, 'uji': 3035, 'ukir': 3036, 'ulang': 3037, 'ulanh': 3038, 'ulg': 3039, 'ulp': 3040, 'umag': 3041, 'umen': 3042, 'umk': 3043, 'umum': 3044, 'unag': 3045, 'undur': 3046, 'unggu': 3047, 'ungu': 3048, 'unilever': 3049, 'unit': 3050, 'unitraib': 3051, 'unitsudah': 3052, 'unitvadafu': 3053, 'unjung': 3054, 'untan': 3055, 'unti': 3056, 'ununggu': 3057, 'uoang': 3058, 'up': 3059, 'upah': 3060, 'upaya': 3061, 'update': 3062, 'upline': 3063, 'upload': 3064, 'urban': 3065, 'urus': 3066, 'us': 3067, 'usah': 3068, 'usaha': 3069, 'usahadan': 3070, 'usahain': 3071, 'usahakn': 3072, 'usahatempat': 3073, 'usahkn': 3074, 'usajln': 3075, 'usak': 3076, 'usha': 3077, 'ushaakan': 3078, 'ushain': 3079, 'ushakan': 3080, 'ushakn': 3081, 'ushkan': 3082, 'ushkn': 3083, 'utang': 3084, 'utara': 3085, 'uwur': 3086, 'vai': 3087, 'vailid': 3088, 'valid': 3089, 'validasi': 3090, 'van': 3091, 'vape': 3092, 'vat': 3093, 'vega': 3094, 'versi': 3095, 'via': 3096, 'viait': 3097, 'vian': 3098, 'viawa': 3099, 'viisit': 3100, 'viist': 3101, 'village': 3102, 'vios': 3103, 'virtual': 3104, 'virtualketemu': 3105, 'visi': 3106, 'visist': 3107, 'visit': 3108, 'visitan': 3109, 'visitketemu': 3110, 'visitkontrakan': 3111, 'visitnya': 3112, 'visot': 3113, 'vist': 3114, 'vistul': 3115, 'vita': 3116, 'vjsit': 3117, 'vua': 3118, 'wacana': 3119, 'wahidin': 3120, 'wajib': 3121, 'wakil': 3122, 'waktu': 3123, 'wali': 3124, 'wandula': 3125, 'wanota': 3126, 'wanprestasi': 3127, 'warga': 3128, 'warkopalamat': 3129, 'warkopkons': 3130, 'warna': 3131, 'wartawansebenarnya': 3132, 'warung': 3133, 'warungdowo': 3134, 'warungx': 3135, 'wates': 3136, 'wava': 3137, 'weda': 3138, 'whatsapp': 3139, 'whatshapp': 3140, 'wifi': 3141, 'wilayah': 3142, 'wilson': 3143, 'wiludu': 3144, 'winangun': 3145, 'wings': 3146, 'wip': 3147, 'wom': 3148, 'wonoyoso': 3149, 'wrga': 3150, 'wugono': 3151, 'wusto': 3152, 'xenia': 3153, 'xl': 3154, 'xsternal': 3155, 'yana': 3156, 'yayasan': 3157, 'yba': 3158, 'ybsada': 3159, 'ybsasih': 3160, 'ybsbsudah': 3161, 'ybsdan': 3162, 'ybsdilarang': 3163, 'ybsfu': 3164, 'ybsp': 3165, 'ybssdh': 3166, 'ybssp': 3167, 'ybsybs': 3168, 'yd': 3169, 'yen': 3170, 'yerlihat': 3171, 'yhs': 3172, 'yns': 3173, 'yoga': 3174, 'yunitmenghilang': 3175, 'yunus': 3176, 'yusuf': 3177, 'zaenal': 3178, 'zul': 3179}\n"
          ]
        }
      ],
      "source": [
        "print(vocabulary)"
      ]
    },
    {
      "cell_type": "markdown",
      "metadata": {
        "id": "1xsfKLuHL2Fs"
      },
      "source": [
        "### ***Vectorizer***"
      ]
    },
    {
      "cell_type": "code",
      "execution_count": 8,
      "metadata": {
        "id": "tXsgSfh65s57"
      },
      "outputs": [],
      "source": [
        "count = CountVectorizer(preprocessor=preprocessor.preprocess, vocabulary=vocabulary)\n",
        "X_train = count.fit_transform(train['remarks'])\n",
        "X_test = count.fit_transform(test['remarks'])\n",
        "y_train = train['label']\n",
        "y_test = test['label']"
      ]
    },
    {
      "cell_type": "markdown",
      "metadata": {
        "id": "eofMo5bW7Hai"
      },
      "source": [
        "### ***Naive Bayes Model***"
      ]
    },
    {
      "cell_type": "code",
      "execution_count": 9,
      "metadata": {
        "colab": {
          "base_uri": "https://localhost:8080/"
        },
        "id": "XAkW3_Z_5864",
        "outputId": "d127c0e6-37f3-4bb7-cf53-158facc48a22"
      },
      "outputs": [
        {
          "name": "stdout",
          "output_type": "stream",
          "text": [
            "Top 3 Parameters:\n",
            "Parameter: {'alpha': 0.7000000000000001}, Mean Accuracy: 0.7373\n",
            "Parameter: {'alpha': 0.6}, Mean Accuracy: 0.7369\n",
            "Parameter: {'alpha': 0.4}, Mean Accuracy: 0.7365\n"
          ]
        }
      ],
      "source": [
        "# Membuat param_grid dengan range 0-5 by 0.5\n",
        "param_grid = {'alpha': np.arange(0.1, 10.1, 0.1).tolist()}\n",
        "\n",
        "# GridSearchCV\n",
        "grid = GridSearchCV(MultinomialNB(), param_grid, cv=10, scoring='accuracy')\n",
        "grid.fit(X_train, y_train)\n",
        "\n",
        "# Menampilkan 3 parameter terbaik\n",
        "results = grid.cv_results_\n",
        "top_3_indices = np.argsort(results['mean_test_score'])[-3:][::-1]  # Indeks 3 skor terbaik (descending)\n",
        "\n",
        "print(\"Top 3 Parameters:\")\n",
        "for idx in top_3_indices:\n",
        "    print(f\"Parameter: {results['params'][idx]}, Mean Accuracy: {results['mean_test_score'][idx]:.4f}\")"
      ]
    },
    {
      "cell_type": "code",
      "execution_count": 10,
      "metadata": {
        "colab": {
          "base_uri": "https://localhost:8080/"
        },
        "id": "K5b1Oq-po4sf",
        "outputId": "131efd86-4018-4da8-c57f-b2ad1d050939"
      },
      "outputs": [
        {
          "name": "stdout",
          "output_type": "stream",
          "text": [
            "Accuracy 0.7444444444444445\n",
            "confusion matrix:\n",
            " [[87  1  3  2  3  0  0]\n",
            " [ 5 57  4  4  2  7  2]\n",
            " [ 5  2 63  3  3  8  4]\n",
            " [ 0  8  0 73  1  0  2]\n",
            " [ 2  5  2  3 75  0  3]\n",
            " [ 2  9  5  5  5 68  4]\n",
            " [ 5 10  6 10 11  5 46]]\n",
            "                    precision    recall  f1-score   support\n",
            "\n",
            " business location       0.82      0.91      0.86        96\n",
            "             house       0.62      0.70      0.66        81\n",
            "            office       0.76      0.72      0.74        88\n",
            "other family house       0.73      0.87      0.79        84\n",
            "  other rent house       0.75      0.83      0.79        90\n",
            "            others       0.77      0.69      0.73        98\n",
            "           unknown       0.75      0.49      0.60        93\n",
            "\n",
            "          accuracy                           0.74       630\n",
            "         macro avg       0.74      0.75      0.74       630\n",
            "      weighted avg       0.75      0.74      0.74       630\n",
            "\n"
          ]
        }
      ],
      "source": [
        "# Predict\n",
        "nb = MultinomialNB(alpha=0.3).fit(X_train, y_train)\n",
        "pred_nb = nb.predict(X_test)\n",
        "print(\"Accuracy\", accuracy_score(y_test,pred_nb))\n",
        "\n",
        "print(f'confusion matrix:\\n {confusion_matrix(y_test, pred_nb)}')\n",
        "print(classification_report(y_test, pred_nb, zero_division=0))"
      ]
    },
    {
      "cell_type": "code",
      "execution_count": 11,
      "metadata": {
        "colab": {
          "base_uri": "https://localhost:8080/"
        },
        "id": "Cutxc67RQzMv",
        "outputId": "662dc826-3d50-41ae-ed8f-c480d2c59b17"
      },
      "outputs": [
        {
          "name": "stdout",
          "output_type": "stream",
          "text": [
            "Training Accuracy: 0.8956349206349207\n",
            "Test Accuracy: 0.7444444444444445\n"
          ]
        }
      ],
      "source": [
        "# Predictions for both training and test data\n",
        "train_nb = nb.predict(X_train)\n",
        "\n",
        "# Accuracy for both training and test data\n",
        "train_accuracy = accuracy_score(y_train, train_nb)\n",
        "test_accuracy = accuracy_score(y_test, pred_nb)\n",
        "\n",
        "# Output the results\n",
        "print(\"Training Accuracy:\", train_accuracy)\n",
        "print(\"Test Accuracy:\", test_accuracy)"
      ]
    },
    {
      "cell_type": "code",
      "execution_count": 12,
      "metadata": {
        "colab": {
          "base_uri": "https://localhost:8080/"
        },
        "id": "lJijx6Q54qeX",
        "outputId": "e1790af7-4015-468b-9cfb-7c28f82deb81"
      },
      "outputs": [
        {
          "name": "stdout",
          "output_type": "stream",
          "text": [
            "Akurasi cross-validation: [0.71428571 0.79761905 0.71031746 0.75793651 0.76984127 0.74206349\n",
            " 0.71031746 0.74603175 0.71031746 0.70238095]\n",
            "0.7361111111111112\n"
          ]
        }
      ],
      "source": [
        "from sklearn.metrics import accuracy_score, classification_report, confusion_matrix\n",
        "from sklearn.model_selection import cross_val_score\n",
        "# Cross-validation untuk mengecek kestabilan model\n",
        "cv_nb = cross_val_score(nb, X_train, y_train, cv=10)\n",
        "print(\"Akurasi cross-validation:\", cv_nb)\n",
        "print(cv_nb.mean())"
      ]
    },
    {
      "cell_type": "code",
      "execution_count": 13,
      "metadata": {
        "colab": {
          "base_uri": "https://localhost:8080/",
          "height": 839
        },
        "id": "dUDMfhOu4r7C",
        "outputId": "caec8609-7bad-4913-881b-aeea9c6453b5"
      },
      "outputs": [
        {
          "data": {
            "image/png": "[encoded data removed]",
            "text/plain": [
              "<Figure size 1000x800 with 2 Axes>"
            ]
          },
          "metadata": {},
          "output_type": "display_data"
        }
      ],
      "source": [
        "from sklearn.metrics import confusion_matrix\n",
        "import seaborn as sns\n",
        "import matplotlib.pyplot as plt\n",
        "import numpy as np\n",
        "\n",
        "# Ambil label kelas berdasarkan nilai maksimum prediksi\n",
        "y_pred_classes = np.array(pred_nb)\n",
        "y_true_classes = np.array(y_test)\n",
        "\n",
        "# Hitung confusion matrix\n",
        "conf_matrix = confusion_matrix(y_true_classes, y_pred_classes)\n",
        "\n",
        "# Plot confusion matrix dengan ukuran tulisan yang lebih besar\n",
        "plt.figure(figsize=(10, 8))\n",
        "sns.heatmap(conf_matrix, annot=True, fmt='d', cmap='Blues',\n",
        "            xticklabels=nb.classes_, yticklabels=nb.classes_,\n",
        "            annot_kws={\"size\": 14})  # Mengatur ukuran tulisan\n",
        "plt.xlabel('Predicted Labels', fontsize=14)\n",
        "plt.ylabel('True Labels', fontsize=14)\n",
        "plt.xticks(fontsize=12)\n",
        "plt.yticks(fontsize=12)\n",
        "plt.show()"
      ]
    },
    {
      "cell_type": "code",
      "execution_count": 14,
      "metadata": {
        "id": "gqN-EaEm40Lm"
      },
      "outputs": [],
      "source": [
        "text=[test['remarks'][0]]"
      ]
    },
    {
      "cell_type": "code",
      "execution_count": 15,
      "metadata": {
        "colab": {
          "base_uri": "https://localhost:8080/"
        },
        "id": "WFWyWAT1454Y",
        "outputId": "48e162a3-8c26-4d52-ce53-86dec4c3d863"
      },
      "outputs": [
        {
          "data": {
            "text/plain": [
              "<1x3180 sparse matrix of type '<class 'numpy.int64'>'\n",
              "\twith 9 stored elements in Compressed Sparse Row format>"
            ]
          },
          "execution_count": 15,
          "metadata": {},
          "output_type": "execute_result"
        }
      ],
      "source": [
        "count.fit_transform(text)"
      ]
    },
    {
      "cell_type": "code",
      "execution_count": 16,
      "metadata": {
        "colab": {
          "base_uri": "https://localhost:8080/"
        },
        "id": "wxBMBtNb4-kT",
        "outputId": "033b5707-5bea-4b0a-fa02-55a4722e33ae"
      },
      "outputs": [
        {
          "data": {
            "text/plain": [
              "array(['other family house'], dtype='<U18')"
            ]
          },
          "execution_count": 16,
          "metadata": {},
          "output_type": "execute_result"
        }
      ],
      "source": [
        "nb.predict(count.transform(text))"
      ]
    },
    {
      "cell_type": "code",
      "execution_count": 17,
      "metadata": {
        "id": "2fTh9Jxn5C-S"
      },
      "outputs": [],
      "source": [
        "model=make_pipeline(CountVectorizer(preprocessor=preprocessor.preprocess, vocabulary=vocabulary), MultinomialNB(alpha=0.7))"
      ]
    },
    {
      "cell_type": "code",
      "execution_count": 18,
      "metadata": {
        "colab": {
          "base_uri": "https://localhost:8080/",
          "height": 157
        },
        "id": "ZwX6KBQU5NPd",
        "outputId": "21fab29a-3dba-4ad1-8eb8-855b32b40cf9"
      },
      "outputs": [
        {
          "data": {
            "text/html": [
              "<style>#sk-container-id-1 {\n",
              "  /* Definition of color scheme common for light and dark mode */\n",
              "  --sklearn-color-text: black;\n",
              "  --sklearn-color-line: gray;\n",
              "  /* Definition of color scheme for unfitted estimators */\n",
              "  --sklearn-color-unfitted-level-0: #fff5e6;\n",
              "  --sklearn-color-unfitted-level-1: #f6e4d2;\n",
              "  --sklearn-color-unfitted-level-2: #ffe0b3;\n",
              "  --sklearn-color-unfitted-level-3: chocolate;\n",
              "  /* Definition of color scheme for fitted estimators */\n",
              "  --sklearn-color-fitted-level-0: #f0f8ff;\n",
              "  --sklearn-color-fitted-level-1: #d4ebff;\n",
              "  --sklearn-color-fitted-level-2: #b3dbfd;\n",
              "  --sklearn-color-fitted-level-3: cornflowerblue;\n",
              "\n",
              "  /* Specific color for light theme */\n",
              "  --sklearn-color-text-on-default-background: var(--sg-text-color, var(--theme-code-foreground, var(--jp-content-font-color1, black)));\n",
              "  --sklearn-color-background: var(--sg-background-color, var(--theme-background, var(--jp-layout-color0, white)));\n",
              "  --sklearn-color-border-box: var(--sg-text-color, var(--theme-code-foreground, var(--jp-content-font-color1, black)));\n",
              "  --sklearn-color-icon: #696969;\n",
              "\n",
              "  @media (prefers-color-scheme: dark) {\n",
              "    /* Redefinition of color scheme for dark theme */\n",
              "    --sklearn-color-text-on-default-background: var(--sg-text-color, var(--theme-code-foreground, var(--jp-content-font-color1, white)));\n",
              "    --sklearn-color-background: var(--sg-background-color, var(--theme-background, var(--jp-layout-color0, #111)));\n",
              "    --sklearn-color-border-box: var(--sg-text-color, var(--theme-code-foreground, var(--jp-content-font-color1, white)));\n",
              "    --sklearn-color-icon: #878787;\n",
              "  }\n",
              "}\n",
              "\n",
              "#sk-container-id-1 {\n",
              "  color: var(--sklearn-color-text);\n",
              "}\n",
              "\n",
              "#sk-container-id-1 pre {\n",
              "  padding: 0;\n",
              "}\n",
              "\n",
              "#sk-container-id-1 input.sk-hidden--visually {\n",
              "  border: 0;\n",
              "  clip: rect(1px 1px 1px 1px);\n",
              "  clip: rect(1px, 1px, 1px, 1px);\n",
              "  height: 1px;\n",
              "  margin: -1px;\n",
              "  overflow: hidden;\n",
              "  padding: 0;\n",
              "  position: absolute;\n",
              "  width: 1px;\n",
              "}\n",
              "\n",
              "#sk-container-id-1 div.sk-dashed-wrapped {\n",
              "  border: 1px dashed var(--sklearn-color-line);\n",
              "  margin: 0 0.4em 0.5em 0.4em;\n",
              "  box-sizing: border-box;\n",
              "  padding-bottom: 0.4em;\n",
              "  background-color: var(--sklearn-color-background);\n",
              "}\n",
              "\n",
              "#sk-container-id-1 div.sk-container {\n",
              "  /* jupyter's `normalize.less` sets `[hidden] { display: none; }`\n",
              "     but bootstrap.min.css set `[hidden] { display: none !important; }`\n",
              "     so we also need the `!important` here to be able to override the\n",
              "     default hidden behavior on the sphinx rendered scikit-learn.org.\n",
              "     See: https://github.com/scikit-learn/scikit-learn/issues/21755 */\n",
              "  display: inline-block !important;\n",
              "  position: relative;\n",
              "}\n",
              "\n",
              "#sk-container-id-1 div.sk-text-repr-fallback {\n",
              "  display: none;\n",
              "}\n",
              "\n",
              "div.sk-parallel-item,\n",
              "div.sk-serial,\n",
              "div.sk-item {\n",
              "  /* draw centered vertical line to link estimators */\n",
              "  background-image: linear-gradient(var(--sklearn-color-text-on-default-background), var(--sklearn-color-text-on-default-background));\n",
              "  background-size: 2px 100%;\n",
              "  background-repeat: no-repeat;\n",
              "  background-position: center center;\n",
              "}\n",
              "\n",
              "/* Parallel-specific style estimator block */\n",
              "\n",
              "#sk-container-id-1 div.sk-parallel-item::after {\n",
              "  content: \"\";\n",
              "  width: 100%;\n",
              "  border-bottom: 2px solid var(--sklearn-color-text-on-default-background);\n",
              "  flex-grow: 1;\n",
              "}\n",
              "\n",
              "#sk-container-id-1 div.sk-parallel {\n",
              "  display: flex;\n",
              "  align-items: stretch;\n",
              "  justify-content: center;\n",
              "  background-color: var(--sklearn-color-background);\n",
              "  position: relative;\n",
              "}\n",
              "\n",
              "#sk-container-id-1 div.sk-parallel-item {\n",
              "  display: flex;\n",
              "  flex-direction: column;\n",
              "}\n",
              "\n",
              "#sk-container-id-1 div.sk-parallel-item:first-child::after {\n",
              "  align-self: flex-end;\n",
              "  width: 50%;\n",
              "}\n",
              "\n",
              "#sk-container-id-1 div.sk-parallel-item:last-child::after {\n",
              "  align-self: flex-start;\n",
              "  width: 50%;\n",
              "}\n",
              "\n",
              "#sk-container-id-1 div.sk-parallel-item:only-child::after {\n",
              "  width: 0;\n",
              "}\n",
              "\n",
              "/* Serial-specific style estimator block */\n",
              "\n",
              "#sk-container-id-1 div.sk-serial {\n",
              "  display: flex;\n",
              "  flex-direction: column;\n",
              "  align-items: center;\n",
              "  background-color: var(--sklearn-color-background);\n",
              "  padding-right: 1em;\n",
              "  padding-left: 1em;\n",
              "}\n",
              "\n",
              "\n",
              "/* Toggleable style: style used for estimator/Pipeline/ColumnTransformer box that is\n",
              "clickable and can be expanded/collapsed.\n",
              "- Pipeline and ColumnTransformer use this feature and define the default style\n",
              "- Estimators will overwrite some part of the style using the `sk-estimator` class\n",
              "*/\n",
              "\n",
              "/* Pipeline and ColumnTransformer style (default) */\n",
              "\n",
              "#sk-container-id-1 div.sk-toggleable {\n",
              "  /* Default theme specific background. It is overwritten whether we have a\n",
              "  specific estimator or a Pipeline/ColumnTransformer */\n",
              "  background-color: var(--sklearn-color-background);\n",
              "}\n",
              "\n",
              "/* Toggleable label */\n",
              "#sk-container-id-1 label.sk-toggleable__label {\n",
              "  cursor: pointer;\n",
              "  display: block;\n",
              "  width: 100%;\n",
              "  margin-bottom: 0;\n",
              "  padding: 0.5em;\n",
              "  box-sizing: border-box;\n",
              "  text-align: center;\n",
              "}\n",
              "\n",
              "#sk-container-id-1 label.sk-toggleable__label-arrow:before {\n",
              "  /* Arrow on the left of the label */\n",
              "  content: \"▸\";\n",
              "  float: left;\n",
              "  margin-right: 0.25em;\n",
              "  color: var(--sklearn-color-icon);\n",
              "}\n",
              "\n",
              "#sk-container-id-1 label.sk-toggleable__label-arrow:hover:before {\n",
              "  color: var(--sklearn-color-text);\n",
              "}\n",
              "\n",
              "/* Toggleable content - dropdown */\n",
              "\n",
              "#sk-container-id-1 div.sk-toggleable__content {\n",
              "  max-height: 0;\n",
              "  max-width: 0;\n",
              "  overflow: hidden;\n",
              "  text-align: left;\n",
              "  /* unfitted */\n",
              "  background-color: var(--sklearn-color-unfitted-level-0);\n",
              "}\n",
              "\n",
              "#sk-container-id-1 div.sk-toggleable__content.fitted {\n",
              "  /* fitted */\n",
              "  background-color: var(--sklearn-color-fitted-level-0);\n",
              "}\n",
              "\n",
              "#sk-container-id-1 div.sk-toggleable__content pre {\n",
              "  margin: 0.2em;\n",
              "  border-radius: 0.25em;\n",
              "  color: var(--sklearn-color-text);\n",
              "  /* unfitted */\n",
              "  background-color: var(--sklearn-color-unfitted-level-0);\n",
              "}\n",
              "\n",
              "#sk-container-id-1 div.sk-toggleable__content.fitted pre {\n",
              "  /* unfitted */\n",
              "  background-color: var(--sklearn-color-fitted-level-0);\n",
              "}\n",
              "\n",
              "#sk-container-id-1 input.sk-toggleable__control:checked~div.sk-toggleable__content {\n",
              "  /* Expand drop-down */\n",
              "  max-height: 200px;\n",
              "  max-width: 100%;\n",
              "  overflow: auto;\n",
              "}\n",
              "\n",
              "#sk-container-id-1 input.sk-toggleable__control:checked~label.sk-toggleable__label-arrow:before {\n",
              "  content: \"▾\";\n",
              "}\n",
              "\n",
              "/* Pipeline/ColumnTransformer-specific style */\n",
              "\n",
              "#sk-container-id-1 div.sk-label input.sk-toggleable__control:checked~label.sk-toggleable__label {\n",
              "  color: var(--sklearn-color-text);\n",
              "  background-color: var(--sklearn-color-unfitted-level-2);\n",
              "}\n",
              "\n",
              "#sk-container-id-1 div.sk-label.fitted input.sk-toggleable__control:checked~label.sk-toggleable__label {\n",
              "  background-color: var(--sklearn-color-fitted-level-2);\n",
              "}\n",
              "\n",
              "/* Estimator-specific style */\n",
              "\n",
              "/* Colorize estimator box */\n",
              "#sk-container-id-1 div.sk-estimator input.sk-toggleable__control:checked~label.sk-toggleable__label {\n",
              "  /* unfitted */\n",
              "  background-color: var(--sklearn-color-unfitted-level-2);\n",
              "}\n",
              "\n",
              "#sk-container-id-1 div.sk-estimator.fitted input.sk-toggleable__control:checked~label.sk-toggleable__label {\n",
              "  /* fitted */\n",
              "  background-color: var(--sklearn-color-fitted-level-2);\n",
              "}\n",
              "\n",
              "#sk-container-id-1 div.sk-label label.sk-toggleable__label,\n",
              "#sk-container-id-1 div.sk-label label {\n",
              "  /* The background is the default theme color */\n",
              "  color: var(--sklearn-color-text-on-default-background);\n",
              "}\n",
              "\n",
              "/* On hover, darken the color of the background */\n",
              "#sk-container-id-1 div.sk-label:hover label.sk-toggleable__label {\n",
              "  color: var(--sklearn-color-text);\n",
              "  background-color: var(--sklearn-color-unfitted-level-2);\n",
              "}\n",
              "\n",
              "/* Label box, darken color on hover, fitted */\n",
              "#sk-container-id-1 div.sk-label.fitted:hover label.sk-toggleable__label.fitted {\n",
              "  color: var(--sklearn-color-text);\n",
              "  background-color: var(--sklearn-color-fitted-level-2);\n",
              "}\n",
              "\n",
              "/* Estimator label */\n",
              "\n",
              "#sk-container-id-1 div.sk-label label {\n",
              "  font-family: monospace;\n",
              "  font-weight: bold;\n",
              "  display: inline-block;\n",
              "  line-height: 1.2em;\n",
              "}\n",
              "\n",
              "#sk-container-id-1 div.sk-label-container {\n",
              "  text-align: center;\n",
              "}\n",
              "\n",
              "/* Estimator-specific */\n",
              "#sk-container-id-1 div.sk-estimator {\n",
              "  font-family: monospace;\n",
              "  border: 1px dotted var(--sklearn-color-border-box);\n",
              "  border-radius: 0.25em;\n",
              "  box-sizing: border-box;\n",
              "  margin-bottom: 0.5em;\n",
              "  /* unfitted */\n",
              "  background-color: var(--sklearn-color-unfitted-level-0);\n",
              "}\n",
              "\n",
              "#sk-container-id-1 div.sk-estimator.fitted {\n",
              "  /* fitted */\n",
              "  background-color: var(--sklearn-color-fitted-level-0);\n",
              "}\n",
              "\n",
              "/* on hover */\n",
              "#sk-container-id-1 div.sk-estimator:hover {\n",
              "  /* unfitted */\n",
              "  background-color: var(--sklearn-color-unfitted-level-2);\n",
              "}\n",
              "\n",
              "#sk-container-id-1 div.sk-estimator.fitted:hover {\n",
              "  /* fitted */\n",
              "  background-color: var(--sklearn-color-fitted-level-2);\n",
              "}\n",
              "\n",
              "/* Specification for estimator info (e.g. \"i\" and \"?\") */\n",
              "\n",
              "/* Common style for \"i\" and \"?\" */\n",
              "\n",
              ".sk-estimator-doc-link,\n",
              "a:link.sk-estimator-doc-link,\n",
              "a:visited.sk-estimator-doc-link {\n",
              "  float: right;\n",
              "  font-size: smaller;\n",
              "  line-height: 1em;\n",
              "  font-family: monospace;\n",
              "  background-color: var(--sklearn-color-background);\n",
              "  border-radius: 1em;\n",
              "  height: 1em;\n",
              "  width: 1em;\n",
              "  text-decoration: none !important;\n",
              "  margin-left: 1ex;\n",
              "  /* unfitted */\n",
              "  border: var(--sklearn-color-unfitted-level-1) 1pt solid;\n",
              "  color: var(--sklearn-color-unfitted-level-1);\n",
              "}\n",
              "\n",
              ".sk-estimator-doc-link.fitted,\n",
              "a:link.sk-estimator-doc-link.fitted,\n",
              "a:visited.sk-estimator-doc-link.fitted {\n",
              "  /* fitted */\n",
              "  border: var(--sklearn-color-fitted-level-1) 1pt solid;\n",
              "  color: var(--sklearn-color-fitted-level-1);\n",
              "}\n",
              "\n",
              "/* On hover */\n",
              "div.sk-estimator:hover .sk-estimator-doc-link:hover,\n",
              ".sk-estimator-doc-link:hover,\n",
              "div.sk-label-container:hover .sk-estimator-doc-link:hover,\n",
              ".sk-estimator-doc-link:hover {\n",
              "  /* unfitted */\n",
              "  background-color: var(--sklearn-color-unfitted-level-3);\n",
              "  color: var(--sklearn-color-background);\n",
              "  text-decoration: none;\n",
              "}\n",
              "\n",
              "div.sk-estimator.fitted:hover .sk-estimator-doc-link.fitted:hover,\n",
              ".sk-estimator-doc-link.fitted:hover,\n",
              "div.sk-label-container:hover .sk-estimator-doc-link.fitted:hover,\n",
              ".sk-estimator-doc-link.fitted:hover {\n",
              "  /* fitted */\n",
              "  background-color: var(--sklearn-color-fitted-level-3);\n",
              "  color: var(--sklearn-color-background);\n",
              "  text-decoration: none;\n",
              "}\n",
              "\n",
              "/* Span, style for the box shown on hovering the info icon */\n",
              ".sk-estimator-doc-link span {\n",
              "  display: none;\n",
              "  z-index: 9999;\n",
              "  position: relative;\n",
              "  font-weight: normal;\n",
              "  right: .2ex;\n",
              "  padding: .5ex;\n",
              "  margin: .5ex;\n",
              "  width: min-content;\n",
              "  min-width: 20ex;\n",
              "  max-width: 50ex;\n",
              "  color: var(--sklearn-color-text);\n",
              "  box-shadow: 2pt 2pt 4pt #999;\n",
              "  /* unfitted */\n",
              "  background: var(--sklearn-color-unfitted-level-0);\n",
              "  border: .5pt solid var(--sklearn-color-unfitted-level-3);\n",
              "}\n",
              "\n",
              ".sk-estimator-doc-link.fitted span {\n",
              "  /* fitted */\n",
              "  background: var(--sklearn-color-fitted-level-0);\n",
              "  border: var(--sklearn-color-fitted-level-3);\n",
              "}\n",
              "\n",
              ".sk-estimator-doc-link:hover span {\n",
              "  display: block;\n",
              "}\n",
              "\n",
              "/* \"?\"-specific style due to the `<a>` HTML tag */\n",
              "\n",
              "#sk-container-id-1 a.estimator_doc_link {\n",
              "  float: right;\n",
              "  font-size: 1rem;\n",
              "  line-height: 1em;\n",
              "  font-family: monospace;\n",
              "  background-color: var(--sklearn-color-background);\n",
              "  border-radius: 1rem;\n",
              "  height: 1rem;\n",
              "  width: 1rem;\n",
              "  text-decoration: none;\n",
              "  /* unfitted */\n",
              "  color: var(--sklearn-color-unfitted-level-1);\n",
              "  border: var(--sklearn-color-unfitted-level-1) 1pt solid;\n",
              "}\n",
              "\n",
              "#sk-container-id-1 a.estimator_doc_link.fitted {\n",
              "  /* fitted */\n",
              "  border: var(--sklearn-color-fitted-level-1) 1pt solid;\n",
              "  color: var(--sklearn-color-fitted-level-1);\n",
              "}\n",
              "\n",
              "/* On hover */\n",
              "#sk-container-id-1 a.estimator_doc_link:hover {\n",
              "  /* unfitted */\n",
              "  background-color: var(--sklearn-color-unfitted-level-3);\n",
              "  color: var(--sklearn-color-background);\n",
              "  text-decoration: none;\n",
              "}\n",
              "\n",
              "#sk-container-id-1 a.estimator_doc_link.fitted:hover {\n",
              "  /* fitted */\n",
              "  background-color: var(--sklearn-color-fitted-level-3);\n",
              "}\n",
              "</style><div id=\"sk-container-id-1\" class=\"sk-top-container\"><div class=\"sk-text-repr-fallback\"><pre>Pipeline(steps=[(&#x27;countvectorizer&#x27;,\n",
              "                 CountVectorizer(preprocessor=&lt;bound method TextCleaning.preprocess of &lt;__main__.TextCleaning object at 0x000001E3ED1276A0&gt;&gt;,\n",
              "                                 vocabulary={&#x27;abai&#x27;: 0, &#x27;abang&#x27;: 1, &#x27;abar&#x27;: 2,\n",
              "                                             &#x27;abd&#x27;: 3, &#x27;abdi&#x27;: 4, &#x27;abgkat&#x27;: 5,\n",
              "                                             &#x27;abk&#x27;: 6, &#x27;absen&#x27;: 7, &#x27;acara&#x27;: 8,\n",
              "                                             &#x27;access&#x27;: 9, &#x27;account&#x27;: 10,\n",
              "                                             &#x27;aceh&#x27;: 11, &#x27;activity&#x27;: 12,\n",
              "                                             &#x27;activty&#x27;: 13, &#x27;ada&#x27;: 14,\n",
              "                                             &#x27;adabertemu&#x27;: 15, &#x27;adaby&#x27;: 16,\n",
              "                                             &#x27;adainfo&#x27;: 17, &#x27;adajanji&#x27;: 18,\n",
              "                                             &#x27;adajb&#x27;: 19, &#x27;adak&#x27;: 20,\n",
              "                                             &#x27;adakons&#x27;: 21, &#x27;adaplan&#x27;: 22,\n",
              "                                             &#x27;adarumah&#x27;: 23, &#x27;adasedang&#x27;: 24,\n",
              "                                             &#x27;adaybs&#x27;: 25, &#x27;adc&#x27;: 26,\n",
              "                                             &#x27;address&#x27;: 27, &#x27;adek&#x27;: 28,\n",
              "                                             &#x27;adha&#x27;: 29, ...})),\n",
              "                (&#x27;multinomialnb&#x27;, MultinomialNB(alpha=0.7))])</pre><b>In a Jupyter environment, please rerun this cell to show the HTML representation or trust the notebook. <br />On GitHub, the HTML representation is unable to render, please try loading this page with nbviewer.org.</b></div><div class=\"sk-container\" hidden><div class=\"sk-item sk-dashed-wrapped\"><div class=\"sk-label-container\"><div class=\"sk-label fitted sk-toggleable\"><input class=\"sk-toggleable__control sk-hidden--visually\" id=\"sk-estimator-id-1\" type=\"checkbox\" ><label for=\"sk-estimator-id-1\" class=\"sk-toggleable__label fitted sk-toggleable__label-arrow fitted\">&nbsp;&nbsp;Pipeline<a class=\"sk-estimator-doc-link fitted\" rel=\"noreferrer\" target=\"_blank\" href=\"https://scikit-learn.org/1.4/modules/generated/sklearn.pipeline.Pipeline.html\">?<span>Documentation for Pipeline</span></a><span class=\"sk-estimator-doc-link fitted\">i<span>Fitted</span></span></label><div class=\"sk-toggleable__content fitted\"><pre>Pipeline(steps=[(&#x27;countvectorizer&#x27;,\n",
              "                 CountVectorizer(preprocessor=&lt;bound method TextCleaning.preprocess of &lt;__main__.TextCleaning object at 0x000001E3ED1276A0&gt;&gt;,\n",
              "                                 vocabulary={&#x27;abai&#x27;: 0, &#x27;abang&#x27;: 1, &#x27;abar&#x27;: 2,\n",
              "                                             &#x27;abd&#x27;: 3, &#x27;abdi&#x27;: 4, &#x27;abgkat&#x27;: 5,\n",
              "                                             &#x27;abk&#x27;: 6, &#x27;absen&#x27;: 7, &#x27;acara&#x27;: 8,\n",
              "                                             &#x27;access&#x27;: 9, &#x27;account&#x27;: 10,\n",
              "                                             &#x27;aceh&#x27;: 11, &#x27;activity&#x27;: 12,\n",
              "                                             &#x27;activty&#x27;: 13, &#x27;ada&#x27;: 14,\n",
              "                                             &#x27;adabertemu&#x27;: 15, &#x27;adaby&#x27;: 16,\n",
              "                                             &#x27;adainfo&#x27;: 17, &#x27;adajanji&#x27;: 18,\n",
              "                                             &#x27;adajb&#x27;: 19, &#x27;adak&#x27;: 20,\n",
              "                                             &#x27;adakons&#x27;: 21, &#x27;adaplan&#x27;: 22,\n",
              "                                             &#x27;adarumah&#x27;: 23, &#x27;adasedang&#x27;: 24,\n",
              "                                             &#x27;adaybs&#x27;: 25, &#x27;adc&#x27;: 26,\n",
              "                                             &#x27;address&#x27;: 27, &#x27;adek&#x27;: 28,\n",
              "                                             &#x27;adha&#x27;: 29, ...})),\n",
              "                (&#x27;multinomialnb&#x27;, MultinomialNB(alpha=0.7))])</pre></div> </div></div><div class=\"sk-serial\"><div class=\"sk-item\"><div class=\"sk-estimator fitted sk-toggleable\"><input class=\"sk-toggleable__control sk-hidden--visually\" id=\"sk-estimator-id-2\" type=\"checkbox\" ><label for=\"sk-estimator-id-2\" class=\"sk-toggleable__label fitted sk-toggleable__label-arrow fitted\">&nbsp;CountVectorizer<a class=\"sk-estimator-doc-link fitted\" rel=\"noreferrer\" target=\"_blank\" href=\"https://scikit-learn.org/1.4/modules/generated/sklearn.feature_extraction.text.CountVectorizer.html\">?<span>Documentation for CountVectorizer</span></a></label><div class=\"sk-toggleable__content fitted\"><pre>CountVectorizer(preprocessor=&lt;bound method TextCleaning.preprocess of &lt;__main__.TextCleaning object at 0x000001E3ED1276A0&gt;&gt;,\n",
              "                vocabulary={&#x27;abai&#x27;: 0, &#x27;abang&#x27;: 1, &#x27;abar&#x27;: 2, &#x27;abd&#x27;: 3,\n",
              "                            &#x27;abdi&#x27;: 4, &#x27;abgkat&#x27;: 5, &#x27;abk&#x27;: 6, &#x27;absen&#x27;: 7,\n",
              "                            &#x27;acara&#x27;: 8, &#x27;access&#x27;: 9, &#x27;account&#x27;: 10, &#x27;aceh&#x27;: 11,\n",
              "                            &#x27;activity&#x27;: 12, &#x27;activty&#x27;: 13, &#x27;ada&#x27;: 14,\n",
              "                            &#x27;adabertemu&#x27;: 15, &#x27;adaby&#x27;: 16, &#x27;adainfo&#x27;: 17,\n",
              "                            &#x27;adajanji&#x27;: 18, &#x27;adajb&#x27;: 19, &#x27;adak&#x27;: 20,\n",
              "                            &#x27;adakons&#x27;: 21, &#x27;adaplan&#x27;: 22, &#x27;adarumah&#x27;: 23,\n",
              "                            &#x27;adasedang&#x27;: 24, &#x27;adaybs&#x27;: 25, &#x27;adc&#x27;: 26,\n",
              "                            &#x27;address&#x27;: 27, &#x27;adek&#x27;: 28, &#x27;adha&#x27;: 29, ...})</pre></div> </div></div><div class=\"sk-item\"><div class=\"sk-estimator fitted sk-toggleable\"><input class=\"sk-toggleable__control sk-hidden--visually\" id=\"sk-estimator-id-3\" type=\"checkbox\" ><label for=\"sk-estimator-id-3\" class=\"sk-toggleable__label fitted sk-toggleable__label-arrow fitted\">&nbsp;MultinomialNB<a class=\"sk-estimator-doc-link fitted\" rel=\"noreferrer\" target=\"_blank\" href=\"https://scikit-learn.org/1.4/modules/generated/sklearn.naive_bayes.MultinomialNB.html\">?<span>Documentation for MultinomialNB</span></a></label><div class=\"sk-toggleable__content fitted\"><pre>MultinomialNB(alpha=0.7)</pre></div> </div></div></div></div></div></div>"
            ],
            "text/plain": [
              "Pipeline(steps=[('countvectorizer',\n",
              "                 CountVectorizer(preprocessor=<bound method TextCleaning.preprocess of <__main__.TextCleaning object at 0x000001E3ED1276A0>>,\n",
              "                                 vocabulary={'abai': 0, 'abang': 1, 'abar': 2,\n",
              "                                             'abd': 3, 'abdi': 4, 'abgkat': 5,\n",
              "                                             'abk': 6, 'absen': 7, 'acara': 8,\n",
              "                                             'access': 9, 'account': 10,\n",
              "                                             'aceh': 11, 'activity': 12,\n",
              "                                             'activty': 13, 'ada': 14,\n",
              "                                             'adabertemu': 15, 'adaby': 16,\n",
              "                                             'adainfo': 17, 'adajanji': 18,\n",
              "                                             'adajb': 19, 'adak': 20,\n",
              "                                             'adakons': 21, 'adaplan': 22,\n",
              "                                             'adarumah': 23, 'adasedang': 24,\n",
              "                                             'adaybs': 25, 'adc': 26,\n",
              "                                             'address': 27, 'adek': 28,\n",
              "                                             'adha': 29, ...})),\n",
              "                ('multinomialnb', MultinomialNB(alpha=0.7))])"
            ]
          },
          "execution_count": 18,
          "metadata": {},
          "output_type": "execute_result"
        }
      ],
      "source": [
        "model.fit(train['remarks'], train['label'])"
      ]
    },
    {
      "cell_type": "code",
      "execution_count": 19,
      "metadata": {
        "colab": {
          "base_uri": "https://localhost:8080/"
        },
        "id": "gBlCLwtu5PEF",
        "outputId": "8ff9044e-a644-4cae-b552-18133dad3746"
      },
      "outputs": [
        {
          "data": {
            "text/plain": [
              "array(['other family house'], dtype='<U18')"
            ]
          },
          "execution_count": 19,
          "metadata": {},
          "output_type": "execute_result"
        }
      ],
      "source": [
        "model.predict(text)"
      ]
    },
    {
      "cell_type": "code",
      "execution_count": null,
      "metadata": {
        "id": "B1G-Klrw5TAI"
      },
      "outputs": [],
      "source": [
        "import pickle\n",
        "with open('MultinomialNB_ver1.1.pkl', 'wb') as f:\n",
        "    pickle.dump(model, f)"
      ]
    },
    {
      "cell_type": "code",
      "execution_count": 21,
      "metadata": {
        "id": "r1tG6XxH5a4e"
      },
      "outputs": [],
      "source": [
        "# with open('MultinomialNB_ver1.0_update.pkl', 'rb') as f:\n",
        "#     model_load = pickle.load(f)"
      ]
    },
    {
      "cell_type": "code",
      "execution_count": 22,
      "metadata": {
        "id": "sSuXzRXW5dV_"
      },
      "outputs": [],
      "source": [
        "# model_load.predict(text)"
      ]
    },
    {
      "cell_type": "code",
      "execution_count": 23,
      "metadata": {
        "id": "RMzy6EodigiV"
      },
      "outputs": [],
      "source": [
        "# # prompt: show the wrong prediction from X_test but in the format of the original remarks before it was vectorized\n",
        "\n",
        "# import numpy as np\n",
        "# import pandas as pd\n",
        "\n",
        "# # Assuming 'X_test', 'y_test', 'pred_nb', 'test' (original dataframe), and 'preprocessor' are defined as in your provided code.\n",
        "\n",
        "# # Find indices where predictions are wrong\n",
        "# wrong_predictions_indices = np.where(y_test != pred_nb)[0]\n",
        "\n",
        "# # Extract original remarks from the test set for the wrong predictions\n",
        "# wrong_predictions_remarks = test.iloc[wrong_predictions_indices]['remarks']\n",
        "\n",
        "# # Print the original remarks along with their predicted and true labels\n",
        "# for i, remark in enumerate(wrong_predictions_remarks):\n",
        "#     predicted_label = pred_nb[wrong_predictions_indices[i]]\n",
        "#     true_label = y_test.iloc[wrong_predictions_indices[i]]\n",
        "#     print(f\"Original Remark: {remark}\")\n",
        "#     print(f\"Predicted Label: {predicted_label}\")\n",
        "#     print(f\"True Label: {true_label}\")\n",
        "#     print(\"-\" * 20)"
      ]
    }
  ],
  "metadata": {
    "colab": {
      "provenance": []
    },
    "kernelspec": {
      "display_name": "BSD-005",
      "language": "python",
      "name": "python3"
    },
    "language_info": {
      "codemirror_mode": {
        "name": "ipython",
        "version": 3
      },
      "file_extension": ".py",
      "mimetype": "text/x-python",
      "name": "python",
      "nbconvert_exporter": "python",
      "pygments_lexer": "ipython3",
      "version": "3.9.18"
    }
  },
  "nbformat": 4,
  "nbformat_minor": 0
}
